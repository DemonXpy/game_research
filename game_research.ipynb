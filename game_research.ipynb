{
 "cells": [
  {
   "cell_type": "markdown",
   "metadata": {},
   "source": [
    "<div style=\"border-radius: 15px; border: 3px solid black; padding: 15px;\">\n",
    "<b>Привет 👋</b>\n",
    "<p>Меня зовут _______, я - ревьюер твоего проекта. Перейдём сразу на «ты», если не против. </p>  \n",
    "<p>При проверке я буду использовать следующие виды комментариев 🚦:</p>\n",
    "<hr>    \n",
    "<div style=\"border-radius: 3px; border: 2px solid black; padding: 0px;\">    \n",
    "<div class=\"alert alert-danger\">\n",
    "<b>Комментарий ревьюера ❌:</b> Важные замечания, без отработки которых проект не будет принят </div>\n",
    "</div>\n",
    "<hr>   \n",
    "<div style=\"border-radius: 3px; border: 2px solid black; padding: 0px;\">      \n",
    "<div class=\"alert alert-warning\">\n",
    "<b>Комментарий ревьюера ⚠️:</b> Замечания и рекомендации, необязательные к отработке (если их не больше 3-х) </div>\n",
    "</div>\n",
    "<hr>  \n",
    "<div style=\"border-radius: 3px; border: 2px solid black; padding: 0px;\">     \n",
    "<div class=\"alert alert-success\">\n",
    "<b>Комментарий ревьюера ✔️:</b> Отличные решения и идеи, которые можно и нужно использовать в будущем </div>\n",
    "</div>\n",
    "    \n",
    "<hr> \n",
    "    \n",
    "Предлагаю работать над проектом в диалоге: **Комментарии, если ты что-то меняешь в проекте, хочешь задать вопрос или отвечаешь мне, прошу выделить каким-нибудь цветом, кроме тех, что я использовал выше.** Как вариант, можешь обозначить их так:\n",
    "    \n",
    "<hr>\n",
    "    \n",
    "<div style=\"border-radius: 3px; border: 2px solid black; padding: 0px;\"> \n",
    "<div class=\"alert alert-block alert-info\">\n",
    "<b>Комментарий студента 🎓:</b>\n",
    "    \n",
    "   \n",
    "</div> \n",
    "</div>\n",
    "    \n",
    "<hr> \n",
    "    \n",
    "Также я прошу тебя **не менять, не передвигать и не удалять мои комментарии**, чтобы при последующей проверке мне было проще ориентироваться.\n",
    "        \n",
    "<hr>\n",
    "    \n",
    "**По проекту:** Молодец, была проделана большая работа! Есть [моменты, которые нужно исправить](#result-1) - их я подробно отразил в своих комментариях. Если появятся вопросы, с радостью на них отвечу (также вопросы можно задавать преподавателю по проектам в слаке). Верю, что ты со всем справишься, и с нетерпением жду проект на повторную проверку!\n",
    "    \n",
    "    \n",
    "**По проекту V.2:** Почти все замечания были отработаны, хорошая работа! Осталось ещё [немного постараться](#result-2), верю в тебя и жду проект на проверку 😉\n",
    "    \n",
    "**По проекту V.3:** В итоге получилась очень сильная работа! Видно, что вложено много труда, осознанность присутствует в каждой фразе и в каждом действии! Очень редко встречаются подобные проекты, которые хочется снова перечитать и ставить в пример остальным студентам! Надеюсь, что ты продолжишь использовать такой подход и после перенесёшь в работу, где, я уверен, у тебя всё получится! ⭐⭐⭐⭐⭐ \n",
    "    \n",
    "**P.s.** Такой комментарий я пишу крайне редко, если работа в итоге действительно произвела на меня впечатление\n",
    "    \n",
    "**P.s.s.** Проект принят, поздравляю! Надеюсь, что смог помочь тебе сделать ещё один шаг на пути обучения, в котором желаю тебе удачи и больших успехов! Оставил ещё пару комментариев в работе и [полезные ссылки](#benefit) в конце 😎     \n",
    "    \n",
    "\n",
    "</div>"
   ]
  },
  {
   "cell_type": "markdown",
   "metadata": {},
   "source": [
    "<div style=\"border-radius: 3px; border: 2px solid black; padding: 0px;\">\n",
    "<div class=\"alert alert-block alert-info\">\n",
    "<b>Комментарий студента 🎓:</b>\n",
    "\n",
    "Привет, _______! Меня зовут Дима, и я очень благодарен за твоё ревью. Много ошибок деморализует, но с другой стороны, это повод дополнительно разобраться в этих вопросах и получить больше знаний! :)\n",
    "Обязательно отвечу на все твои замечания и рекомендации, а где-то задам вопросы.\n",
    "   \n",
    "</div>\n",
    "</div>"
   ]
  },
  {
   "cell_type": "markdown",
   "metadata": {},
   "source": [
    "<div style=\"border-radius: 3px; border: 2px solid black; padding: 0px;\">     \n",
    "<div class=\"alert alert-success\">\n",
    "<b>Комментарий ревьюера V.2 ✔️:</b> \n",
    "    \n",
    "Дима, доброй ночи! Это не ошибки, а точки роста, где, как ты верно заметил, можно получить больше знаний и разобраться. Проект крепкий, выполненный почти на отлично (думаю, что 'почти' мы уберём после доработок и я оставлю комментарий для отличников). Некоторые вещи ты можешь не знать в силу отсутствия опыта и знаний в предметной области, а это всё будет впереди и обязательно придёт. На вопросы обязательно отвечу, верю в тебя, поехали!   \n",
    "\n",
    "</div>\n",
    "</div>"
   ]
  },
  {
   "cell_type": "markdown",
   "metadata": {},
   "source": [
    "<div style=\"border-radius: 3px; border: 2px solid black; padding: 0px;\">\n",
    "<div class=\"alert alert-block alert-info\">\n",
    "<b>Комментарий студента V.2🎓:</b>\n",
    "\n",
    "И тебе теперь доброй ночи! Надеюсь, что мы уже на финишной прямой(скрестил пальцы)! Ещё пару раз - и у нас с тобой всё получится?)\n",
    "   \n",
    "</div>\n",
    "</div>"
   ]
  },
  {
   "cell_type": "markdown",
   "metadata": {},
   "source": [
    "<div style=\"border-radius: 3px; border: 2px solid black; padding: 0px;\">     \n",
    "<div class=\"alert alert-success\">\n",
    "<b>Комментарий ревьюера V.3 ✔️:</b> \n",
    "    \n",
    "Думаю, раза 3-4 еще)\n",
    "\n",
    "</div>\n",
    "</div>"
   ]
  },
  {
   "cell_type": "markdown",
   "metadata": {},
   "source": [
    "## <a id='toc1_1_'></a>[Описание проекта](#toc0_)\n",
    "\n",
    "У нас в распоряжении есть данные из открытых источников о различных играх. В них присутствуют данные о названии игр, платформе, на которой они вышли, годе выпуска, жанре, продажах в Северной Америке, Европе, Японии и других странах, возрастном рейтинге, а также и сведения о рейтинге среди пользователей и критиков до 2016 года. Перед нами стоит задача: выяснить, существует ли какая-то закономерность в игровых данных, которая определяет успешность игры. Это поможет определить потенциально популярные игры и сделать на них ставку."
   ]
  },
  {
   "cell_type": "markdown",
   "metadata": {},
   "source": [
    "### <a id='toc1_1_1_'></a>[Этапы работы](#toc0_)\n",
    "\n",
    "При выполнении проекта можно выделить следующие этапы работы:\n",
    "- Предобработка данных\n",
    "- Проведение исследовательского анализа в части:\n",
    "  1. Сколько игр выпускалось в разные годы;\n",
    "  2. Как менялись продажи по платформам;\n",
    "  3. Выделение платформ - лидеров продаж;\n",
    "  4. Оценить, как влияют на продажи отзывы пользоватей и критиков;\n",
    "  5. Определение самых прибыльных жанров.\n",
    "- Составление портрета пользователя каждого региона (Северная Америка, Европа, Япония):\n",
    "  1. Определить ТОП-5 самых популярных платформ;\n",
    "  2. Определить ТОП-5 самых популярных жанров;\n",
    "  3. Влияние рейтинга ESRB на продажи в отдельном регионе.\n",
    "- Проверка гипотез:\n",
    "  1. Средние пользовательские рейтинги платформ Xbox One и PC одинаковые;\n",
    "  2. Средние пользовательские рейтинги жанров \"Action\" и \"Sports\" разные.\n",
    "- Общий вывод"
   ]
  },
  {
   "cell_type": "markdown",
   "metadata": {},
   "source": [
    "### <a id='toc1_1_2_'></a>[Содержание](#toc0_)"
   ]
  },
  {
   "cell_type": "markdown",
   "metadata": {},
   "source": [
    "<!-- vscode-jupyter-toc -->\n",
    "<!-- THIS CELL WILL BE REPLACED ON TOC UPDATE. DO NOT WRITE YOUR TEXT IN THIS CELL -->\n",
    "<a id='toc0_'></a>   \n",
    "- [Описание проекта](#toc1_1_)    \n",
    "    - [Этапы работы](#toc1_1_1_)    \n",
    "    - [Содержание](#toc1_1_2_)    \n",
    "  - [Предобработка данных](#toc1_2_)    \n",
    "    - [Вывод в блоке предобработки данных](#toc1_2_1_)    \n",
    "  - [Проведение исследовательского анализа](#toc1_3_)    \n",
    "    - [Посмотрим, сколько игр выпускалось в разные годы.](#toc1_3_1_)    \n",
    "    - [Посмотрим, как менялись продажи по платформам в течение времени.](#toc1_3_2_)    \n",
    "    - [Выделение платформ - лидеров продаж](#toc1_3_3_)    \n",
    "    - [Влияние отзывов пользователей и критиков](#toc1_3_4_)    \n",
    "    - [Определение самых прибыльных жанров](#toc1_3_5_)    \n",
    "    - [Вывод в блоке исследовательского анализа данных](#toc1_3_6_)    \n",
    "  - [Портрет пользователя в каждом регионе](#toc1_4_)    \n",
    "    - [ТОП-5 популярных платформ](#toc1_4_1_)    \n",
    "    - [ТОП-5 популярных жанров](#toc1_4_2_)    \n",
    "    - [Влияние рейтинга ESRB](#toc1_4_3_)    \n",
    "    - [Выводы по портрету пользователей](#toc1_4_4_)    \n",
    "  - [Проверка гипотез](#toc1_5_)    \n",
    "    - [$H_0$: средние пользовательские рейтинги платформ Xbox One и PC одинаковые](#toc1_5_1_)    \n",
    "    - [$H_0$: средние пользовательские рейтинги жанров \"Action\" и \"Sports\" одинаковые.](#toc1_5_2_)    \n",
    "    - [Промежуточный вывод](#toc1_5_3_)    \n",
    "  - [Общий вывод](#toc1_6_)    \n",
    "\n",
    "<!-- vscode-jupyter-toc-config\n",
    "\tnumbering=false\n",
    "\tanchor=true\n",
    "\tflat=false\n",
    "\tminLevel=1\n",
    "\tmaxLevel=6\n",
    "\t/vscode-jupyter-toc-config -->\n",
    "<!-- /vscode-jupyter-toc -->"
   ]
  },
  {
   "cell_type": "markdown",
   "metadata": {},
   "source": [
    "<div style=\"border-radius: 3px; border: 2px solid black; padding: 0px;\">     \n",
    "<div class=\"alert alert-success\">\n",
    "<b>Комментарий ревьюера ✔️:</b> \n",
    "    \n",
    "Молодец, хорошее содержание! Грамотно сконфигурированный план показывает тебя как ответственного и усидчивого специалиста, к тому же делает работу более структурированной и солидной! 🔥   \n",
    "\n",
    "</div>\n",
    "</div>"
   ]
  },
  {
   "cell_type": "markdown",
   "metadata": {},
   "source": [
    "## <a id='toc1_2_'></a>[Предобработка данных](#toc0_)"
   ]
  },
  {
   "cell_type": "code",
   "execution_count": 1,
   "metadata": {},
   "outputs": [],
   "source": [
    "import matplotlib.pyplot as plt\n",
    "import numpy as np\n",
    "import pandas as pd\n",
    "\n",
    "data = pd.read_csv('/datasets/games.csv')"
   ]
  },
  {
   "cell_type": "code",
   "execution_count": 2,
   "metadata": {},
   "outputs": [
    {
     "name": "stdout",
     "output_type": "stream",
     "text": [
      "<class 'pandas.core.frame.DataFrame'>\n",
      "RangeIndex: 16715 entries, 0 to 16714\n",
      "Data columns (total 11 columns):\n",
      " #   Column           Non-Null Count  Dtype  \n",
      "---  ------           --------------  -----  \n",
      " 0   Name             16713 non-null  object \n",
      " 1   Platform         16715 non-null  object \n",
      " 2   Year_of_Release  16446 non-null  float64\n",
      " 3   Genre            16713 non-null  object \n",
      " 4   NA_sales         16715 non-null  float64\n",
      " 5   EU_sales         16715 non-null  float64\n",
      " 6   JP_sales         16715 non-null  float64\n",
      " 7   Other_sales      16715 non-null  float64\n",
      " 8   Critic_Score     8137 non-null   float64\n",
      " 9   User_Score       10014 non-null  object \n",
      " 10  Rating           9949 non-null   object \n",
      "dtypes: float64(6), object(5)\n",
      "memory usage: 1.4+ MB\n"
     ]
    }
   ],
   "source": [
    "data.info()"
   ]
  },
  {
   "cell_type": "markdown",
   "metadata": {},
   "source": [
    "На первый взгляд в данных мы видим следующие проблемы:\n",
    "\n",
    "1. Названия колонок - необходимо привести к нижнему регистру.\n",
    "2. Типы данных в колонках:\n",
    "   - В колонке `year_of_release` содержатся данные `float`, хотя по смыслу должны быть `int`.\n",
    "   - В колонке `user_score` тип данных `object`, хотя по логике должны быть типа `float`.\n",
    "3. В данных содержатся пропуски:\n",
    "   - В колонках `name`, `year_of_release`, `genre`: небольшое количество пропусков. Их можно удалить.\n",
    "   - В колонках `critic_score`, `user_score`, `rating` содержится много пропусков. Их, скорее всего, можно будет заполнить медианными значениями.\n",
    "4. Возможно в данных содержатся дубликаты, их надо удалить."
   ]
  },
  {
   "cell_type": "markdown",
   "metadata": {},
   "source": [
    "<div style=\"border-radius: 3px; border: 2px solid black; padding: 0px;\">     \n",
    "<div class=\"alert alert-success\">\n",
    "<b>Комментарий ревьюера ✔️:</b> \n",
    "    \n",
    "Отлично, в выводе отражены все основные моменты после загрузки и первичного осмотра данных 😎      \n",
    "\n",
    "</div>\n",
    "</div>"
   ]
  },
  {
   "cell_type": "code",
   "execution_count": 3,
   "metadata": {},
   "outputs": [],
   "source": [
    "data.columns = data.columns.str.lower()"
   ]
  },
  {
   "cell_type": "markdown",
   "metadata": {},
   "source": [
    "Названия колонок к нижнему регистру привели. Теперь посмотрим содержимое `data`."
   ]
  },
  {
   "cell_type": "markdown",
   "metadata": {},
   "source": [
    "<div style=\"border-radius: 3px; border: 2px solid black; padding: 0px;\">     \n",
    "<div class=\"alert alert-success\">\n",
    "<b>Комментарий ревьюера ✔️:</b> \n",
    "    \n",
    "Отлично, привели названия признаков в порядок 👍   \n",
    "\n",
    "</div>\n",
    "</div>"
   ]
  },
  {
   "cell_type": "code",
   "execution_count": 4,
   "metadata": {},
   "outputs": [
    {
     "data": {
      "text/html": [
       "<div>\n",
       "<style scoped>\n",
       "    .dataframe tbody tr th:only-of-type {\n",
       "        vertical-align: middle;\n",
       "    }\n",
       "\n",
       "    .dataframe tbody tr th {\n",
       "        vertical-align: top;\n",
       "    }\n",
       "\n",
       "    .dataframe thead th {\n",
       "        text-align: right;\n",
       "    }\n",
       "</style>\n",
       "<table border=\"1\" class=\"dataframe\">\n",
       "  <thead>\n",
       "    <tr style=\"text-align: right;\">\n",
       "      <th></th>\n",
       "      <th>name</th>\n",
       "      <th>platform</th>\n",
       "      <th>year_of_release</th>\n",
       "      <th>genre</th>\n",
       "      <th>na_sales</th>\n",
       "      <th>eu_sales</th>\n",
       "      <th>jp_sales</th>\n",
       "      <th>other_sales</th>\n",
       "      <th>critic_score</th>\n",
       "      <th>user_score</th>\n",
       "      <th>rating</th>\n",
       "    </tr>\n",
       "  </thead>\n",
       "  <tbody>\n",
       "    <tr>\n",
       "      <th>0</th>\n",
       "      <td>Wii Sports</td>\n",
       "      <td>Wii</td>\n",
       "      <td>2006.0</td>\n",
       "      <td>Sports</td>\n",
       "      <td>41.36</td>\n",
       "      <td>28.96</td>\n",
       "      <td>3.77</td>\n",
       "      <td>8.45</td>\n",
       "      <td>76.0</td>\n",
       "      <td>8</td>\n",
       "      <td>E</td>\n",
       "    </tr>\n",
       "    <tr>\n",
       "      <th>1</th>\n",
       "      <td>Super Mario Bros.</td>\n",
       "      <td>NES</td>\n",
       "      <td>1985.0</td>\n",
       "      <td>Platform</td>\n",
       "      <td>29.08</td>\n",
       "      <td>3.58</td>\n",
       "      <td>6.81</td>\n",
       "      <td>0.77</td>\n",
       "      <td>NaN</td>\n",
       "      <td>NaN</td>\n",
       "      <td>NaN</td>\n",
       "    </tr>\n",
       "    <tr>\n",
       "      <th>2</th>\n",
       "      <td>Mario Kart Wii</td>\n",
       "      <td>Wii</td>\n",
       "      <td>2008.0</td>\n",
       "      <td>Racing</td>\n",
       "      <td>15.68</td>\n",
       "      <td>12.76</td>\n",
       "      <td>3.79</td>\n",
       "      <td>3.29</td>\n",
       "      <td>82.0</td>\n",
       "      <td>8.3</td>\n",
       "      <td>E</td>\n",
       "    </tr>\n",
       "    <tr>\n",
       "      <th>3</th>\n",
       "      <td>Wii Sports Resort</td>\n",
       "      <td>Wii</td>\n",
       "      <td>2009.0</td>\n",
       "      <td>Sports</td>\n",
       "      <td>15.61</td>\n",
       "      <td>10.93</td>\n",
       "      <td>3.28</td>\n",
       "      <td>2.95</td>\n",
       "      <td>80.0</td>\n",
       "      <td>8</td>\n",
       "      <td>E</td>\n",
       "    </tr>\n",
       "    <tr>\n",
       "      <th>4</th>\n",
       "      <td>Pokemon Red/Pokemon Blue</td>\n",
       "      <td>GB</td>\n",
       "      <td>1996.0</td>\n",
       "      <td>Role-Playing</td>\n",
       "      <td>11.27</td>\n",
       "      <td>8.89</td>\n",
       "      <td>10.22</td>\n",
       "      <td>1.00</td>\n",
       "      <td>NaN</td>\n",
       "      <td>NaN</td>\n",
       "      <td>NaN</td>\n",
       "    </tr>\n",
       "  </tbody>\n",
       "</table>\n",
       "</div>"
      ],
      "text/plain": [
       "                       name platform  year_of_release         genre  na_sales  \\\n",
       "0                Wii Sports      Wii           2006.0        Sports     41.36   \n",
       "1         Super Mario Bros.      NES           1985.0      Platform     29.08   \n",
       "2            Mario Kart Wii      Wii           2008.0        Racing     15.68   \n",
       "3         Wii Sports Resort      Wii           2009.0        Sports     15.61   \n",
       "4  Pokemon Red/Pokemon Blue       GB           1996.0  Role-Playing     11.27   \n",
       "\n",
       "   eu_sales  jp_sales  other_sales  critic_score user_score rating  \n",
       "0     28.96      3.77         8.45          76.0          8      E  \n",
       "1      3.58      6.81         0.77           NaN        NaN    NaN  \n",
       "2     12.76      3.79         3.29          82.0        8.3      E  \n",
       "3     10.93      3.28         2.95          80.0          8      E  \n",
       "4      8.89     10.22         1.00           NaN        NaN    NaN  "
      ]
     },
     "execution_count": 4,
     "metadata": {},
     "output_type": "execute_result"
    }
   ],
   "source": [
    "data.head()"
   ]
  },
  {
   "cell_type": "markdown",
   "metadata": {},
   "source": [
    "Приведём колонку `year_of_release` к типу `int`."
   ]
  },
  {
   "cell_type": "code",
   "execution_count": 5,
   "metadata": {},
   "outputs": [],
   "source": [
    "data['year_of_release'] = data['year_of_release'].astype('Int64')\n",
    "# data['year_of_release'] = pd.to_datetime(data['year_of_release'], format='%Y').dt.strftime('%Y')"
   ]
  },
  {
   "cell_type": "code",
   "execution_count": 6,
   "metadata": {},
   "outputs": [
    {
     "name": "stdout",
     "output_type": "stream",
     "text": [
      "<class 'pandas.core.frame.DataFrame'>\n",
      "RangeIndex: 16715 entries, 0 to 16714\n",
      "Data columns (total 11 columns):\n",
      " #   Column           Non-Null Count  Dtype  \n",
      "---  ------           --------------  -----  \n",
      " 0   name             16713 non-null  object \n",
      " 1   platform         16715 non-null  object \n",
      " 2   year_of_release  16446 non-null  Int64  \n",
      " 3   genre            16713 non-null  object \n",
      " 4   na_sales         16715 non-null  float64\n",
      " 5   eu_sales         16715 non-null  float64\n",
      " 6   jp_sales         16715 non-null  float64\n",
      " 7   other_sales      16715 non-null  float64\n",
      " 8   critic_score     8137 non-null   float64\n",
      " 9   user_score       10014 non-null  object \n",
      " 10  rating           9949 non-null   object \n",
      "dtypes: Int64(1), float64(5), object(5)\n",
      "memory usage: 1.4+ MB\n"
     ]
    }
   ],
   "source": [
    "data.info()"
   ]
  },
  {
   "cell_type": "markdown",
   "metadata": {},
   "source": [
    "Посмотрим уникальные значения колонки `user_score`:"
   ]
  },
  {
   "cell_type": "code",
   "execution_count": 7,
   "metadata": {},
   "outputs": [
    {
     "data": {
      "text/plain": [
       "array(['8', nan, '8.3', '8.5', '6.6', '8.4', '8.6', '7.7', '6.3', '7.4',\n",
       "       '8.2', '9', '7.9', '8.1', '8.7', '7.1', '3.4', '5.3', '4.8', '3.2',\n",
       "       '8.9', '6.4', '7.8', '7.5', '2.6', '7.2', '9.2', '7', '7.3', '4.3',\n",
       "       '7.6', '5.7', '5', '9.1', '6.5', 'tbd', '8.8', '6.9', '9.4', '6.8',\n",
       "       '6.1', '6.7', '5.4', '4', '4.9', '4.5', '9.3', '6.2', '4.2', '6',\n",
       "       '3.7', '4.1', '5.8', '5.6', '5.5', '4.4', '4.6', '5.9', '3.9',\n",
       "       '3.1', '2.9', '5.2', '3.3', '4.7', '5.1', '3.5', '2.5', '1.9', '3',\n",
       "       '2.7', '2.2', '2', '9.5', '2.1', '3.6', '2.8', '1.8', '3.8', '0',\n",
       "       '1.6', '9.6', '2.4', '1.7', '1.1', '0.3', '1.5', '0.7', '1.2',\n",
       "       '2.3', '0.5', '1.3', '0.2', '0.6', '1.4', '0.9', '1', '9.7'],\n",
       "      dtype=object)"
      ]
     },
     "execution_count": 7,
     "metadata": {},
     "output_type": "execute_result"
    }
   ],
   "source": [
    "data['user_score'].unique()"
   ]
  },
  {
   "cell_type": "code",
   "execution_count": 8,
   "metadata": {},
   "outputs": [
    {
     "data": {
      "text/plain": [
       "tbd    2424\n",
       "7.8     324\n",
       "8       290\n",
       "8.2     282\n",
       "8.3     254\n",
       "       ... \n",
       "1         2\n",
       "1.9       2\n",
       "0.7       2\n",
       "9.7       1\n",
       "0         1\n",
       "Name: user_score, Length: 96, dtype: int64"
      ]
     },
     "execution_count": 8,
     "metadata": {},
     "output_type": "execute_result"
    }
   ],
   "source": [
    "data['user_score'].value_counts()"
   ]
  },
  {
   "cell_type": "code",
   "execution_count": 9,
   "metadata": {},
   "outputs": [
    {
     "data": {
      "text/plain": [
       "E       3990\n",
       "T       2961\n",
       "M       1563\n",
       "E10+    1420\n",
       "EC         8\n",
       "RP         3\n",
       "K-A        3\n",
       "AO         1\n",
       "Name: rating, dtype: int64"
      ]
     },
     "execution_count": 9,
     "metadata": {},
     "output_type": "execute_result"
    }
   ],
   "source": [
    "data['rating'].value_counts()"
   ]
  },
  {
   "cell_type": "markdown",
   "metadata": {},
   "source": [
    "Мы видим строковое значение `tbd` в столбце `user_score`, которое, скорее всего, расшифровывается как `To Be Determinated` - означающее, что рейтинг ещё не определён. Поменяем эти значения на `nan` и поменяем тип данных на `float`."
   ]
  },
  {
   "cell_type": "code",
   "execution_count": 10,
   "metadata": {},
   "outputs": [],
   "source": [
    "data['user_score'] = data['user_score'].replace('tbd', np.nan).astype('float')"
   ]
  },
  {
   "cell_type": "markdown",
   "metadata": {},
   "source": [
    "<div style=\"border-radius: 3px; border: 2px solid black; padding: 0px;\">     \n",
    "<div class=\"alert alert-success\">\n",
    "<b>Комментарий ревьюера ✔️:</b> \n",
    "    \n",
    "Отлично ⭐   \n",
    "\n",
    "</div>\n",
    "</div>"
   ]
  },
  {
   "cell_type": "markdown",
   "metadata": {},
   "source": [
    "Теперь удалим строки с пропусками в колонках `name`, `year_of_release`, `genre`."
   ]
  },
  {
   "cell_type": "code",
   "execution_count": 11,
   "metadata": {},
   "outputs": [],
   "source": [
    "data = data.dropna(subset=['name', 'year_of_release', 'genre']).reset_index(drop=True)"
   ]
  },
  {
   "cell_type": "markdown",
   "metadata": {},
   "source": [
    "Переходим к заполнению пропусков в колонках `critic_score`, `user_score`, `rating`."
   ]
  },
  {
   "cell_type": "code",
   "execution_count": 12,
   "metadata": {},
   "outputs": [
    {
     "data": {
      "text/html": [
       "<div>\n",
       "<style scoped>\n",
       "    .dataframe tbody tr th:only-of-type {\n",
       "        vertical-align: middle;\n",
       "    }\n",
       "\n",
       "    .dataframe tbody tr th {\n",
       "        vertical-align: top;\n",
       "    }\n",
       "\n",
       "    .dataframe thead th {\n",
       "        text-align: right;\n",
       "    }\n",
       "</style>\n",
       "<table border=\"1\" class=\"dataframe\">\n",
       "  <thead>\n",
       "    <tr style=\"text-align: right;\">\n",
       "      <th></th>\n",
       "      <th>name</th>\n",
       "      <th>platform</th>\n",
       "      <th>year_of_release</th>\n",
       "      <th>genre</th>\n",
       "      <th>na_sales</th>\n",
       "      <th>eu_sales</th>\n",
       "      <th>jp_sales</th>\n",
       "      <th>other_sales</th>\n",
       "      <th>critic_score</th>\n",
       "      <th>user_score</th>\n",
       "      <th>rating</th>\n",
       "    </tr>\n",
       "  </thead>\n",
       "  <tbody>\n",
       "    <tr>\n",
       "      <th>0</th>\n",
       "      <td>Wii Sports</td>\n",
       "      <td>Wii</td>\n",
       "      <td>2006</td>\n",
       "      <td>Sports</td>\n",
       "      <td>41.36</td>\n",
       "      <td>28.96</td>\n",
       "      <td>3.77</td>\n",
       "      <td>8.45</td>\n",
       "      <td>76.0</td>\n",
       "      <td>8.0</td>\n",
       "      <td>E</td>\n",
       "    </tr>\n",
       "    <tr>\n",
       "      <th>1</th>\n",
       "      <td>Super Mario Bros.</td>\n",
       "      <td>NES</td>\n",
       "      <td>1985</td>\n",
       "      <td>Platform</td>\n",
       "      <td>29.08</td>\n",
       "      <td>3.58</td>\n",
       "      <td>6.81</td>\n",
       "      <td>0.77</td>\n",
       "      <td>NaN</td>\n",
       "      <td>NaN</td>\n",
       "      <td>NaN</td>\n",
       "    </tr>\n",
       "    <tr>\n",
       "      <th>2</th>\n",
       "      <td>Mario Kart Wii</td>\n",
       "      <td>Wii</td>\n",
       "      <td>2008</td>\n",
       "      <td>Racing</td>\n",
       "      <td>15.68</td>\n",
       "      <td>12.76</td>\n",
       "      <td>3.79</td>\n",
       "      <td>3.29</td>\n",
       "      <td>82.0</td>\n",
       "      <td>8.3</td>\n",
       "      <td>E</td>\n",
       "    </tr>\n",
       "    <tr>\n",
       "      <th>3</th>\n",
       "      <td>Wii Sports Resort</td>\n",
       "      <td>Wii</td>\n",
       "      <td>2009</td>\n",
       "      <td>Sports</td>\n",
       "      <td>15.61</td>\n",
       "      <td>10.93</td>\n",
       "      <td>3.28</td>\n",
       "      <td>2.95</td>\n",
       "      <td>80.0</td>\n",
       "      <td>8.0</td>\n",
       "      <td>E</td>\n",
       "    </tr>\n",
       "    <tr>\n",
       "      <th>4</th>\n",
       "      <td>Pokemon Red/Pokemon Blue</td>\n",
       "      <td>GB</td>\n",
       "      <td>1996</td>\n",
       "      <td>Role-Playing</td>\n",
       "      <td>11.27</td>\n",
       "      <td>8.89</td>\n",
       "      <td>10.22</td>\n",
       "      <td>1.00</td>\n",
       "      <td>NaN</td>\n",
       "      <td>NaN</td>\n",
       "      <td>NaN</td>\n",
       "    </tr>\n",
       "    <tr>\n",
       "      <th>5</th>\n",
       "      <td>Tetris</td>\n",
       "      <td>GB</td>\n",
       "      <td>1989</td>\n",
       "      <td>Puzzle</td>\n",
       "      <td>23.20</td>\n",
       "      <td>2.26</td>\n",
       "      <td>4.22</td>\n",
       "      <td>0.58</td>\n",
       "      <td>NaN</td>\n",
       "      <td>NaN</td>\n",
       "      <td>NaN</td>\n",
       "    </tr>\n",
       "    <tr>\n",
       "      <th>6</th>\n",
       "      <td>New Super Mario Bros.</td>\n",
       "      <td>DS</td>\n",
       "      <td>2006</td>\n",
       "      <td>Platform</td>\n",
       "      <td>11.28</td>\n",
       "      <td>9.14</td>\n",
       "      <td>6.50</td>\n",
       "      <td>2.88</td>\n",
       "      <td>89.0</td>\n",
       "      <td>8.5</td>\n",
       "      <td>E</td>\n",
       "    </tr>\n",
       "    <tr>\n",
       "      <th>7</th>\n",
       "      <td>Wii Play</td>\n",
       "      <td>Wii</td>\n",
       "      <td>2006</td>\n",
       "      <td>Misc</td>\n",
       "      <td>13.96</td>\n",
       "      <td>9.18</td>\n",
       "      <td>2.93</td>\n",
       "      <td>2.84</td>\n",
       "      <td>58.0</td>\n",
       "      <td>6.6</td>\n",
       "      <td>E</td>\n",
       "    </tr>\n",
       "    <tr>\n",
       "      <th>8</th>\n",
       "      <td>New Super Mario Bros. Wii</td>\n",
       "      <td>Wii</td>\n",
       "      <td>2009</td>\n",
       "      <td>Platform</td>\n",
       "      <td>14.44</td>\n",
       "      <td>6.94</td>\n",
       "      <td>4.70</td>\n",
       "      <td>2.24</td>\n",
       "      <td>87.0</td>\n",
       "      <td>8.4</td>\n",
       "      <td>E</td>\n",
       "    </tr>\n",
       "    <tr>\n",
       "      <th>9</th>\n",
       "      <td>Duck Hunt</td>\n",
       "      <td>NES</td>\n",
       "      <td>1984</td>\n",
       "      <td>Shooter</td>\n",
       "      <td>26.93</td>\n",
       "      <td>0.63</td>\n",
       "      <td>0.28</td>\n",
       "      <td>0.47</td>\n",
       "      <td>NaN</td>\n",
       "      <td>NaN</td>\n",
       "      <td>NaN</td>\n",
       "    </tr>\n",
       "  </tbody>\n",
       "</table>\n",
       "</div>"
      ],
      "text/plain": [
       "                        name platform  year_of_release         genre  \\\n",
       "0                 Wii Sports      Wii             2006        Sports   \n",
       "1          Super Mario Bros.      NES             1985      Platform   \n",
       "2             Mario Kart Wii      Wii             2008        Racing   \n",
       "3          Wii Sports Resort      Wii             2009        Sports   \n",
       "4   Pokemon Red/Pokemon Blue       GB             1996  Role-Playing   \n",
       "5                     Tetris       GB             1989        Puzzle   \n",
       "6      New Super Mario Bros.       DS             2006      Platform   \n",
       "7                   Wii Play      Wii             2006          Misc   \n",
       "8  New Super Mario Bros. Wii      Wii             2009      Platform   \n",
       "9                  Duck Hunt      NES             1984       Shooter   \n",
       "\n",
       "   na_sales  eu_sales  jp_sales  other_sales  critic_score  user_score rating  \n",
       "0     41.36     28.96      3.77         8.45          76.0         8.0      E  \n",
       "1     29.08      3.58      6.81         0.77           NaN         NaN    NaN  \n",
       "2     15.68     12.76      3.79         3.29          82.0         8.3      E  \n",
       "3     15.61     10.93      3.28         2.95          80.0         8.0      E  \n",
       "4     11.27      8.89     10.22         1.00           NaN         NaN    NaN  \n",
       "5     23.20      2.26      4.22         0.58           NaN         NaN    NaN  \n",
       "6     11.28      9.14      6.50         2.88          89.0         8.5      E  \n",
       "7     13.96      9.18      2.93         2.84          58.0         6.6      E  \n",
       "8     14.44      6.94      4.70         2.24          87.0         8.4      E  \n",
       "9     26.93      0.63      0.28         0.47           NaN         NaN    NaN  "
      ]
     },
     "execution_count": 12,
     "metadata": {},
     "output_type": "execute_result"
    }
   ],
   "source": [
    "data.head(10)"
   ]
  },
  {
   "cell_type": "markdown",
   "metadata": {},
   "source": [
    "В колонках `critic_score` и `user_score` оставим пропуски незаполненными, т.к. это может повлиять на результаты исследования. Также колонка `rating` содержит категориальные переменные (`возрастной рейтинг`) и её заполнить медианными значениями мы не сможем, иначе мы можем ошибочно присвоить игре с \"детским\" рейтингом, рейтинг \"18+\" и наоборот. Поэтому пропуски в колонке `rating` заполнять пока не будем.\n",
    "\n",
    "Судя по первым строчкам таблицы, можно сказать, что пропуски в данных характерны для игр, выпущенных достаточно давно(либо игра не была достаточно популярна), и поэтому оценка рейтингов по ним не проводилась (организация ESRB, составляющая рейтинги для игр, организована только в 1994 году)."
   ]
  },
  {
   "cell_type": "markdown",
   "metadata": {},
   "source": [
    "<div style=\"border-radius: 3px; border: 2px solid black; padding: 0px;\">    \n",
    "<div class=\"alert alert-danger\">\n",
    "<s>Комментарий ревьюера ❌:</b> \n",
    "\n",
    "Исходя из чего ты считаешь данную замену на медиану для ```'critic_score','user_score'``` корректной? В данном случае пропусков слишком много, чтобы мы могли их корректно восстановить, к тому же замены сильно отражаются на результатах исследования вопросов влияния отзывов на продажи и проверок гипотез - это видно по значениям корреляции, графикам и p-значениям. После доработок в проекте необходимо обнавить выводы   \n",
    "    \n",
    "</div>\n",
    "</div>"
   ]
  },
  {
   "cell_type": "markdown",
   "metadata": {},
   "source": [
    "<div style=\"border-radius: 3px; border: 2px solid black; padding: 0px;\">\n",
    "<div class=\"alert alert-block alert-info\">\n",
    "<b>Комментарий студента 🎓:</b>\n",
    "\n",
    "Согласен, пропусков много и в этот момент у меня всегда происходят муки выбора, что делать с большим количеством пропусков, что в принципе относится к \"большому количеству\" пропусков. Читал в статьях, что большинство исследователей часто пользуются заполнением пропусков медианой, даже не смотря на то, что это может исказить данные. В проекте по недвижке от Яндекса решил не заполнять пропуски, и мне сказали их заполнить, хотя они сильнее искажали данные, чем в этом проекте. Может ты подскажешь, как определиться, стоит ли заполнять пропуски или нет?\n",
    "\n",
    "Здесь попробуем не заполнять пропуски.`\n",
    "   \n",
    "</div> \n",
    "</div> "
   ]
  },
  {
   "cell_type": "markdown",
   "metadata": {},
   "source": [
    "<div style=\"border-radius: 3px; border: 2px solid black; padding: 0px;\">     \n",
    "<div class=\"alert alert-success\">\n",
    "<b>Комментарий ревьюера V.2 ✔️:</b> \n",
    "    \n",
    "Конечно, всегда рад помочь. Всё зависит от характера тех данных, которые нам дают для работы и от поставленных задач. От проекта к проекту они отличаются, поэтому и в проекте по недвижке тебе дали другую рекомендацию. У нас, например, пропуски в rating нужно заменить значением заглушкой, потому что так мы покажем то, что в Японии рейтинг ESRB вообще не используется. Про случай оценок критиков и пользователей и то, из-за чего мы ничего не предпринимаем, я написал в комментарии выше. Это придёт с опытом и практикой, общего шаблона тут, к сожалению, нет. По поводу количества: если после удаления пропусков у нас останется >90% данных, то пропусков было немного и решение об удалении оправдано. Также нужно смотреть на характер пропусков: случайный он или системный, чтобы понимать, что с ними делать и что говорить коллегам, которые собирают данные для работы.   \n",
    "\n",
    "</div>\n",
    "</div>"
   ]
  },
  {
   "cell_type": "markdown",
   "metadata": {},
   "source": [
    "<div style=\"border-radius: 3px; border: 2px solid black; padding: 0px;\">\n",
    "<div class=\"alert alert-block alert-info\">\n",
    "<b>Комментарий студента V.2🎓:</b>\n",
    "\n",
    "Вот да, выполняя проект предыдущий раз, пришла в голову мысль, что почему-то в Японии рейтинги не используются. Точнее, ESRB не хочет оценивать японские игры, видимо)\n",
    "   \n",
    "</div> \n",
    "</div> "
   ]
  },
  {
   "cell_type": "markdown",
   "metadata": {},
   "source": [
    "Проверим колонки `name`, `paltform`, `genre` и `rating` на неявные дубликаты, сравнив количество уникальных значений до приведения данных к нижнему регистру и после. `True` будет означать, что дубликатов нет."
   ]
  },
  {
   "cell_type": "code",
   "execution_count": 13,
   "metadata": {},
   "outputs": [
    {
     "name": "stdout",
     "output_type": "stream",
     "text": [
      "True name\n",
      "True platform\n",
      "True genre\n",
      "True rating\n"
     ]
    }
   ],
   "source": [
    "for col in ['name', 'platform', 'genre', 'rating']:\n",
    "    print(len(data[col].unique()) == len(data[col].str.lower().unique()), col)"
   ]
  },
  {
   "cell_type": "markdown",
   "metadata": {},
   "source": [
    "<div style=\"border-radius: 3px; border: 2px solid black; padding: 0px;\">     \n",
    "<div class=\"alert alert-success\">\n",
    "<b>Комментарий ревьюера ✔️:</b> \n",
    "    \n",
    "Отлично ⭐   \n",
    "\n",
    "</div>\n",
    "</div>"
   ]
  },
  {
   "cell_type": "code",
   "execution_count": 14,
   "metadata": {},
   "outputs": [
    {
     "data": {
      "text/plain": [
       "array(['E', nan, 'M', 'T', 'E10+', 'K-A', 'AO', 'EC', 'RP'], dtype=object)"
      ]
     },
     "execution_count": 14,
     "metadata": {},
     "output_type": "execute_result"
    }
   ],
   "source": [
    "data['rating'].unique()"
   ]
  },
  {
   "cell_type": "markdown",
   "metadata": {},
   "source": [
    "Здесь мы видим различные возрастные рейтинги. Из примечательного: рейтинг `E`(everyone) и `K-A`(Kids to Adult). Судя по открытым источникам - это один и тот же рейтинг, только `K-A` это старое значение. Заменим `K-A` на `E`, после чего удалим дубликаты из наших данных.\n",
    "\n",
    "Также мы видим наличие данных `RP` - `Rating Pending`(Рейтинг ожидается). Заполним все пропуски этим значением."
   ]
  },
  {
   "cell_type": "code",
   "execution_count": 15,
   "metadata": {},
   "outputs": [],
   "source": [
    "data['rating'].replace('K-A', 'E', inplace=True)"
   ]
  },
  {
   "cell_type": "code",
   "execution_count": 16,
   "metadata": {},
   "outputs": [],
   "source": [
    "data['rating'].fillna('RP', inplace=True)"
   ]
  },
  {
   "cell_type": "code",
   "execution_count": 17,
   "metadata": {},
   "outputs": [
    {
     "name": "stdout",
     "output_type": "stream",
     "text": [
      "0\n"
     ]
    }
   ],
   "source": [
    "print(data.duplicated().sum())\n",
    "data = data.drop_duplicates()"
   ]
  },
  {
   "cell_type": "markdown",
   "metadata": {},
   "source": [
    "Явных дубликатов не нашли, это хорошо. Посмотрим уникальные значения в столбце `rating` и приведём их к более понятному нам."
   ]
  },
  {
   "cell_type": "code",
   "execution_count": 18,
   "metadata": {},
   "outputs": [
    {
     "data": {
      "text/plain": [
       "array(['E', 'RP', 'M', 'T', 'E10+', 'AO', 'EC'], dtype=object)"
      ]
     },
     "execution_count": 18,
     "metadata": {},
     "output_type": "execute_result"
    }
   ],
   "source": [
    "data['rating'].unique()"
   ]
  },
  {
   "cell_type": "code",
   "execution_count": 19,
   "metadata": {},
   "outputs": [],
   "source": [
    "def rating_to_rus(rate):\n",
    "    translate_dict = {\n",
    "        'E': 'Для всех',\n",
    "        'M': 'Для взрослых',\n",
    "        'T': 'Подросткам',\n",
    "        'E10+': 'Для всех 10+',\n",
    "        'AO': 'Только для взрослых',\n",
    "        'EC': 'Для детей младшего возраста',\n",
    "        'RP': 'Рейтинг ожидается'\n",
    "    }\n",
    "    return translate_dict[rate]\n",
    "\n",
    "data['rating_rus'] = data['rating'].apply(rating_to_rus)"
   ]
  },
  {
   "cell_type": "markdown",
   "metadata": {},
   "source": [
    "<div style=\"border-radius: 3px; border: 2px solid black; padding: 0px;\">     \n",
    "<div class=\"alert alert-success\">\n",
    "<b>Комментарий ревьюера ✔️:</b> \n",
    "    \n",
    "Отлично ⭐   \n",
    "\n",
    "</div>\n",
    "</div>"
   ]
  },
  {
   "cell_type": "code",
   "execution_count": 20,
   "metadata": {},
   "outputs": [
    {
     "data": {
      "text/html": [
       "<div>\n",
       "<style scoped>\n",
       "    .dataframe tbody tr th:only-of-type {\n",
       "        vertical-align: middle;\n",
       "    }\n",
       "\n",
       "    .dataframe tbody tr th {\n",
       "        vertical-align: top;\n",
       "    }\n",
       "\n",
       "    .dataframe thead th {\n",
       "        text-align: right;\n",
       "    }\n",
       "</style>\n",
       "<table border=\"1\" class=\"dataframe\">\n",
       "  <thead>\n",
       "    <tr style=\"text-align: right;\">\n",
       "      <th></th>\n",
       "      <th>name</th>\n",
       "      <th>platform</th>\n",
       "      <th>year_of_release</th>\n",
       "      <th>genre</th>\n",
       "      <th>na_sales</th>\n",
       "      <th>eu_sales</th>\n",
       "      <th>jp_sales</th>\n",
       "      <th>other_sales</th>\n",
       "      <th>critic_score</th>\n",
       "      <th>user_score</th>\n",
       "      <th>rating</th>\n",
       "      <th>rating_rus</th>\n",
       "    </tr>\n",
       "  </thead>\n",
       "  <tbody>\n",
       "    <tr>\n",
       "      <th>0</th>\n",
       "      <td>Wii Sports</td>\n",
       "      <td>Wii</td>\n",
       "      <td>2006</td>\n",
       "      <td>Sports</td>\n",
       "      <td>41.36</td>\n",
       "      <td>28.96</td>\n",
       "      <td>3.77</td>\n",
       "      <td>8.45</td>\n",
       "      <td>76.0</td>\n",
       "      <td>8.0</td>\n",
       "      <td>E</td>\n",
       "      <td>Для всех</td>\n",
       "    </tr>\n",
       "    <tr>\n",
       "      <th>1</th>\n",
       "      <td>Super Mario Bros.</td>\n",
       "      <td>NES</td>\n",
       "      <td>1985</td>\n",
       "      <td>Platform</td>\n",
       "      <td>29.08</td>\n",
       "      <td>3.58</td>\n",
       "      <td>6.81</td>\n",
       "      <td>0.77</td>\n",
       "      <td>NaN</td>\n",
       "      <td>NaN</td>\n",
       "      <td>RP</td>\n",
       "      <td>Рейтинг ожидается</td>\n",
       "    </tr>\n",
       "    <tr>\n",
       "      <th>2</th>\n",
       "      <td>Mario Kart Wii</td>\n",
       "      <td>Wii</td>\n",
       "      <td>2008</td>\n",
       "      <td>Racing</td>\n",
       "      <td>15.68</td>\n",
       "      <td>12.76</td>\n",
       "      <td>3.79</td>\n",
       "      <td>3.29</td>\n",
       "      <td>82.0</td>\n",
       "      <td>8.3</td>\n",
       "      <td>E</td>\n",
       "      <td>Для всех</td>\n",
       "    </tr>\n",
       "    <tr>\n",
       "      <th>3</th>\n",
       "      <td>Wii Sports Resort</td>\n",
       "      <td>Wii</td>\n",
       "      <td>2009</td>\n",
       "      <td>Sports</td>\n",
       "      <td>15.61</td>\n",
       "      <td>10.93</td>\n",
       "      <td>3.28</td>\n",
       "      <td>2.95</td>\n",
       "      <td>80.0</td>\n",
       "      <td>8.0</td>\n",
       "      <td>E</td>\n",
       "      <td>Для всех</td>\n",
       "    </tr>\n",
       "    <tr>\n",
       "      <th>4</th>\n",
       "      <td>Pokemon Red/Pokemon Blue</td>\n",
       "      <td>GB</td>\n",
       "      <td>1996</td>\n",
       "      <td>Role-Playing</td>\n",
       "      <td>11.27</td>\n",
       "      <td>8.89</td>\n",
       "      <td>10.22</td>\n",
       "      <td>1.00</td>\n",
       "      <td>NaN</td>\n",
       "      <td>NaN</td>\n",
       "      <td>RP</td>\n",
       "      <td>Рейтинг ожидается</td>\n",
       "    </tr>\n",
       "  </tbody>\n",
       "</table>\n",
       "</div>"
      ],
      "text/plain": [
       "                       name platform  year_of_release         genre  na_sales  \\\n",
       "0                Wii Sports      Wii             2006        Sports     41.36   \n",
       "1         Super Mario Bros.      NES             1985      Platform     29.08   \n",
       "2            Mario Kart Wii      Wii             2008        Racing     15.68   \n",
       "3         Wii Sports Resort      Wii             2009        Sports     15.61   \n",
       "4  Pokemon Red/Pokemon Blue       GB             1996  Role-Playing     11.27   \n",
       "\n",
       "   eu_sales  jp_sales  other_sales  critic_score  user_score rating  \\\n",
       "0     28.96      3.77         8.45          76.0         8.0      E   \n",
       "1      3.58      6.81         0.77           NaN         NaN     RP   \n",
       "2     12.76      3.79         3.29          82.0         8.3      E   \n",
       "3     10.93      3.28         2.95          80.0         8.0      E   \n",
       "4      8.89     10.22         1.00           NaN         NaN     RP   \n",
       "\n",
       "          rating_rus  \n",
       "0           Для всех  \n",
       "1  Рейтинг ожидается  \n",
       "2           Для всех  \n",
       "3           Для всех  \n",
       "4  Рейтинг ожидается  "
      ]
     },
     "execution_count": 20,
     "metadata": {},
     "output_type": "execute_result"
    }
   ],
   "source": [
    "data.head(5)"
   ]
  },
  {
   "cell_type": "markdown",
   "metadata": {},
   "source": [
    "Посчитаем суммарные продажи для игр по всем регионам и запишем значения в столбец `total_sales`."
   ]
  },
  {
   "cell_type": "code",
   "execution_count": 21,
   "metadata": {},
   "outputs": [],
   "source": [
    "data['total_sales'] = data[['na_sales', 'eu_sales', 'jp_sales', 'other_sales']].sum(axis=1)"
   ]
  },
  {
   "cell_type": "markdown",
   "metadata": {},
   "source": [
    "Суммарные продажи\n",
    "<div style=\"border-radius: 3px; border: 2px solid black; padding: 0px;\">     \n",
    "<div class=\"alert alert-success\">\n",
    "<b>Комментарий ревьюера ✔️:</b> \n",
    "    \n",
    "Отлично ⭐   \n",
    "​\n",
    "</div>\n",
    "</div>"
   ]
  },
  {
   "cell_type": "code",
   "execution_count": 22,
   "metadata": {},
   "outputs": [
    {
     "data": {
      "text/html": [
       "<div>\n",
       "<style scoped>\n",
       "    .dataframe tbody tr th:only-of-type {\n",
       "        vertical-align: middle;\n",
       "    }\n",
       "\n",
       "    .dataframe tbody tr th {\n",
       "        vertical-align: top;\n",
       "    }\n",
       "\n",
       "    .dataframe thead th {\n",
       "        text-align: right;\n",
       "    }\n",
       "</style>\n",
       "<table border=\"1\" class=\"dataframe\">\n",
       "  <thead>\n",
       "    <tr style=\"text-align: right;\">\n",
       "      <th></th>\n",
       "      <th>name</th>\n",
       "      <th>platform</th>\n",
       "      <th>year_of_release</th>\n",
       "      <th>genre</th>\n",
       "      <th>na_sales</th>\n",
       "      <th>eu_sales</th>\n",
       "      <th>jp_sales</th>\n",
       "      <th>other_sales</th>\n",
       "      <th>critic_score</th>\n",
       "      <th>user_score</th>\n",
       "      <th>rating</th>\n",
       "      <th>rating_rus</th>\n",
       "      <th>total_sales</th>\n",
       "    </tr>\n",
       "  </thead>\n",
       "  <tbody>\n",
       "    <tr>\n",
       "      <th>0</th>\n",
       "      <td>Wii Sports</td>\n",
       "      <td>Wii</td>\n",
       "      <td>2006</td>\n",
       "      <td>Sports</td>\n",
       "      <td>41.36</td>\n",
       "      <td>28.96</td>\n",
       "      <td>3.77</td>\n",
       "      <td>8.45</td>\n",
       "      <td>76.0</td>\n",
       "      <td>8.0</td>\n",
       "      <td>E</td>\n",
       "      <td>Для всех</td>\n",
       "      <td>82.54</td>\n",
       "    </tr>\n",
       "    <tr>\n",
       "      <th>1</th>\n",
       "      <td>Super Mario Bros.</td>\n",
       "      <td>NES</td>\n",
       "      <td>1985</td>\n",
       "      <td>Platform</td>\n",
       "      <td>29.08</td>\n",
       "      <td>3.58</td>\n",
       "      <td>6.81</td>\n",
       "      <td>0.77</td>\n",
       "      <td>NaN</td>\n",
       "      <td>NaN</td>\n",
       "      <td>RP</td>\n",
       "      <td>Рейтинг ожидается</td>\n",
       "      <td>40.24</td>\n",
       "    </tr>\n",
       "    <tr>\n",
       "      <th>2</th>\n",
       "      <td>Mario Kart Wii</td>\n",
       "      <td>Wii</td>\n",
       "      <td>2008</td>\n",
       "      <td>Racing</td>\n",
       "      <td>15.68</td>\n",
       "      <td>12.76</td>\n",
       "      <td>3.79</td>\n",
       "      <td>3.29</td>\n",
       "      <td>82.0</td>\n",
       "      <td>8.3</td>\n",
       "      <td>E</td>\n",
       "      <td>Для всех</td>\n",
       "      <td>35.52</td>\n",
       "    </tr>\n",
       "    <tr>\n",
       "      <th>3</th>\n",
       "      <td>Wii Sports Resort</td>\n",
       "      <td>Wii</td>\n",
       "      <td>2009</td>\n",
       "      <td>Sports</td>\n",
       "      <td>15.61</td>\n",
       "      <td>10.93</td>\n",
       "      <td>3.28</td>\n",
       "      <td>2.95</td>\n",
       "      <td>80.0</td>\n",
       "      <td>8.0</td>\n",
       "      <td>E</td>\n",
       "      <td>Для всех</td>\n",
       "      <td>32.77</td>\n",
       "    </tr>\n",
       "    <tr>\n",
       "      <th>4</th>\n",
       "      <td>Pokemon Red/Pokemon Blue</td>\n",
       "      <td>GB</td>\n",
       "      <td>1996</td>\n",
       "      <td>Role-Playing</td>\n",
       "      <td>11.27</td>\n",
       "      <td>8.89</td>\n",
       "      <td>10.22</td>\n",
       "      <td>1.00</td>\n",
       "      <td>NaN</td>\n",
       "      <td>NaN</td>\n",
       "      <td>RP</td>\n",
       "      <td>Рейтинг ожидается</td>\n",
       "      <td>31.38</td>\n",
       "    </tr>\n",
       "  </tbody>\n",
       "</table>\n",
       "</div>"
      ],
      "text/plain": [
       "                       name platform  year_of_release         genre  na_sales  \\\n",
       "0                Wii Sports      Wii             2006        Sports     41.36   \n",
       "1         Super Mario Bros.      NES             1985      Platform     29.08   \n",
       "2            Mario Kart Wii      Wii             2008        Racing     15.68   \n",
       "3         Wii Sports Resort      Wii             2009        Sports     15.61   \n",
       "4  Pokemon Red/Pokemon Blue       GB             1996  Role-Playing     11.27   \n",
       "\n",
       "   eu_sales  jp_sales  other_sales  critic_score  user_score rating  \\\n",
       "0     28.96      3.77         8.45          76.0         8.0      E   \n",
       "1      3.58      6.81         0.77           NaN         NaN     RP   \n",
       "2     12.76      3.79         3.29          82.0         8.3      E   \n",
       "3     10.93      3.28         2.95          80.0         8.0      E   \n",
       "4      8.89     10.22         1.00           NaN         NaN     RP   \n",
       "\n",
       "          rating_rus  total_sales  \n",
       "0           Для всех        82.54  \n",
       "1  Рейтинг ожидается        40.24  \n",
       "2           Для всех        35.52  \n",
       "3           Для всех        32.77  \n",
       "4  Рейтинг ожидается        31.38  "
      ]
     },
     "execution_count": 22,
     "metadata": {},
     "output_type": "execute_result"
    }
   ],
   "source": [
    "data.head()"
   ]
  },
  {
   "cell_type": "markdown",
   "metadata": {},
   "source": [
    "### <a id='toc1_2_1_'></a>[Вывод в блоке предобработки данных](#toc0_)"
   ]
  },
  {
   "cell_type": "markdown",
   "metadata": {},
   "source": [
    "На этом предобработка данных завершена. Подводя итог, можно сказать, что предоставленные данные неплохого качества - в них не было дубликатов (столбец `rating` содержал одинаковые оценки с разными названиями `K-A`(старое название) и `E`(новое название), что было исправлено).\n",
    "\n",
    "Однако было и достаточно много пропусков в столбцах с рейтинговыми оценками (критиков, пользователей и возрастных рейтингов). Связано это, скорее всего, с тем, что отсутствовали эти значения для наиболее старых(компания ESRB организована только в 1994 году) и менее популярных игр, для которых рейтинговая оценка не проводилась.\n",
    "\n",
    "Пропуски в `оценках критиков и пользоватей` были оставлены незаполенными, т.к. это может оказать влияние на исследование.\n",
    "\n",
    "Пропуски в `возрастных рейтингах` были заполнены значениями `RP`(рейтинг ожидается)."
   ]
  },
  {
   "cell_type": "markdown",
   "metadata": {},
   "source": [
    "<div style=\"border-radius: 3px; border: 2px solid black; padding: 0px;\">     \n",
    "<div class=\"alert alert-success\">\n",
    "<b>Комментарий ревьюера V.2 ✔️:</b> \n",
    "    \n",
    "Отличный вывод, в котором учтены все моменты, найденные в процессе предобработки данных ⭐  \n",
    "\n",
    "</div>\n",
    "</div>"
   ]
  },
  {
   "cell_type": "markdown",
   "metadata": {},
   "source": [
    "## <a id='toc1_3_'></a>[Проведение исследовательского анализа](#toc0_)"
   ]
  },
  {
   "cell_type": "markdown",
   "metadata": {},
   "source": [
    "### <a id='toc1_3_1_'></a>[Посмотрим, сколько игр выпускалось в разные годы.](#toc0_)"
   ]
  },
  {
   "cell_type": "code",
   "execution_count": 23,
   "metadata": {},
   "outputs": [
    {
     "data": {
      "text/plain": [
       "Text(0, 0.5, 'Количество выпущенных игр')"
      ]
     },
     "execution_count": 23,
     "metadata": {},
     "output_type": "execute_result"
    },
    {
     "data": {
      "image/png": "[encoded data removed]",
      "text/plain": [
       "<Figure size 720x216 with 1 Axes>"
      ]
     },
     "metadata": {
      "needs_background": "light"
     },
     "output_type": "display_data"
    }
   ],
   "source": [
    "data['year_of_release'].plot(kind='hist', grid=True, title='Количество выпущенных игр в году', figsize=(10, 3), bins=30)\n",
    "plt.xlabel('Год выпуска')\n",
    "plt.ylabel('Количество выпущенных игр')"
   ]
  },
  {
   "cell_type": "markdown",
   "metadata": {},
   "source": [
    "На гисторгамме мы можем наблюдать, что до 1995 года количество выпускаемых игр было достаточно мало(менее 250 игр за год). Активно начали выпускать игры уже с 2002 года (более 500 игр в год) с пиком в 2011 году (почти 2500 игр) с дальнейшим упадком в 2012-2014 годах. Поэтому для анализа можно взять игры, год выпуска которых превышает 2001 год. "
   ]
  },
  {
   "cell_type": "markdown",
   "metadata": {},
   "source": [
    "<div style=\"border-radius: 3px; border: 2px solid black; padding: 0px;\">     \n",
    "<div class=\"alert alert-success\">\n",
    "<b>Комментарий ревьюера ✔️:</b> \n",
    "    \n",
    "Отлично ⭐   \n",
    "\n",
    "</div>\n",
    "</div>"
   ]
  },
  {
   "cell_type": "markdown",
   "metadata": {},
   "source": [
    "### <a id='toc1_3_2_'></a>[Посмотрим, как менялись продажи по платформам в течение времени.](#toc0_)"
   ]
  },
  {
   "cell_type": "code",
   "execution_count": 24,
   "metadata": {},
   "outputs": [
    {
     "data": {
      "text/html": [
       "<div>\n",
       "<style scoped>\n",
       "    .dataframe tbody tr th:only-of-type {\n",
       "        vertical-align: middle;\n",
       "    }\n",
       "\n",
       "    .dataframe tbody tr th {\n",
       "        vertical-align: top;\n",
       "    }\n",
       "\n",
       "    .dataframe thead th {\n",
       "        text-align: right;\n",
       "    }\n",
       "</style>\n",
       "<table border=\"1\" class=\"dataframe\">\n",
       "  <thead>\n",
       "    <tr style=\"text-align: right;\">\n",
       "      <th></th>\n",
       "      <th>total_sales</th>\n",
       "      <th>%</th>\n",
       "    </tr>\n",
       "    <tr>\n",
       "      <th>platform</th>\n",
       "      <th></th>\n",
       "      <th></th>\n",
       "    </tr>\n",
       "  </thead>\n",
       "  <tbody>\n",
       "    <tr>\n",
       "      <th>PS2</th>\n",
       "      <td>1233.56</td>\n",
       "      <td>13.994874</td>\n",
       "    </tr>\n",
       "    <tr>\n",
       "      <th>X360</th>\n",
       "      <td>961.24</td>\n",
       "      <td>10.905374</td>\n",
       "    </tr>\n",
       "    <tr>\n",
       "      <th>PS3</th>\n",
       "      <td>931.34</td>\n",
       "      <td>10.566155</td>\n",
       "    </tr>\n",
       "    <tr>\n",
       "      <th>Wii</th>\n",
       "      <td>891.18</td>\n",
       "      <td>10.110535</td>\n",
       "    </tr>\n",
       "    <tr>\n",
       "      <th>DS</th>\n",
       "      <td>802.78</td>\n",
       "      <td>9.107628</td>\n",
       "    </tr>\n",
       "    <tr>\n",
       "      <th>PS</th>\n",
       "      <td>727.58</td>\n",
       "      <td>8.254475</td>\n",
       "    </tr>\n",
       "    <tr>\n",
       "      <th>PS4</th>\n",
       "      <td>314.14</td>\n",
       "      <td>3.563953</td>\n",
       "    </tr>\n",
       "    <tr>\n",
       "      <th>GBA</th>\n",
       "      <td>312.88</td>\n",
       "      <td>3.549658</td>\n",
       "    </tr>\n",
       "    <tr>\n",
       "      <th>PSP</th>\n",
       "      <td>289.53</td>\n",
       "      <td>3.284750</td>\n",
       "    </tr>\n",
       "    <tr>\n",
       "      <th>3DS</th>\n",
       "      <td>257.81</td>\n",
       "      <td>2.924883</td>\n",
       "    </tr>\n",
       "  </tbody>\n",
       "</table>\n",
       "</div>"
      ],
      "text/plain": [
       "          total_sales          %\n",
       "platform                        \n",
       "PS2           1233.56  13.994874\n",
       "X360           961.24  10.905374\n",
       "PS3            931.34  10.566155\n",
       "Wii            891.18  10.110535\n",
       "DS             802.78   9.107628\n",
       "PS             727.58   8.254475\n",
       "PS4            314.14   3.563953\n",
       "GBA            312.88   3.549658\n",
       "PSP            289.53   3.284750\n",
       "3DS            257.81   2.924883"
      ]
     },
     "execution_count": 24,
     "metadata": {},
     "output_type": "execute_result"
    }
   ],
   "source": [
    "sales_info = data.groupby('platform').agg({'total_sales': 'sum'})\n",
    "sales_info['%'] = sales_info['total_sales'] / sales_info['total_sales'].sum() * 100\n",
    "sales_info.sort_values(by='%', ascending=False).head(10)"
   ]
  },
  {
   "cell_type": "code",
   "execution_count": 25,
   "metadata": {},
   "outputs": [
    {
     "data": {
      "text/plain": [
       "(1993.0, 2017.55)"
      ]
     },
     "execution_count": 25,
     "metadata": {},
     "output_type": "execute_result"
    },
    {
     "data": {
      "image/png": "[encoded data removed]",
      "text/plain": [
       "<Figure size 432x288 with 1 Axes>"
      ]
     },
     "metadata": {
      "needs_background": "light"
     },
     "output_type": "display_data"
    }
   ],
   "source": [
    "pd.pivot_table(\n",
    "    data.query('platform in [\"PS2\", \"X360\", \"PS3\", \"Wii\", \"DS\", \"PS\"]'),\n",
    "    index='year_of_release',\n",
    "    columns='platform',\n",
    "    values='total_sales',\n",
    "    aggfunc='sum'\n",
    ").plot(title='Число продаж игровых копий по каждой платформе, млн.', grid=True)\n",
    "plt.xlabel('Год выпуска игр')\n",
    "plt.ylabel('Чило продаж, млн.')\n",
    "plt.xlim(left=1993)"
   ]
  },
  {
   "cell_type": "markdown",
   "metadata": {},
   "source": [
    "На получившемся графике можно увидеть, что, в `среднем`, жизненный цикл платформы составляет `около 10 лет` с быстрым ростом при выходе платформы, пиковыми значениями продаж в районе середины жизненного цикла и с быстрым падением во второй половине жизненного цикла. \n",
    "\n",
    "Отсюда можно сделать вывод, что `для получения большей выгоды можно вкладываться в рекламные компании игр спустя 2-3 года выхода платформы, для которой эта игра предназначена`.\n",
    "\n",
    "Итак, `для дальнейшего анализа и прогноза на 2017 год, нам необходимо взять наборы данных за прошедший период, начиная с 2014 года включительно`, чтобы оценить тенденцию роста или падения продаж для различных платформ. "
   ]
  },
  {
   "cell_type": "code",
   "execution_count": 26,
   "metadata": {},
   "outputs": [],
   "source": [
    "filtred_data = data.query('year_of_release >= 2014')"
   ]
  },
  {
   "cell_type": "markdown",
   "metadata": {},
   "source": [
    "<div style=\"border-radius: 3px; border: 2px solid black; padding: 0px;\">    \n",
    "<div class=\"alert alert-danger\">\n",
    "<s>Комментарий ревьюера ❌:</b> \n",
    "    \n",
    "Для целей прогнозирования продаж на следующий год даже в традиционных бизнесах редко берут данные более чем за 2-3 года. А в такой динамично меняющейся индустрии, как компьютерные игры и вовсе не стоит брать слишком большой временной интервал - иначе обязательно захватишь уже отжившие тренды. Но и слишком короткий период тоже брать не стоит. Код и выводы необходимо обновить с учетом нового актуального периода. Далее буду смотреть проект только на наличие других важных замечаний\n",
    "\n",
    "</div>\n",
    "</div>"
   ]
  },
  {
   "cell_type": "markdown",
   "metadata": {},
   "source": [
    "<div style=\"border-radius: 3px; border: 2px solid black; padding: 0px;\">\n",
    "<div class=\"alert alert-block alert-info\">\n",
    "<b>Комментарий студента 🎓:</b>\n",
    "\n",
    "Я уверен, что надо брать МИНИМУМ за 4-5 лет, чтобы видеть динамику роста продаж по платформам, но хорошо. Рассмотрим твой вариант для быстро меняющейся индустрии - 1 год.\n",
    "Если мы возьмем 2 года, то графики вообще будут печальными - по всем платформам идёт снижение продаж и выбрать, в какую платформу инвестировать - проблематично, т.к. по таким графикам игровая индустрия загибается.\n",
    "\n",
    "Но, доверюсь твоему опыту. Давай попробуем проанализировать данные начиная с 2016 года. Поправляй меня, где я ошибаюсь и строю не те графики. Спасибо!\n",
    "\n",
    "</div> \n",
    "</div> "
   ]
  },
  {
   "cell_type": "markdown",
   "metadata": {},
   "source": [
    "<div style=\"border-radius: 3px; border: 2px solid black; padding: 0px;\">    \n",
    "<div class=\"alert alert-danger\">\n",
    "<s>Комментарий ревьюера V.2 ❌:</b> \n",
    "\n",
    "Как я написал в комментарии выше, слишком короткий период тоже брать не стоит, к тому же данные за 2016 год не полные (нет данных за 4-й квартал, который закрывается 31-го декабря (сейчас декабрь по заданию)), отсюда и видимое снижение продаж, если брать данные с 2015-го. Поэтому предлагаю взять данные за 2 полных года, т.е. с 2014 включительно, и указать, что за 2016 год данные не полные. То, что индустрия быстро меняется лишь ужесточает правило \"не больше 3-х лет\". Код и выводы необходимо обновить с учетом нового актуального периода. Далее буду смотреть проект только на наличие других важных замечаний. P.s. Понимаю, что сложно с первого раза прийти к этому решению, сам был на твоём месте \n",
    "    \n",
    "</div>\n",
    "</div>"
   ]
  },
  {
   "cell_type": "markdown",
   "metadata": {},
   "source": [
    "<div style=\"border-radius: 3px; border: 2px solid black; padding: 0px;\">\n",
    "<div class=\"alert alert-block alert-info\">\n",
    "<b>Комментарий студента V.2🎓:</b>\n",
    "\n",
    "Вот я и прочитал, редко берут больше, чем за 2-3 года, а тут надо и того меньше. То, почему в 2016 произошло \"снижение\" продаж я тоже понял (в каком-то из выводов писал, что скорее всего за 16 год у нас неполные данные). Что ж, давай попробуем посмотреть на данные с 14 года.\n",
    "\n",
    "Опять весь проект переписывать)))) Эх! Полетели в рот тефтели)))\n",
    "\n",
    "Начиная отсюда и до конца все выводы опять)) были изменены (возможно где-то забыл это пометить).\n",
    "</div> \n",
    "</div> "
   ]
  },
  {
   "cell_type": "markdown",
   "metadata": {},
   "source": [
    "<div style=\"border-radius: 3px; border: 2px solid black; padding: 0px;\">     \n",
    "<div class=\"alert alert-success\">\n",
    "<b>Комментарий ревьюера V.3 ✔️:</b> \n",
    "    \n",
    "Слушай, я тут подумал, а ~~~ давай другой период возьмём, а с выводами что делать, ты уже знаешь~~~ интересно получилось с тефтелями. P.s. можно один раз написать, что обновил выводы, я всё равно всё буду проверять даже без пометок 😉    \n",
    "\n",
    "</div>\n",
    "</div>"
   ]
  },
  {
   "cell_type": "markdown",
   "metadata": {},
   "source": [
    "Рассмотрим аналогичный график для уже отфильтрованных данных."
   ]
  },
  {
   "cell_type": "code",
   "execution_count": 27,
   "metadata": {},
   "outputs": [
    {
     "data": {
      "text/html": [
       "<div>\n",
       "<style scoped>\n",
       "    .dataframe tbody tr th:only-of-type {\n",
       "        vertical-align: middle;\n",
       "    }\n",
       "\n",
       "    .dataframe tbody tr th {\n",
       "        vertical-align: top;\n",
       "    }\n",
       "\n",
       "    .dataframe thead th {\n",
       "        text-align: right;\n",
       "    }\n",
       "</style>\n",
       "<table border=\"1\" class=\"dataframe\">\n",
       "  <thead>\n",
       "    <tr style=\"text-align: right;\">\n",
       "      <th></th>\n",
       "      <th>total_sales</th>\n",
       "      <th>%</th>\n",
       "    </tr>\n",
       "    <tr>\n",
       "      <th>platform</th>\n",
       "      <th></th>\n",
       "      <th></th>\n",
       "    </tr>\n",
       "  </thead>\n",
       "  <tbody>\n",
       "    <tr>\n",
       "      <th>PS4</th>\n",
       "      <td>288.15</td>\n",
       "      <td>39.502365</td>\n",
       "    </tr>\n",
       "    <tr>\n",
       "      <th>XOne</th>\n",
       "      <td>140.36</td>\n",
       "      <td>19.241895</td>\n",
       "    </tr>\n",
       "    <tr>\n",
       "      <th>3DS</th>\n",
       "      <td>86.68</td>\n",
       "      <td>11.882925</td>\n",
       "    </tr>\n",
       "    <tr>\n",
       "      <th>PS3</th>\n",
       "      <td>68.18</td>\n",
       "      <td>9.346768</td>\n",
       "    </tr>\n",
       "    <tr>\n",
       "      <th>X360</th>\n",
       "      <td>48.22</td>\n",
       "      <td>6.610460</td>\n",
       "    </tr>\n",
       "    <tr>\n",
       "      <th>WiiU</th>\n",
       "      <td>42.98</td>\n",
       "      <td>5.892110</td>\n",
       "    </tr>\n",
       "    <tr>\n",
       "      <th>PC</th>\n",
       "      <td>27.05</td>\n",
       "      <td>3.708273</td>\n",
       "    </tr>\n",
       "    <tr>\n",
       "      <th>PSV</th>\n",
       "      <td>22.40</td>\n",
       "      <td>3.070807</td>\n",
       "    </tr>\n",
       "    <tr>\n",
       "      <th>Wii</th>\n",
       "      <td>5.07</td>\n",
       "      <td>0.695044</td>\n",
       "    </tr>\n",
       "    <tr>\n",
       "      <th>PSP</th>\n",
       "      <td>0.36</td>\n",
       "      <td>0.049352</td>\n",
       "    </tr>\n",
       "  </tbody>\n",
       "</table>\n",
       "</div>"
      ],
      "text/plain": [
       "          total_sales          %\n",
       "platform                        \n",
       "PS4            288.15  39.502365\n",
       "XOne           140.36  19.241895\n",
       "3DS             86.68  11.882925\n",
       "PS3             68.18   9.346768\n",
       "X360            48.22   6.610460\n",
       "WiiU            42.98   5.892110\n",
       "PC              27.05   3.708273\n",
       "PSV             22.40   3.070807\n",
       "Wii              5.07   0.695044\n",
       "PSP              0.36   0.049352"
      ]
     },
     "execution_count": 27,
     "metadata": {},
     "output_type": "execute_result"
    }
   ],
   "source": [
    "sales_info = filtred_data.groupby('platform').agg({'total_sales': 'sum'})\n",
    "sales_info['%'] = sales_info['total_sales'] / sales_info['total_sales'].sum() * 100\n",
    "sales_info.sort_values(by='%', ascending=False).head(10)"
   ]
  },
  {
   "cell_type": "code",
   "execution_count": 28,
   "metadata": {},
   "outputs": [
    {
     "data": {
      "text/plain": [
       "Text(0, 0.5, 'Число продаж, млн.')"
      ]
     },
     "execution_count": 28,
     "metadata": {},
     "output_type": "execute_result"
    },
    {
     "data": {
      "image/png": "[encoded data removed]",
      "text/plain": [
       "<Figure size 288x576 with 1 Axes>"
      ]
     },
     "metadata": {
      "needs_background": "light"
     },
     "output_type": "display_data"
    }
   ],
   "source": [
    "pd.pivot_table(\n",
    "    filtred_data,\n",
    "    index='year_of_release',\n",
    "    columns='platform',\n",
    "    values='total_sales',\n",
    "    aggfunc='sum'\n",
    ").plot(title='Число продаж игровых копий по каждой платформе, млн.', grid=True, figsize=(4, 8), alpha=.7)\n",
    "plt.xlabel('Год выпуска игр')\n",
    "plt.xticks([2014, 2015, 2016])\n",
    "plt.ylabel('Число продаж, млн.')"
   ]
  },
  {
   "cell_type": "markdown",
   "metadata": {},
   "source": [
    "Построим второй такой же график, но с лимитом по числу продаж в 40млн, чтобы лучше увидеть динамику платформ с малым числом продаж."
   ]
  },
  {
   "cell_type": "code",
   "execution_count": 29,
   "metadata": {},
   "outputs": [
    {
     "data": {
      "text/plain": [
       "(0.0, 20.0)"
      ]
     },
     "execution_count": 29,
     "metadata": {},
     "output_type": "execute_result"
    },
    {
     "data": {
      "image/png": "[encoded data removed]",
      "text/plain": [
       "<Figure size 432x288 with 1 Axes>"
      ]
     },
     "metadata": {
      "needs_background": "light"
     },
     "output_type": "display_data"
    }
   ],
   "source": [
    "pd.pivot_table(\n",
    "    filtred_data,\n",
    "    index='year_of_release',\n",
    "    columns='platform',\n",
    "    values='total_sales',\n",
    "    aggfunc='sum'\n",
    ").plot(title='Число продаж игровых копий по каждой платформе, млн.', grid=True)\n",
    "plt.xlabel('Год выпуска игр')\n",
    "plt.xticks([2014, 2015, 2016])\n",
    "plt.ylabel('Чило продаж, млн.')\n",
    "plt.ylim(top=20, bottom=0)"
   ]
  },
  {
   "cell_type": "markdown",
   "metadata": {},
   "source": [
    "<div style=\"border-radius: 3px; border: 2px solid black; padding: 0px;\">    \n",
    "<div class=\"alert alert-danger\">\n",
    "<s>Комментарий ревьюера ❌:</b> \n",
    "    \n",
    "Обрати внимание, что у некоторых категорий одинаковый цвет на графике (например, 3DS и X360), из-за чего его сложно корректно проанализировать. Для решения проблемы необходимо настроить цветовую палитру\n",
    "\n",
    "</div>\n",
    "</div>"
   ]
  },
  {
   "cell_type": "markdown",
   "metadata": {},
   "source": [
    "<div style=\"border-radius: 3px; border: 2px solid black; padding: 0px;\">\n",
    "<div class=\"alert alert-block alert-info\">\n",
    "<b>Комментарий студента 🎓:</b>\n",
    "\n",
    "Новый график - проблем с цветом нет))\n",
    "\n",
    "</div> \n",
    "</div> "
   ]
  },
  {
   "cell_type": "markdown",
   "metadata": {},
   "source": [
    "<div style=\"border-radius: 3px; border: 2px solid black; padding: 0px;\">     \n",
    "<div class=\"alert alert-success\">\n",
    "<b>Комментарий ревьюера V.2 ✔️:</b>  \n",
    "\n",
    "Мне тоже так нравится решать вопросы)) На всякий случай объясню на будущее, как можно задать палитру цветов, которую потом присваиваем параметру color, для решения проблемы:\n",
    "\n",
    "```\n",
    "colors = ['grey', 'red', 'brown', 'olive', 'yellow', 'green', 'teal', 'aqua', 'blue', 'indigo', 'pink', 'peru', 'purple', 'khaki', 'violet', 'crimson', 'skyblue', 'tomato'] - палитра\n",
    "filtred_data.plot(kind='bar', figsize=(15,7), stacked=True, color=colors) - график\n",
    "```\n",
    "\n",
    "</div>\n",
    "</div>"
   ]
  },
  {
   "cell_type": "markdown",
   "metadata": {},
   "source": [
    "<div style=\"border-radius: 3px; border: 2px solid black; padding: 0px;\">\n",
    "<div class=\"alert alert-block alert-info\">\n",
    "<b>Комментарий студента V.2🎓:</b>\n",
    "\n",
    "Не, я б заморочился с цветами, но тот вид графика не подходил к выбранной выборке, поэтому построил другой, а там уже всё ОК было)\n",
    "   \n",
    "</div> \n",
    "</div> "
   ]
  },
  {
   "cell_type": "markdown",
   "metadata": {},
   "source": [
    "<div style=\"border-radius: 3px; border: 2px solid black; padding: 0px;\">     \n",
    "<div class=\"alert alert-success\">\n",
    "<b>Комментарий ревьюера V.3 ✔️:</b> \n",
    "    \n",
    "Согласен)   \n",
    "\n",
    "</div>\n",
    "</div>"
   ]
  },
  {
   "cell_type": "markdown",
   "metadata": {},
   "source": [
    "<!-- Из графиков выделяются только 2 платформы с явным ростом - `PS4` и `XOne`, однако и у них идёт падение начиная с 2015 года, все остальные графики имеют тенденцию к снижению.\n",
    "\n",
    "Скорее всего это связано с тем, что на дворе декабрь 2016 года и мы не располагаем полной статистикой продаж игр за 2016 год. Ещё одним важным фактором является то, что если игра вышла в 2016 году, в её общие продажи не попадают будущие продажи. На основании этого оставим в данных игры, год выпуска которых меньше 2016. -->\n",
    "\n",
    "Из графика и информационной таблицы видно, что за выбранный период больше всего продаж за PS4 (почти 40% от общего числа продаж), на втором месте идёт XOne с долей рынка около 20%, на третьем месте 3DS с ~12% от общего числа продаж. Остальные платформы набрали менее 10%.\n",
    "\n",
    "У всех платформ имеется тенденция к снижению количества продаж, за исключением PS4 и XOne (у них, как и всех остальных платформ снижение продаж за 2016 год может обуславливаться неполными данными за 2016).\n",
    "\n",
    "Оставим в нашей выборке данные по играм только для тех платформ, которые вошли в ТОП-6. Остальные нас интересовать не будут, как нерентабельные."
   ]
  },
  {
   "cell_type": "markdown",
   "metadata": {},
   "source": [
    "<div style=\"border-radius: 3px; border: 2px solid black; padding: 0px;\">\n",
    "<div class=\"alert alert-block alert-info\">\n",
    "<b>Комментарий студента V.2🎓:</b>\n",
    "\n",
    "Тут включил взял топ6 только потому, что ты сказал обратить внимание на платформу WiiU, но исходя из полученной информации, я с тобой категорически не согласен)) У всех приставок тенденция к снижению, кроме PS4 и XOne.\n",
    "   \n",
    "</div> \n",
    "</div> "
   ]
  },
  {
   "cell_type": "markdown",
   "metadata": {},
   "source": [
    "<div style=\"border-radius: 3px; border: 2px solid black; padding: 0px;\">     \n",
    "<div class=\"alert alert-success\">\n",
    "<b>Комментарий ревьюера V.3 ✔️:</b> \n",
    "    \n",
    "Так у нас ТОП-5 же: PS4, XOne, 3DS, PC, WiiU - это и по графикам выше видно. ТОП-6 - это с PSV уже, но она снята с производства \n",
    "\n",
    "</div>\n",
    "</div>"
   ]
  },
  {
   "cell_type": "code",
   "execution_count": 30,
   "metadata": {},
   "outputs": [],
   "source": [
    "filtred_data = filtred_data.query('platform in [\"PS4\", \"XOne\", \"3DS\", \"PS3\", \"X360\", \"WiiU\"]')"
   ]
  },
  {
   "cell_type": "markdown",
   "metadata": {},
   "source": [
    "<div style=\"border-radius: 3px; border: 2px solid black; padding: 0px;\">    \n",
    "<div class=\"alert alert-danger\">\n",
    "<s>Комментарий ревьюера ❌:</b> \n",
    "    \n",
    "Необходимо выбрать несколько потенциально прибыльных платформ и уделить им особое внимание в исследовании, так как они имеют наибольший потенциал с точки зрения прибыли, из-за чего наиболее интересны для заказчика, остальные же можно не рассматривать\n",
    "\n",
    "\n",
    "</div>\n",
    "</div>"
   ]
  },
  {
   "cell_type": "markdown",
   "metadata": {},
   "source": [
    "<div style=\"border-radius: 3px; border: 2px solid black; padding: 0px;\">\n",
    "<div class=\"alert alert-block alert-info\">\n",
    "<b>Комментарий студента 🎓:</b>\n",
    "\n",
    "Так я вроде и выделил в прямом и переносном смысле) PS4 и XOne. В комментах маркдауна (где идёт описание графика) оставил свой предыдущий вывод, на всякий случай. Фильтрацию по платформам добавил. Похоже, я начинаю понимать суть)\n",
    "\n",
    "</div> \n",
    "</div> "
   ]
  },
  {
   "cell_type": "markdown",
   "metadata": {},
   "source": [
    "<div style=\"border-radius: 3px; border: 2px solid black; padding: 0px;\">      \n",
    "<div class=\"alert alert-warning\">\n",
    "<s>Комментарий ревьюера V.2 ⚠️:</b> \n",
    "    \n",
    "Мне не хватило ```к потенциально прибыльным можно отнести:```, к тому же ниже мы смотрели все консоли, поэтому специально оставил комментарий. Также обрати внимание на платформу WiiU - она новая в своей линейке и входит в топ-5\n",
    "    \n",
    "</div>\n",
    "</div>"
   ]
  },
  {
   "cell_type": "markdown",
   "metadata": {},
   "source": [
    "<div style=\"border-radius: 3px; border: 2px solid black; padding: 0px;\">\n",
    "<div class=\"alert alert-block alert-info\">\n",
    "<b>Комментарий студента V.2🎓:</b>\n",
    "\n",
    "В целом WiiU вышла в 2011 и я бы отнес её к \"выходящим из моды\". Понятно, что есть вероятность того, что она \"сыграет\" в Японии, но опять же, я думаю, что даже там к ней интерес теряется. (Возможно ты выделил её тогда, для данных 2016 года)\n",
    "\n",
    "И вот опять же, получается PC в рейтинг не вошёл, хотя во второй версии проекта он был, если не ошибаюсь на 4м месте по популярности в Европе. И вот получается, что выделяя несколько популярных платформ по \"общему зачёту\", мы теряем узкие рынки, например, как PC в Европе или портативные приставки в Японии. Мне кажется, что правильнее было бы тогда взять срез данных по всем приставкам за последние годы, но ты говоришь, что нужно выделить несколько и анализировать дальше только их(вернулся в этот коммент снизу. Не стал удалять. Мы же там опять рассматриваем выборку из всех платформ :)) Почему-то подумал, что раз здесь мы выбрали 5 (на самом деле 6), то больше их менять не будем. Запутался окончательно)) \n",
    "\n",
    "И опять же, выделяются только в динамике PS4 и XOne, остальные идут вниз по продажам.\n",
    "   \n",
    "</div> \n",
    "</div> "
   ]
  },
  {
   "cell_type": "markdown",
   "metadata": {},
   "source": [
    "<div style=\"border-radius: 3px; border: 2px solid black; padding: 0px;\">     \n",
    "<div class=\"alert alert-success\">\n",
    "<b>Комментарий ревьюера V.3 ✔️:</b> \n",
    "    \n",
    "Попробуем распутаться: ПК мы берём потому, что срок жизни 26 лет, так ещё он и стабилен, что говорит о безопасности вложений. Кстати, на твоих графиках выше за актуальный период вижу такой топ: PS4, XOne, 3DS, PC (он и сейчас на 4-м месте в конце 2016), WiiU - как раз наш топ-5. По динамике согласен, тут можно сделать рекомендацию, что в случае ограниченности бюджета смотрим только на PS4, Xone   \n",
    "\n",
    "</div>\n",
    "</div>"
   ]
  },
  {
   "cell_type": "markdown",
   "metadata": {},
   "source": [
    "### <a id='toc1_3_3_'></a>[Выделение платформ - лидеров продаж](#toc0_)"
   ]
  },
  {
   "cell_type": "markdown",
   "metadata": {},
   "source": [
    "Построим график `ящик с усами` по глобальным продажам игр в зависимости от платформы."
   ]
  },
  {
   "cell_type": "markdown",
   "metadata": {},
   "source": [
    "<div style=\"border-radius: 3px; border: 2px solid black; padding: 0px;\">\n",
    "<div class=\"alert alert-block alert-info\">\n",
    "<b>Комментарий студента 🎓:</b>\n",
    "\n",
    "Насколько вообще теперь корректно для 4 платформ строить этот график?\n",
    "\n",
    "</div> \n",
    "</div> "
   ]
  },
  {
   "cell_type": "markdown",
   "metadata": {},
   "source": [
    "<div style=\"border-radius: 3px; border: 2px solid black; padding: 0px;\">    \n",
    "<div class=\"alert alert-danger\">\n",
    "<s>Комментарий ревьюера V.2 ❌:</b> \n",
    "\n",
    "Платформ будет 5. График корректо строить, чтобы посмотреть на распределение, медианы и выбросы, о которых тоже стоит сказать пару слов\n",
    "    \n",
    "</div>\n",
    "</div>"
   ]
  },
  {
   "cell_type": "markdown",
   "metadata": {},
   "source": [
    "<div style=\"border-radius: 3px; border: 2px solid black; padding: 0px;\">\n",
    "<div class=\"alert alert-block alert-info\">\n",
    "<b>Комментарий студента V.2🎓:</b>\n",
    "\n",
    "Согласился. В комментариях к графику я медианы и выбросы(точнее, успешные платформы) выделял)\n",
    "   \n",
    "</div> \n",
    "</div> "
   ]
  },
  {
   "cell_type": "markdown",
   "metadata": {},
   "source": [
    "<div style=\"border-radius: 3px; border: 2px solid black; padding: 0px;\">     \n",
    "<div class=\"alert alert-success\">\n",
    "<b>Комментарий ревьюера V.3 ✔️:</b> \n",
    "    \n",
    "Отлично ⭐   \n",
    "\n",
    "</div>\n",
    "</div>"
   ]
  },
  {
   "cell_type": "code",
   "execution_count": 31,
   "metadata": {},
   "outputs": [
    {
     "name": "stdout",
     "output_type": "stream",
     "text": [
      "          total_sales\n",
      "platform             \n",
      "PS4            288.15\n",
      "XOne           140.36\n",
      "3DS             86.68\n",
      "PS3             68.18\n",
      "X360            48.22\n",
      "WiiU            42.98\n"
     ]
    },
    {
     "data": {
      "text/html": [
       "<div>\n",
       "<style scoped>\n",
       "    .dataframe tbody tr th:only-of-type {\n",
       "        vertical-align: middle;\n",
       "    }\n",
       "\n",
       "    .dataframe tbody tr th {\n",
       "        vertical-align: top;\n",
       "    }\n",
       "\n",
       "    .dataframe thead th {\n",
       "        text-align: right;\n",
       "    }\n",
       "</style>\n",
       "<table border=\"1\" class=\"dataframe\">\n",
       "  <thead>\n",
       "    <tr style=\"text-align: right;\">\n",
       "      <th></th>\n",
       "      <th>total_sales</th>\n",
       "    </tr>\n",
       "  </thead>\n",
       "  <tbody>\n",
       "    <tr>\n",
       "      <th>count</th>\n",
       "      <td>6.000000</td>\n",
       "    </tr>\n",
       "    <tr>\n",
       "      <th>mean</th>\n",
       "      <td>112.428333</td>\n",
       "    </tr>\n",
       "    <tr>\n",
       "      <th>std</th>\n",
       "      <td>92.978444</td>\n",
       "    </tr>\n",
       "    <tr>\n",
       "      <th>min</th>\n",
       "      <td>42.980000</td>\n",
       "    </tr>\n",
       "    <tr>\n",
       "      <th>25%</th>\n",
       "      <td>53.210000</td>\n",
       "    </tr>\n",
       "    <tr>\n",
       "      <th>50%</th>\n",
       "      <td>77.430000</td>\n",
       "    </tr>\n",
       "    <tr>\n",
       "      <th>75%</th>\n",
       "      <td>126.940000</td>\n",
       "    </tr>\n",
       "    <tr>\n",
       "      <th>max</th>\n",
       "      <td>288.150000</td>\n",
       "    </tr>\n",
       "  </tbody>\n",
       "</table>\n",
       "</div>"
      ],
      "text/plain": [
       "       total_sales\n",
       "count     6.000000\n",
       "mean    112.428333\n",
       "std      92.978444\n",
       "min      42.980000\n",
       "25%      53.210000\n",
       "50%      77.430000\n",
       "75%     126.940000\n",
       "max     288.150000"
      ]
     },
     "execution_count": 31,
     "metadata": {},
     "output_type": "execute_result"
    },
    {
     "data": {
      "image/png": "[encoded data removed]",
      "text/plain": [
       "<Figure size 432x288 with 1 Axes>"
      ]
     },
     "metadata": {
      "needs_background": "light"
     },
     "output_type": "display_data"
    }
   ],
   "source": [
    "global_sales_by_platform = filtred_data.groupby('platform').agg({'total_sales': 'sum'})\n",
    "global_sales_by_platform.boxplot()\n",
    "plt.title('Суммарное число продаж игровых копий в зависимости от платформы')\n",
    "plt.ylabel('Суммарные продажи игр, млн')\n",
    "print(global_sales_by_platform.sort_values(by='total_sales', ascending=False))\n",
    "global_sales_by_platform.describe()"
   ]
  },
  {
   "cell_type": "markdown",
   "metadata": {},
   "source": [
    "На графике и в дополнительной информации мы видим, что медиана продаж расположилась на ~77 млн копий игр. Большая часть платформ расположилась в пределах продаж от 53 до 127 млн. Можно сказать, что платформы с количеством проданных копий игр больше 127млн(XOne) достаточно популярны и выбиваются из средних показателей. \n",
    "\n",
    "PS4 на предоставленном графике является выбросом, что говорит нам о том, что эта платформа крайне успешная. \n",
    "\n",
    "Самые популярные платформы за последний год: PS4(~59 млн. проданных копий игр), XOne(26 млн.)."
   ]
  },
  {
   "cell_type": "markdown",
   "metadata": {},
   "source": [
    "<div style=\"border-radius: 3px; border: 2px solid black; padding: 0px;\">\n",
    "<div class=\"alert alert-block alert-info\">\n",
    "<b>Комментарий студента 🎓:</b>\n",
    "\n",
    "Обновил вывод.\n",
    "\n",
    "</div> \n",
    "</div> "
   ]
  },
  {
   "cell_type": "markdown",
   "metadata": {},
   "source": [
    "<div style=\"border-radius: 3px; border: 2px solid black; padding: 0px;\">\n",
    "<div class=\"alert alert-block alert-info\">\n",
    "<b>Комментарий студента V.2🎓:</b>\n",
    "\n",
    "Обновил вывод ещё раз.\n",
    "\n",
    "</div> \n",
    "</div> "
   ]
  },
  {
   "cell_type": "markdown",
   "metadata": {},
   "source": [
    "<div style=\"border-radius: 3px; border: 2px solid black; padding: 0px;\">     \n",
    "<div class=\"alert alert-success\">\n",
    "<b>Комментарий ревьюера V.3 ✔️:</b> \n",
    "    \n",
    "Отлично ⭐   \n",
    "\n",
    "</div>\n",
    "</div>"
   ]
  },
  {
   "cell_type": "markdown",
   "metadata": {},
   "source": [
    "### <a id='toc1_3_4_'></a>[Влияние отзывов пользователей и критиков](#toc0_)"
   ]
  },
  {
   "cell_type": "markdown",
   "metadata": {},
   "source": [
    "Теперь попробуем посмотреть, оказывают ли влияние отзывы пользователей и критиков на продажи игр на примере самой популярной платформы `PS4`."
   ]
  },
  {
   "cell_type": "code",
   "execution_count": 32,
   "metadata": {},
   "outputs": [],
   "source": [
    "ps4_data = filtred_data.query('platform == \"PS4\"')"
   ]
  },
  {
   "cell_type": "code",
   "execution_count": 33,
   "metadata": {},
   "outputs": [
    {
     "data": {
      "text/plain": [
       "Text(0, 0.5, 'Общее число продаж, млн')"
      ]
     },
     "execution_count": 33,
     "metadata": {},
     "output_type": "execute_result"
    },
    {
     "data": {
      "image/png": "[encoded data removed]",
      "text/plain": [
       "<Figure size 432x288 with 1 Axes>"
      ]
     },
     "metadata": {
      "needs_background": "light"
     },
     "output_type": "display_data"
    },
    {
     "data": {
      "image/png": "[encoded data removed]",
      "text/plain": [
       "<Figure size 432x288 with 1 Axes>"
      ]
     },
     "metadata": {
      "needs_background": "light"
     },
     "output_type": "display_data"
    }
   ],
   "source": [
    "ps4_data.plot(kind='scatter', x='user_score', y='total_sales', alpha=.5)\n",
    "plt.xlabel('Оценка пользователей')\n",
    "plt.ylabel('Общее число продаж, млн')\n",
    "ps4_data.plot(kind='scatter', x='critic_score', y='total_sales', alpha=.5)\n",
    "plt.xlabel('Оценка критиков')\n",
    "plt.ylabel('Общее число продаж, млн')"
   ]
  },
  {
   "cell_type": "markdown",
   "metadata": {},
   "source": [
    "Судя по графикам, `сильной связи между оценками пользователей и числом продаж нет`. Большая часть оценок расположилась в районе от 6 до 8.5. Имеются игры с низкими оценками и с высокими продажами, также как и игры с высокими оценками могут быть с невысокими продажами.\n",
    "\n",
    "Если говорить о графике с оценками критиков, тут видно, что `при высоких оценках можно наблюдать рост числа продаж игр`.\n",
    "\n",
    "Подсчитаем корреляцию между отзывами и числом продаж."
   ]
  },
  {
   "cell_type": "markdown",
   "metadata": {},
   "source": [
    "<div style=\"border-radius: 3px; border: 2px solid black; padding: 0px;\">\n",
    "<div class=\"alert alert-block alert-info\">\n",
    "<b>Комментарий студента 🎓:</b>\n",
    "\n",
    "Здесь тоже немного обновил вывод.\n",
    "\n",
    "</div> \n",
    "</div> "
   ]
  },
  {
   "cell_type": "code",
   "execution_count": 34,
   "metadata": {},
   "outputs": [
    {
     "data": {
      "text/html": [
       "<div>\n",
       "<style scoped>\n",
       "    .dataframe tbody tr th:only-of-type {\n",
       "        vertical-align: middle;\n",
       "    }\n",
       "\n",
       "    .dataframe tbody tr th {\n",
       "        vertical-align: top;\n",
       "    }\n",
       "\n",
       "    .dataframe thead th {\n",
       "        text-align: right;\n",
       "    }\n",
       "</style>\n",
       "<table border=\"1\" class=\"dataframe\">\n",
       "  <thead>\n",
       "    <tr style=\"text-align: right;\">\n",
       "      <th></th>\n",
       "      <th>total_sales</th>\n",
       "      <th>user_score</th>\n",
       "      <th>critic_score</th>\n",
       "    </tr>\n",
       "  </thead>\n",
       "  <tbody>\n",
       "    <tr>\n",
       "      <th>total_sales</th>\n",
       "      <td>1.0</td>\n",
       "      <td>-0.040132</td>\n",
       "      <td>0.402661</td>\n",
       "    </tr>\n",
       "  </tbody>\n",
       "</table>\n",
       "</div>"
      ],
      "text/plain": [
       "             total_sales  user_score  critic_score\n",
       "total_sales          1.0   -0.040132      0.402661"
      ]
     },
     "execution_count": 34,
     "metadata": {},
     "output_type": "execute_result"
    }
   ],
   "source": [
    "ps4_data[['total_sales', 'user_score', 'critic_score']].corr().head(1)"
   ]
  },
  {
   "cell_type": "markdown",
   "metadata": {},
   "source": [
    "<div style=\"border-radius: 3px; border: 2px solid black; padding: 0px;\">      \n",
    "<div class=\"alert alert-warning\">\n",
    "<s>Комментарий ревьюера ⚠️:</b> \n",
    "    \n",
    "Корреляция меньше 0.5 уже говорит о слабой взаимосвязи (даже скорее об её отсутствии). Необходимо обновить выводы \n",
    "    \n",
    "</div>\n",
    "</div>"
   ]
  },
  {
   "cell_type": "markdown",
   "metadata": {},
   "source": [
    "<div style=\"border-radius: 3px; border: 2px solid black; padding: 0px;\">\n",
    "<div class=\"alert alert-block alert-info\">\n",
    "<b>Комментарий студента V.2🎓:</b>\n",
    "\n",
    "Ну вот прям даже не знаю. Судя по графику можно сказать, что при высоких оценках (больше 60) корреляция-то есть)\n",
    "\n",
    "Вывод обновил.\n",
    "</div> \n",
    "</div> "
   ]
  },
  {
   "cell_type": "markdown",
   "metadata": {},
   "source": [
    "<div style=\"border-radius: 3px; border: 2px solid black; padding: 0px;\">     \n",
    "<div class=\"alert alert-success\">\n",
    "<b>Комментарий ревьюера V.3 ✔️:</b> \n",
    "    \n",
    "Верно, для этого стоит проанализировать связь оценок выше 60 с продажами, а это уже углубление исследования. По общей картине и числовым значениям связь очень слабая или её нет ⭐   \n",
    "\n",
    "</div>\n",
    "</div>"
   ]
  },
  {
   "cell_type": "markdown",
   "metadata": {},
   "source": [
    "Посчитав коэффициент корреляции, мы видим, что для пользовательских оценок он очень мал, при этом для критиков он существенно больше (0.4), что говорит нам о том, что оценка критиков практически не оказывает влияния на продажи."
   ]
  },
  {
   "cell_type": "markdown",
   "metadata": {},
   "source": [
    "<div style=\"border-radius: 3px; border: 2px solid black; padding: 0px;\">\n",
    "<div class=\"alert alert-block alert-info\">\n",
    "<b>Комментарий студента 🎓:</b>\n",
    "\n",
    "Здесь тоже обновил вывод)\n",
    "\n",
    "</div> \n",
    "</div> "
   ]
  },
  {
   "cell_type": "code",
   "execution_count": 35,
   "metadata": {},
   "outputs": [
    {
     "data": {
      "image/png": "[encoded data removed]",
      "text/plain": [
       "<Figure size 216x216 with 1 Axes>"
      ]
     },
     "metadata": {
      "needs_background": "light"
     },
     "output_type": "display_data"
    },
    {
     "data": {
      "image/png": "[encoded data removed]",
      "text/plain": [
       "<Figure size 216x216 with 1 Axes>"
      ]
     },
     "metadata": {
      "needs_background": "light"
     },
     "output_type": "display_data"
    },
    {
     "name": "stdout",
     "output_type": "stream",
     "text": [
      "             total_sales  user_score  critic_score\n",
      "total_sales          1.0   -0.070384      0.428677\n"
     ]
    },
    {
     "data": {
      "image/png": "[encoded data removed]",
      "text/plain": [
       "<Figure size 216x216 with 1 Axes>"
      ]
     },
     "metadata": {
      "needs_background": "light"
     },
     "output_type": "display_data"
    },
    {
     "data": {
      "image/png": "[encoded data removed]",
      "text/plain": [
       "<Figure size 216x216 with 1 Axes>"
      ]
     },
     "metadata": {
      "needs_background": "light"
     },
     "output_type": "display_data"
    },
    {
     "name": "stdout",
     "output_type": "stream",
     "text": [
      "             total_sales  user_score  critic_score\n",
      "total_sales          1.0    0.215193      0.314117\n"
     ]
    },
    {
     "data": {
      "image/png": "[encoded data removed]",
      "text/plain": [
       "<Figure size 216x216 with 1 Axes>"
      ]
     },
     "metadata": {
      "needs_background": "light"
     },
     "output_type": "display_data"
    },
    {
     "data": {
      "image/png": "[encoded data removed]",
      "text/plain": [
       "<Figure size 216x216 with 1 Axes>"
      ]
     },
     "metadata": {
      "needs_background": "light"
     },
     "output_type": "display_data"
    },
    {
     "name": "stdout",
     "output_type": "stream",
     "text": [
      "             total_sales  user_score  critic_score\n",
      "total_sales          1.0   -0.166761      0.446575\n"
     ]
    },
    {
     "data": {
      "image/png": "[encoded data removed]",
      "text/plain": [
       "<Figure size 216x216 with 1 Axes>"
      ]
     },
     "metadata": {
      "needs_background": "light"
     },
     "output_type": "display_data"
    },
    {
     "data": {
      "image/png": "[encoded data removed]",
      "text/plain": [
       "<Figure size 216x216 with 1 Axes>"
      ]
     },
     "metadata": {
      "needs_background": "light"
     },
     "output_type": "display_data"
    },
    {
     "name": "stdout",
     "output_type": "stream",
     "text": [
      "             total_sales  user_score  critic_score\n",
      "total_sales          1.0   -0.138445      0.525723\n"
     ]
    },
    {
     "data": {
      "image/png": "[encoded data removed]",
      "text/plain": [
       "<Figure size 216x216 with 1 Axes>"
      ]
     },
     "metadata": {
      "needs_background": "light"
     },
     "output_type": "display_data"
    },
    {
     "data": {
      "image/png": "[encoded data removed]",
      "text/plain": [
       "<Figure size 216x216 with 1 Axes>"
      ]
     },
     "metadata": {
      "needs_background": "light"
     },
     "output_type": "display_data"
    },
    {
     "name": "stdout",
     "output_type": "stream",
     "text": [
      "             total_sales  user_score  critic_score\n",
      "total_sales          1.0    0.407926      0.370201\n"
     ]
    }
   ],
   "source": [
    "for platform in ['XOne', '3DS', 'PS3', 'X360', 'WiiU']:\n",
    "    temp_data = filtred_data.query(f'platform == \"{platform}\"')\n",
    "    temp_data.plot(kind='scatter', x='user_score', y='total_sales', alpha=.5, figsize=(3, 3))\n",
    "    plt.title(platform)\n",
    "    plt.xlabel('Оценка пользователей')\n",
    "    plt.ylabel('Общее число продаж')\n",
    "    plt.show()\n",
    "    temp_data.plot(kind='scatter', x='critic_score', y='total_sales', alpha=.5, figsize=(3, 3))\n",
    "    plt.title(platform)\n",
    "    plt.xlabel('Оценка критиков')\n",
    "    plt.ylabel('Общее число продаж')\n",
    "    plt.show()\n",
    "    print(temp_data[['total_sales', 'user_score', 'critic_score']].corr().head(1))"
   ]
  },
  {
   "cell_type": "markdown",
   "metadata": {},
   "source": [
    "Здесь можно выделить, что самая сильная корреляция продаж с оценками критиков у X360 (0.5). Далее идут PS3(0.45), XOne(0.43) и WiiU(0.37).\n",
    "\n",
    "Также можно отметить, что для платформы WiiU коэффициент корреляции количества продаж от оценки пользователей равен 0.4, что говорит нам об очень слабой зависимости."
   ]
  },
  {
   "cell_type": "markdown",
   "metadata": {},
   "source": [
    "<div style=\"border-radius: 3px; border: 2px solid black; padding: 0px;\">\n",
    "<div class=\"alert alert-block alert-info\">\n",
    "<b>Комментарий студента 🎓:</b>\n",
    "\n",
    "Обновил вывод здесь, и графики сделал чуть поменьше.\n",
    "\n",
    "</div> \n",
    "</div> "
   ]
  },
  {
   "cell_type": "markdown",
   "metadata": {},
   "source": [
    "<div style=\"border-radius: 3px; border: 2px solid black; padding: 0px;\">\n",
    "<div class=\"alert alert-block alert-info\">\n",
    "<b>Комментарий студента V.2🎓:</b>\n",
    "\n",
    "Обновился ещё раз))\n",
    "\n",
    "</div> \n",
    "</div> "
   ]
  },
  {
   "cell_type": "markdown",
   "metadata": {},
   "source": [
    "<div style=\"border-radius: 3px; border: 2px solid black; padding: 0px;\">     \n",
    "<div class=\"alert alert-success\">\n",
    "<b>Комментарий ревьюера V.3 ✔️:</b> \n",
    "    \n",
    "Отлично ⭐   \n",
    "\n",
    "</div>\n",
    "</div>"
   ]
  },
  {
   "cell_type": "markdown",
   "metadata": {},
   "source": [
    "### <a id='toc1_3_5_'></a>[Определение самых прибыльных жанров](#toc0_)"
   ]
  },
  {
   "cell_type": "markdown",
   "metadata": {},
   "source": [
    "Посмотрим на общее распределение игр по жанрам."
   ]
  },
  {
   "cell_type": "code",
   "execution_count": 36,
   "metadata": {},
   "outputs": [
    {
     "name": "stdout",
     "output_type": "stream",
     "text": [
      "              genre_count\n",
      "genre                    \n",
      "Action                457\n",
      "Role-Playing          144\n",
      "Sports                138\n",
      "Shooter               106\n",
      "Adventure              98\n",
      "Misc                   88\n",
      "Racing                 53\n",
      "Fighting               51\n",
      "Platform               33\n",
      "Simulation             23\n",
      "Strategy               16\n",
      "Puzzle                 12\n"
     ]
    },
    {
     "data": {
      "image/png": "[encoded data removed]",
      "text/plain": [
       "<Figure size 432x288 with 1 Axes>"
      ]
     },
     "metadata": {
      "needs_background": "light"
     },
     "output_type": "display_data"
    }
   ],
   "source": [
    "(filtred_data\n",
    "    .groupby('genre')\n",
    "    .agg(genre_count=('genre', 'count'))\n",
    "    .sort_values(by='genre_count', ascending=False)\n",
    "    .plot(kind='bar', grid=True, legend=False))\n",
    "plt.xlabel('Жанры игр')\n",
    "plt.ylabel('Количество выпущенных игр')\n",
    "plt.title('Распределение игр по жанрам')\n",
    "print(filtred_data\n",
    "    .groupby('genre')\n",
    "    .agg(genre_count=('genre', 'count'))\n",
    "    .sort_values(by='genre_count', ascending=False))"
   ]
  },
  {
   "cell_type": "markdown",
   "metadata": {},
   "source": [
    "<div style=\"border-radius: 3px; border: 2px solid black; padding: 0px;\">      \n",
    "<div class=\"alert alert-warning\">\n",
    "<s>Комментарий ревьюера ⚠️:</b> \n",
    "    \n",
    "Здесь и ниже рекомендую сделать сортировку перед построением графика, который после этого станет проще анализировать \n",
    "    \n",
    "</div>\n",
    "</div>"
   ]
  },
  {
   "cell_type": "markdown",
   "metadata": {},
   "source": [
    "<div style=\"border-radius: 3px; border: 2px solid black; padding: 0px;\">\n",
    "<div class=\"alert alert-block alert-info\">\n",
    "<b>Комментарий студента 🎓:</b>\n",
    "\n",
    "Принято! :)\n",
    "\n",
    "Также подправил вывод.\n",
    "\n",
    "</div> \n",
    "</div> "
   ]
  },
  {
   "cell_type": "markdown",
   "metadata": {},
   "source": [
    "<div style=\"border-radius: 3px; border: 2px solid black; padding: 0px;\">     \n",
    "<div class=\"alert alert-success\">\n",
    "<b>Комментарий ревьюера V.2 ✔️:</b> \n",
    "    \n",
    "Отлично ⭐   \n",
    "\n",
    "</div>\n",
    "</div>"
   ]
  },
  {
   "cell_type": "markdown",
   "metadata": {},
   "source": [
    "На графике распределения игр по жанрам можно выделить игры жанра `Action`. Игр этого жанра было выпущено больше всего(457 млн.). Ролевые игры и Спорт расположились далеко ниже.\n",
    "\n",
    "Рассмотрим диаграмму зависимости общего числа продаж от жанра."
   ]
  },
  {
   "cell_type": "code",
   "execution_count": 37,
   "metadata": {},
   "outputs": [
    {
     "data": {
      "text/plain": [
       "Text(0.5, 1.0, 'Зависимость проданных копий от жанра игр')"
      ]
     },
     "execution_count": 37,
     "metadata": {},
     "output_type": "execute_result"
    },
    {
     "data": {
      "image/png": "[encoded data removed]",
      "text/plain": [
       "<Figure size 432x288 with 1 Axes>"
      ]
     },
     "metadata": {
      "needs_background": "light"
     },
     "output_type": "display_data"
    }
   ],
   "source": [
    "(\n",
    "    filtred_data\n",
    "    .groupby('genre').agg({'total_sales': 'sum'})\n",
    "    .sort_values(by='total_sales', ascending=False)\n",
    "    .plot(kind='bar', grid=True, legend=False)\n",
    ")\n",
    "plt.xlabel('Жанры игр')\n",
    "plt.ylabel('Количество проданных копий, млн.')\n",
    "plt.title('Зависимость проданных копий от жанра игр')"
   ]
  },
  {
   "cell_type": "markdown",
   "metadata": {},
   "source": [
    "Здесь можно наблюдать два явных лидера по жанрам: Action (более 180 млн. продаж) и Shooter (чуть более 160млн. копий).\n",
    "\n",
    "За ними расположились жанры Sports и Role-Playing с продажами в районе 100млн.\n",
    "\n",
    "Остальные жанры продавались не так успешно ~30 и менее продаж на каждый жанр. Меньше всего покупают Стратегии и Паззлы.\n",
    "\n",
    "Посчитаем также средние/медианные продажи по жанрам, чтобы понять, какие из них стабильно приносят прибыль(значения в млн. проданных копий за игру)."
   ]
  },
  {
   "cell_type": "code",
   "execution_count": 38,
   "metadata": {},
   "outputs": [
    {
     "data": {
      "text/html": [
       "<div>\n",
       "<style scoped>\n",
       "    .dataframe tbody tr th:only-of-type {\n",
       "        vertical-align: middle;\n",
       "    }\n",
       "\n",
       "    .dataframe tbody tr th {\n",
       "        vertical-align: top;\n",
       "    }\n",
       "\n",
       "    .dataframe thead th {\n",
       "        text-align: right;\n",
       "    }\n",
       "</style>\n",
       "<table border=\"1\" class=\"dataframe\">\n",
       "  <thead>\n",
       "    <tr style=\"text-align: right;\">\n",
       "      <th></th>\n",
       "      <th>median</th>\n",
       "      <th>mean</th>\n",
       "    </tr>\n",
       "    <tr>\n",
       "      <th>genre</th>\n",
       "      <th></th>\n",
       "      <th></th>\n",
       "    </tr>\n",
       "  </thead>\n",
       "  <tbody>\n",
       "    <tr>\n",
       "      <th>Shooter</th>\n",
       "      <td>0.680</td>\n",
       "      <td>1.551981</td>\n",
       "    </tr>\n",
       "    <tr>\n",
       "      <th>Sports</th>\n",
       "      <td>0.315</td>\n",
       "      <td>0.773188</td>\n",
       "    </tr>\n",
       "    <tr>\n",
       "      <th>Role-Playing</th>\n",
       "      <td>0.170</td>\n",
       "      <td>0.628264</td>\n",
       "    </tr>\n",
       "    <tr>\n",
       "      <th>Platform</th>\n",
       "      <td>0.160</td>\n",
       "      <td>0.540606</td>\n",
       "    </tr>\n",
       "    <tr>\n",
       "      <th>Fighting</th>\n",
       "      <td>0.150</td>\n",
       "      <td>0.537843</td>\n",
       "    </tr>\n",
       "    <tr>\n",
       "      <th>Racing</th>\n",
       "      <td>0.130</td>\n",
       "      <td>0.505283</td>\n",
       "    </tr>\n",
       "    <tr>\n",
       "      <th>Simulation</th>\n",
       "      <td>0.120</td>\n",
       "      <td>0.282174</td>\n",
       "    </tr>\n",
       "    <tr>\n",
       "      <th>Action</th>\n",
       "      <td>0.120</td>\n",
       "      <td>0.405164</td>\n",
       "    </tr>\n",
       "    <tr>\n",
       "      <th>Misc</th>\n",
       "      <td>0.110</td>\n",
       "      <td>0.351250</td>\n",
       "    </tr>\n",
       "    <tr>\n",
       "      <th>Adventure</th>\n",
       "      <td>0.060</td>\n",
       "      <td>0.149388</td>\n",
       "    </tr>\n",
       "    <tr>\n",
       "      <th>Strategy</th>\n",
       "      <td>0.060</td>\n",
       "      <td>0.093125</td>\n",
       "    </tr>\n",
       "    <tr>\n",
       "      <th>Puzzle</th>\n",
       "      <td>0.050</td>\n",
       "      <td>0.179167</td>\n",
       "    </tr>\n",
       "  </tbody>\n",
       "</table>\n",
       "</div>"
      ],
      "text/plain": [
       "              median      mean\n",
       "genre                         \n",
       "Shooter        0.680  1.551981\n",
       "Sports         0.315  0.773188\n",
       "Role-Playing   0.170  0.628264\n",
       "Platform       0.160  0.540606\n",
       "Fighting       0.150  0.537843\n",
       "Racing         0.130  0.505283\n",
       "Simulation     0.120  0.282174\n",
       "Action         0.120  0.405164\n",
       "Misc           0.110  0.351250\n",
       "Adventure      0.060  0.149388\n",
       "Strategy       0.060  0.093125\n",
       "Puzzle         0.050  0.179167"
      ]
     },
     "execution_count": 38,
     "metadata": {},
     "output_type": "execute_result"
    }
   ],
   "source": [
    "(\n",
    "    filtred_data\n",
    "    .groupby('genre').agg(\n",
    "        median=('total_sales', 'median'),\n",
    "        mean = ('total_sales', 'mean')\n",
    "        )\n",
    "        .sort_values(by='median', ascending=False)\n",
    ")"
   ]
  },
  {
   "cell_type": "markdown",
   "metadata": {},
   "source": [
    "Судя по таблице, можно сказать, что показатель среднего(медиана) количества продаж больше всего у игр жанра Шутер (почти 700 тысяч), на втором месте со значением 315 тысяч игры жанра Спорт. Тройку лидеров замыкает жанр Ролевые игры с показателем 170 тысяч. В пятёрку также вошли платформеры и файтинги (160 и 150 соответственно). Хуже всего продаются Puzzle, Strategy и Adventure - 50-60 тысяч продаж за игру в этих жанрах.\n",
    "\n",
    "При этом, стоит обратить внимание на жанр Action. При большом количестве продаж в общем, среднее число продаж на игру достаточно мало. А значит инвестировать в этот жанр, возможно, не стоит - большая вероятность вложиться в невыгодный проект."
   ]
  },
  {
   "cell_type": "markdown",
   "metadata": {},
   "source": [
    "<div style=\"border-radius: 3px; border: 2px solid black; padding: 0px;\">    \n",
    "<div class=\"alert alert-danger\">\n",
    "<s>Комментарий ревьюера ❌:</b> \n",
    "    \n",
    "Мы правильно выяснили, какие жанры являются популярными из-за текущей игровой моды (оценили общие суммарные продажи). Чтобы понять полную картину, нам необходимо также рассмотреть средние/медианные продажи по жанрам (это стандартная практика при анализе продаж), чтобы понять, какие из них стабильно приносят прибыль. С учётом этого, нужно дополнить исследование, а вывод ниже необходимо обновить\n",
    "    \n",
    "</div>\n",
    "</div>"
   ]
  },
  {
   "cell_type": "markdown",
   "metadata": {},
   "source": [
    "<div style=\"border-radius: 3px; border: 2px solid black; padding: 0px;\">\n",
    "<div class=\"alert alert-block alert-info\">\n",
    "<b>Комментарий студента 🎓:</b>\n",
    "\n",
    "Слушай, а прикольно)) Я чувствовал, что количество выпущенных игр не всегда является показателем прибыльности, но не знал, где это нащупать. Как бы это всё запомнить.\n",
    "\n",
    "</div> \n",
    "</div> "
   ]
  },
  {
   "cell_type": "markdown",
   "metadata": {},
   "source": [
    "<div style=\"border-radius: 3px; border: 2px solid black; padding: 0px;\">     \n",
    "<div class=\"alert alert-success\">\n",
    "<b>Комментарий ревьюера V.2 ✔️:</b> \n",
    "    \n",
    "Согласен ⭐ Кстати, здесь можно ещё сказать о том, что популярные игры не всегда стабильно приносят прибыль, например выделяется жанр action  \n",
    "\n",
    "</div>\n",
    "</div>"
   ]
  },
  {
   "cell_type": "markdown",
   "metadata": {},
   "source": [
    "<div style=\"border-radius: 3px; border: 2px solid black; padding: 0px;\">\n",
    "<div class=\"alert alert-block alert-info\">\n",
    "<b>Комментарий студента V.2🎓:</b>\n",
    "\n",
    "Здесь тоже поменял)\n",
    "\n",
    "</div> \n",
    "</div> "
   ]
  },
  {
   "cell_type": "markdown",
   "metadata": {},
   "source": [
    "<div style=\"border-radius: 3px; border: 2px solid black; padding: 0px;\">     \n",
    "<div class=\"alert alert-success\">\n",
    "<b>Комментарий ревьюера V.3 ✔️:</b> \n",
    "    \n",
    "Отлично ⭐   \n",
    "\n",
    "</div>\n",
    "</div>"
   ]
  },
  {
   "cell_type": "markdown",
   "metadata": {},
   "source": [
    "### <a id='toc1_3_6_'></a>[Вывод в блоке исследовательского анализа данных](#toc0_)"
   ]
  },
  {
   "cell_type": "markdown",
   "metadata": {},
   "source": [
    "В данном блоке мы рассмотрели различные критерии, которые могут оказывать влияние на успешность игры. Вот что нам удалось выяснить:\n",
    "\n",
    "1. Больше всего мировых продаж за PS4 (почти 40% от общего числа продаж), на втором месте идёт XOne с долей рынка около 20%, на третьем месте 3DS с ~12% от общего числа продаж. Остальные платформы набрали менее 10%. У всех платформ имеется тенденция к снижению количества продаж за весь рассматриваемый период, за исключением PS4 и XOne (у них, как и всех остальных платформ снижение продаж за 2016 год может обуславливаться неполными данными за 2016).\n",
    "2. Отзывы критиков практически не оказывают влияние на количество продаж, влияние становится тем больше, чем ближе оценка к максимально возможному значению, при этом оценки пользователей на число продаж не влияют.\n",
    "3. Самыми популярными жанрами являются игры жанра Shooter, Action, Sports и Role Playing, однако судя по средним медианным значениям продаж больше всего окупаются Shooter, Sports, Role Playing, Platform и Fighting, а вот жанр Action нечасто достигает высоких продаж."
   ]
  },
  {
   "cell_type": "markdown",
   "metadata": {},
   "source": [
    "## <a id='toc1_4_'></a>[Портрет пользователя в каждом регионе](#toc0_)"
   ]
  },
  {
   "cell_type": "markdown",
   "metadata": {},
   "source": [
    "### <a id='toc1_4_1_'></a>[ТОП-5 популярных платформ](#toc0_)"
   ]
  },
  {
   "cell_type": "markdown",
   "metadata": {},
   "source": [
    "Составим рейтинг ТОП-5 популярных платформ для каждого региона. Для анализа возьмем данные по всем играм, выпущенных за период 2014 - 2016 годы."
   ]
  },
  {
   "cell_type": "markdown",
   "metadata": {},
   "source": [
    "<div style=\"border-radius: 3px; border: 2px solid black; padding: 0px;\">\n",
    "<div class=\"alert alert-block alert-info\">\n",
    "<b>Комментарий студента 🎓:</b>\n",
    "\n",
    "Здесь анализ проведён заново с учётом данных только за 2016 год.\n",
    "\n",
    "</div> \n",
    "</div> "
   ]
  },
  {
   "cell_type": "markdown",
   "metadata": {},
   "source": [
    "<div style=\"border-radius: 3px; border: 2px solid black; padding: 0px;\">\n",
    "<div class=\"alert alert-block alert-info\">\n",
    "<b>Комментарий студента 🎓:</b>\n",
    "\n",
    "И ещ-щ-щ-щё раз)) 2014-2016 наше всё.\n",
    "\n",
    "</div> \n",
    "</div> "
   ]
  },
  {
   "cell_type": "markdown",
   "metadata": {},
   "source": [
    "<div style=\"border-radius: 3px; border: 2px solid black; padding: 0px;\">     \n",
    "<div class=\"alert alert-success\">\n",
    "<b>Комментарий ревьюера V.3 ✔️:</b> \n",
    "    \n",
    "~~~Может всё таки ещё разок, а?~~~ Отлично ⭐   \n",
    "\n",
    "</div>\n",
    "</div>"
   ]
  },
  {
   "cell_type": "code",
   "execution_count": 39,
   "metadata": {},
   "outputs": [],
   "source": [
    "filtred_data = data.query('year_of_release >= 2014')"
   ]
  },
  {
   "cell_type": "code",
   "execution_count": 40,
   "metadata": {},
   "outputs": [
    {
     "data": {
      "text/html": [
       "<style  type=\"text/css\" >\n",
       "#T_89a39_row0_col0,#T_89a39_row0_col1{\n",
       "            background-color:  #b40426;\n",
       "            color:  #f1f1f1;\n",
       "        }#T_89a39_row1_col0,#T_89a39_row1_col1{\n",
       "            background-color:  #f18f71;\n",
       "            color:  #000000;\n",
       "        }#T_89a39_row2_col0,#T_89a39_row2_col1{\n",
       "            background-color:  #536edd;\n",
       "            color:  #000000;\n",
       "        }#T_89a39_row3_col0,#T_89a39_row3_col1{\n",
       "            background-color:  #3c4ec2;\n",
       "            color:  #f1f1f1;\n",
       "        }#T_89a39_row4_col0,#T_89a39_row4_col1{\n",
       "            background-color:  #3b4cc0;\n",
       "            color:  #f1f1f1;\n",
       "        }</style><table id=\"T_89a39_\" ><thead>    <tr>        <th class=\"blank level0\" ></th>        <th class=\"col_heading level0 col0\" >na_sales</th>        <th class=\"col_heading level0 col1\" >%</th>    </tr>    <tr>        <th class=\"index_name level0\" >platform</th>        <th class=\"blank\" ></th>        <th class=\"blank\" ></th>    </tr></thead><tbody>\n",
       "                <tr>\n",
       "                        <th id=\"T_89a39_level0_row0\" class=\"row_heading level0 row0\" >PS4</th>\n",
       "                        <td id=\"T_89a39_row0_col0\" class=\"data row0 col0\" >98.610000</td>\n",
       "                        <td id=\"T_89a39_row0_col1\" class=\"data row0 col1\" >34.714497</td>\n",
       "            </tr>\n",
       "            <tr>\n",
       "                        <th id=\"T_89a39_level0_row1\" class=\"row_heading level0 row1\" >XOne</th>\n",
       "                        <td id=\"T_89a39_row1_col0\" class=\"data row1 col0\" >81.270000</td>\n",
       "                        <td id=\"T_89a39_row1_col1\" class=\"data row1 col1\" >28.610153</td>\n",
       "            </tr>\n",
       "            <tr>\n",
       "                        <th id=\"T_89a39_level0_row2\" class=\"row_heading level0 row2\" >X360</th>\n",
       "                        <td id=\"T_89a39_row2_col0\" class=\"data row2 col0\" >28.300000</td>\n",
       "                        <td id=\"T_89a39_row2_col1\" class=\"data row2 col1\" >9.962684</td>\n",
       "            </tr>\n",
       "            <tr>\n",
       "                        <th id=\"T_89a39_level0_row3\" class=\"row_heading level0 row3\" >3DS</th>\n",
       "                        <td id=\"T_89a39_row3_col0\" class=\"data row3 col0\" >22.640000</td>\n",
       "                        <td id=\"T_89a39_row3_col1\" class=\"data row3 col1\" >7.970147</td>\n",
       "            </tr>\n",
       "            <tr>\n",
       "                        <th id=\"T_89a39_level0_row4\" class=\"row_heading level0 row4\" >PS3</th>\n",
       "                        <td id=\"T_89a39_row4_col0\" class=\"data row4 col0\" >22.050000</td>\n",
       "                        <td id=\"T_89a39_row4_col1\" class=\"data row4 col1\" >7.762445</td>\n",
       "            </tr>\n",
       "    </tbody></table>"
      ],
      "text/plain": [
       "<pandas.io.formats.style.Styler at 0x7f70b9fd5ca0>"
      ]
     },
     "execution_count": 40,
     "metadata": {},
     "output_type": "execute_result"
    }
   ],
   "source": [
    "na_sales = filtred_data.groupby('platform').agg({\n",
    "    'na_sales': 'sum'\n",
    "})\n",
    "na_sales['%'] = na_sales['na_sales'] / na_sales['na_sales'].sum() * 100\n",
    "(na_sales\n",
    "    .sort_values(by='%', ascending=False)\n",
    "    .head(5)\n",
    "    .style.background_gradient('coolwarm'))"
   ]
  },
  {
   "cell_type": "markdown",
   "metadata": {},
   "source": [
    "Итак, по Северной Америке наблюдается преимущество у приставки PS4 с долей продаж 35%, второе место у XOne с ~29%. Остальным приставкам досталось менее 10% от доли рынка на каждый (X360 - ~10%, 3DS - 8%, PS3 - 7.8%)\n",
    "\n",
    "Посмотрим, как распределился ТОП-5 по Европе."
   ]
  },
  {
   "cell_type": "code",
   "execution_count": 41,
   "metadata": {},
   "outputs": [
    {
     "data": {
      "text/html": [
       "<style  type=\"text/css\" >\n",
       "#T_3332e_row0_col0,#T_3332e_row0_col1{\n",
       "            background-color:  #b40426;\n",
       "            color:  #f1f1f1;\n",
       "        }#T_3332e_row1_col0,#T_3332e_row1_col1{\n",
       "            background-color:  #92b4fe;\n",
       "            color:  #000000;\n",
       "        }#T_3332e_row2_col0,#T_3332e_row2_col1{\n",
       "            background-color:  #5470de;\n",
       "            color:  #000000;\n",
       "        }#T_3332e_row3_col0,#T_3332e_row3_col1{\n",
       "            background-color:  #3f53c6;\n",
       "            color:  #f1f1f1;\n",
       "        }#T_3332e_row4_col0,#T_3332e_row4_col1{\n",
       "            background-color:  #3b4cc0;\n",
       "            color:  #f1f1f1;\n",
       "        }</style><table id=\"T_3332e_\" ><thead>    <tr>        <th class=\"blank level0\" ></th>        <th class=\"col_heading level0 col0\" >eu_sales</th>        <th class=\"col_heading level0 col1\" >%</th>    </tr>    <tr>        <th class=\"index_name level0\" >platform</th>        <th class=\"blank\" ></th>        <th class=\"blank\" ></th>    </tr></thead><tbody>\n",
       "                <tr>\n",
       "                        <th id=\"T_3332e_level0_row0\" class=\"row_heading level0 row0\" >PS4</th>\n",
       "                        <td id=\"T_3332e_row0_col0\" class=\"data row0 col0\" >130.040000</td>\n",
       "                        <td id=\"T_3332e_row0_col1\" class=\"data row0 col1\" >48.041968</td>\n",
       "            </tr>\n",
       "            <tr>\n",
       "                        <th id=\"T_3332e_level0_row1\" class=\"row_heading level0 row1\" >XOne</th>\n",
       "                        <td id=\"T_3332e_row1_col0\" class=\"data row1 col0\" >46.250000</td>\n",
       "                        <td id=\"T_3332e_row1_col1\" class=\"data row1 col1\" >17.086597</td>\n",
       "            </tr>\n",
       "            <tr>\n",
       "                        <th id=\"T_3332e_level0_row2\" class=\"row_heading level0 row2\" >PS3</th>\n",
       "                        <td id=\"T_3332e_row2_col0\" class=\"data row2 col0\" >25.540000</td>\n",
       "                        <td id=\"T_3332e_row2_col1\" class=\"data row2 col1\" >9.435496</td>\n",
       "            </tr>\n",
       "            <tr>\n",
       "                        <th id=\"T_3332e_level0_row3\" class=\"row_heading level0 row3\" >PC</th>\n",
       "                        <td id=\"T_3332e_row3_col0\" class=\"data row3 col0\" >17.970000</td>\n",
       "                        <td id=\"T_3332e_row3_col1\" class=\"data row3 col1\" >6.638836</td>\n",
       "            </tr>\n",
       "            <tr>\n",
       "                        <th id=\"T_3332e_level0_row4\" class=\"row_heading level0 row4\" >3DS</th>\n",
       "                        <td id=\"T_3332e_row4_col0\" class=\"data row4 col0\" >16.120000</td>\n",
       "                        <td id=\"T_3332e_row4_col1\" class=\"data row4 col1\" >5.955372</td>\n",
       "            </tr>\n",
       "    </tbody></table>"
      ],
      "text/plain": [
       "<pandas.io.formats.style.Styler at 0x7f70ba40aaf0>"
      ]
     },
     "execution_count": 41,
     "metadata": {},
     "output_type": "execute_result"
    }
   ],
   "source": [
    "eu_sales = filtred_data.groupby('platform').agg({\n",
    "    'eu_sales': 'sum'\n",
    "})\n",
    "eu_sales['%'] = eu_sales['eu_sales'] / eu_sales['eu_sales'].sum() * 100\n",
    "(eu_sales\n",
    "    .sort_values(by='%', ascending=False)\n",
    "    .head(5)\n",
    "    .style.background_gradient('coolwarm'))"
   ]
  },
  {
   "cell_type": "markdown",
   "metadata": {},
   "source": [
    "В Европейской части явным лидером продаж стала приставка PS4 - 48%. XOne - 17%, остальные - менее 10%. \n",
    "\n",
    "Получается, что в отличие от Северной Америки, в Европе любят играть больше на PC, чем на X360. Однако, двойка лидеров у них одинаковая с сильным преимуществом у PS4 для Европы.\n",
    "\n",
    "Что же нам скажут продажи в Японии?"
   ]
  },
  {
   "cell_type": "code",
   "execution_count": 42,
   "metadata": {},
   "outputs": [
    {
     "data": {
      "text/html": [
       "<style  type=\"text/css\" >\n",
       "#T_2bba9_row0_col0,#T_2bba9_row0_col1{\n",
       "            background-color:  #b40426;\n",
       "            color:  #f1f1f1;\n",
       "        }#T_2bba9_row1_col0,#T_2bba9_row1_col1{\n",
       "            background-color:  #7ea1fa;\n",
       "            color:  #000000;\n",
       "        }#T_2bba9_row2_col0,#T_2bba9_row2_col1{\n",
       "            background-color:  #7a9df8;\n",
       "            color:  #000000;\n",
       "        }#T_2bba9_row3_col0,#T_2bba9_row3_col1{\n",
       "            background-color:  #5b7ae5;\n",
       "            color:  #000000;\n",
       "        }#T_2bba9_row4_col0,#T_2bba9_row4_col1{\n",
       "            background-color:  #3b4cc0;\n",
       "            color:  #f1f1f1;\n",
       "        }</style><table id=\"T_2bba9_\" ><thead>    <tr>        <th class=\"blank level0\" ></th>        <th class=\"col_heading level0 col0\" >jp_sales</th>        <th class=\"col_heading level0 col1\" >%</th>    </tr>    <tr>        <th class=\"index_name level0\" >platform</th>        <th class=\"blank\" ></th>        <th class=\"blank\" ></th>    </tr></thead><tbody>\n",
       "                <tr>\n",
       "                        <th id=\"T_2bba9_level0_row0\" class=\"row_heading level0 row0\" >3DS</th>\n",
       "                        <td id=\"T_2bba9_row0_col0\" class=\"data row0 col0\" >44.240000</td>\n",
       "                        <td id=\"T_2bba9_row0_col1\" class=\"data row0 col1\" >47.523902</td>\n",
       "            </tr>\n",
       "            <tr>\n",
       "                        <th id=\"T_2bba9_level0_row1\" class=\"row_heading level0 row1\" >PS4</th>\n",
       "                        <td id=\"T_2bba9_row1_col0\" class=\"data row1 col0\" >15.020000</td>\n",
       "                        <td id=\"T_2bba9_row1_col1\" class=\"data row1 col1\" >16.134923</td>\n",
       "            </tr>\n",
       "            <tr>\n",
       "                        <th id=\"T_2bba9_level0_row2\" class=\"row_heading level0 row2\" >PSV</th>\n",
       "                        <td id=\"T_2bba9_row2_col0\" class=\"data row2 col0\" >14.540000</td>\n",
       "                        <td id=\"T_2bba9_row2_col1\" class=\"data row2 col1\" >15.619293</td>\n",
       "            </tr>\n",
       "            <tr>\n",
       "                        <th id=\"T_2bba9_level0_row3\" class=\"row_heading level0 row3\" >PS3</th>\n",
       "                        <td id=\"T_2bba9_row3_col0\" class=\"data row3 col0\" >11.220000</td>\n",
       "                        <td id=\"T_2bba9_row3_col1\" class=\"data row3 col1\" >12.052852</td>\n",
       "            </tr>\n",
       "            <tr>\n",
       "                        <th id=\"T_2bba9_level0_row4\" class=\"row_heading level0 row4\" >WiiU</th>\n",
       "                        <td id=\"T_2bba9_row4_col0\" class=\"data row4 col0\" >7.310000</td>\n",
       "                        <td id=\"T_2bba9_row4_col1\" class=\"data row4 col1\" >7.852616</td>\n",
       "            </tr>\n",
       "    </tbody></table>"
      ],
      "text/plain": [
       "<pandas.io.formats.style.Styler at 0x7f70b9e76cd0>"
      ]
     },
     "execution_count": 42,
     "metadata": {},
     "output_type": "execute_result"
    }
   ],
   "source": [
    "jp_sales = filtred_data.groupby('platform').agg({\n",
    "    'jp_sales': 'sum'\n",
    "})\n",
    "jp_sales['%'] = jp_sales['jp_sales'] / jp_sales['jp_sales'].sum() * 100\n",
    "(jp_sales\n",
    "    .sort_values(by='%', ascending=False)\n",
    "    .head(5)\n",
    "    .style.background_gradient('coolwarm'))"
   ]
  },
  {
   "cell_type": "markdown",
   "metadata": {},
   "source": [
    "В Японии, в отличие от предыдущих регионов, судя по таблице, очень любят портативные консоли. Большую часть рынка занимает 3DS (47,5%). Второе место поделили PS4 и PSV(опять же портативная консоль). На пятом месте также расположилась портативная консоль WiiU с 8% продаж."
   ]
  },
  {
   "cell_type": "markdown",
   "metadata": {},
   "source": [
    "<div style=\"border-radius: 3px; border: 2px solid black; padding: 0px;\">     \n",
    "<div class=\"alert alert-success\">\n",
    "<b>Комментарий ревьюера V.3 ✔️:</b> \n",
    "    \n",
    "Отлично ⭐   \n",
    "\n",
    "</div>\n",
    "</div>"
   ]
  },
  {
   "cell_type": "markdown",
   "metadata": {},
   "source": [
    "### <a id='toc1_4_2_'></a>[ТОП-5 популярных жанров](#toc0_)"
   ]
  },
  {
   "cell_type": "markdown",
   "metadata": {},
   "source": [
    "Посмотрим, как распределились предпочтения по жанрам в различных регионах."
   ]
  },
  {
   "cell_type": "code",
   "execution_count": 43,
   "metadata": {},
   "outputs": [
    {
     "data": {
      "text/html": [
       "<style  type=\"text/css\" >\n",
       "#T_c5229_row0_col0,#T_c5229_row0_col1{\n",
       "            background-color:  #b40426;\n",
       "            color:  #f1f1f1;\n",
       "        }#T_c5229_row1_col0,#T_c5229_row1_col1{\n",
       "            background-color:  #d65244;\n",
       "            color:  #000000;\n",
       "        }#T_c5229_row2_col0,#T_c5229_row2_col1{\n",
       "            background-color:  #d9dce1;\n",
       "            color:  #000000;\n",
       "        }#T_c5229_row3_col0,#T_c5229_row3_col1{\n",
       "            background-color:  #9abbff;\n",
       "            color:  #000000;\n",
       "        }#T_c5229_row4_col0,#T_c5229_row4_col1{\n",
       "            background-color:  #3b4cc0;\n",
       "            color:  #f1f1f1;\n",
       "        }</style><table id=\"T_c5229_\" ><thead>    <tr>        <th class=\"blank level0\" ></th>        <th class=\"col_heading level0 col0\" >na_sales</th>        <th class=\"col_heading level0 col1\" >%</th>    </tr>    <tr>        <th class=\"index_name level0\" >genre</th>        <th class=\"blank\" ></th>        <th class=\"blank\" ></th>    </tr></thead><tbody>\n",
       "                <tr>\n",
       "                        <th id=\"T_c5229_level0_row0\" class=\"row_heading level0 row0\" >Shooter</th>\n",
       "                        <td id=\"T_c5229_row0_col0\" class=\"data row0 col0\" >79.020000</td>\n",
       "                        <td id=\"T_c5229_row0_col1\" class=\"data row0 col1\" >27.818067</td>\n",
       "            </tr>\n",
       "            <tr>\n",
       "                        <th id=\"T_c5229_level0_row1\" class=\"row_heading level0 row1\" >Action</th>\n",
       "                        <td id=\"T_c5229_row1_col0\" class=\"data row1 col0\" >72.530000</td>\n",
       "                        <td id=\"T_c5229_row1_col1\" class=\"data row1 col1\" >25.533338</td>\n",
       "            </tr>\n",
       "            <tr>\n",
       "                        <th id=\"T_c5229_level0_row2\" class=\"row_heading level0 row2\" >Sports</th>\n",
       "                        <td id=\"T_c5229_row2_col0\" class=\"data row2 col0\" >46.130000</td>\n",
       "                        <td id=\"T_c5229_row2_col1\" class=\"data row2 col1\" >16.239527</td>\n",
       "            </tr>\n",
       "            <tr>\n",
       "                        <th id=\"T_c5229_level0_row3\" class=\"row_heading level0 row3\" >Role-Playing</th>\n",
       "                        <td id=\"T_c5229_row3_col0\" class=\"data row3 col0\" >33.470000</td>\n",
       "                        <td id=\"T_c5229_row3_col1\" class=\"data row3 col1\" >11.782722</td>\n",
       "            </tr>\n",
       "            <tr>\n",
       "                        <th id=\"T_c5229_level0_row4\" class=\"row_heading level0 row4\" >Misc</th>\n",
       "                        <td id=\"T_c5229_row4_col0\" class=\"data row4 col0\" >15.050000</td>\n",
       "                        <td id=\"T_c5229_row4_col1\" class=\"data row4 col1\" >5.298176</td>\n",
       "            </tr>\n",
       "    </tbody></table>"
      ],
      "text/plain": [
       "<pandas.io.formats.style.Styler at 0x7f70b9e76fa0>"
      ]
     },
     "execution_count": 43,
     "metadata": {},
     "output_type": "execute_result"
    }
   ],
   "source": [
    "na_genres = filtred_data.groupby('genre').agg({\n",
    "    'na_sales': 'sum'\n",
    "})\n",
    "na_genres['%'] = na_genres['na_sales'] / na_genres['na_sales'].sum() * 100\n",
    "(na_genres\n",
    "    .sort_values(by='%', ascending=False)\n",
    "    .head(5)\n",
    "    .style.background_gradient('coolwarm'))"
   ]
  },
  {
   "cell_type": "markdown",
   "metadata": {},
   "source": [
    "Первые места жанров забрали Action и Shooter. Что очень похоже на общемировые предпочтения. На последнем месте в ТОП5 жанр Misc(5%). "
   ]
  },
  {
   "cell_type": "code",
   "execution_count": 44,
   "metadata": {},
   "outputs": [
    {
     "data": {
      "text/html": [
       "<style  type=\"text/css\" >\n",
       "#T_30931_row0_col0,#T_30931_row0_col1{\n",
       "            background-color:  #b40426;\n",
       "            color:  #f1f1f1;\n",
       "        }#T_30931_row1_col0,#T_30931_row1_col1{\n",
       "            background-color:  #e36c55;\n",
       "            color:  #000000;\n",
       "        }#T_30931_row2_col0,#T_30931_row2_col1{\n",
       "            background-color:  #e2dad5;\n",
       "            color:  #000000;\n",
       "        }#T_30931_row3_col0,#T_30931_row3_col1{\n",
       "            background-color:  #86a9fc;\n",
       "            color:  #000000;\n",
       "        }#T_30931_row4_col0,#T_30931_row4_col1{\n",
       "            background-color:  #3b4cc0;\n",
       "            color:  #f1f1f1;\n",
       "        }</style><table id=\"T_30931_\" ><thead>    <tr>        <th class=\"blank level0\" ></th>        <th class=\"col_heading level0 col0\" >eu_sales</th>        <th class=\"col_heading level0 col1\" >%</th>    </tr>    <tr>        <th class=\"index_name level0\" >genre</th>        <th class=\"blank\" ></th>        <th class=\"blank\" ></th>    </tr></thead><tbody>\n",
       "                <tr>\n",
       "                        <th id=\"T_30931_level0_row0\" class=\"row_heading level0 row0\" >Action</th>\n",
       "                        <td id=\"T_30931_row0_col0\" class=\"data row0 col0\" >74.680000</td>\n",
       "                        <td id=\"T_30931_row0_col1\" class=\"data row0 col1\" >27.589774</td>\n",
       "            </tr>\n",
       "            <tr>\n",
       "                        <th id=\"T_30931_level0_row1\" class=\"row_heading level0 row1\" >Shooter</th>\n",
       "                        <td id=\"T_30931_row1_col0\" class=\"data row1 col0\" >65.520000</td>\n",
       "                        <td id=\"T_30931_row1_col1\" class=\"data row1 col1\" >24.205704</td>\n",
       "            </tr>\n",
       "            <tr>\n",
       "                        <th id=\"T_30931_level0_row2\" class=\"row_heading level0 row2\" >Sports</th>\n",
       "                        <td id=\"T_30931_row2_col0\" class=\"data row2 col0\" >45.730000</td>\n",
       "                        <td id=\"T_30931_row2_col1\" class=\"data row2 col1\" >16.894488</td>\n",
       "            </tr>\n",
       "            <tr>\n",
       "                        <th id=\"T_30931_level0_row3\" class=\"row_heading level0 row3\" >Role-Playing</th>\n",
       "                        <td id=\"T_30931_row3_col0\" class=\"data row3 col0\" >28.170000</td>\n",
       "                        <td id=\"T_30931_row3_col1\" class=\"data row3 col1\" >10.407123</td>\n",
       "            </tr>\n",
       "            <tr>\n",
       "                        <th id=\"T_30931_level0_row4\" class=\"row_heading level0 row4\" >Racing</th>\n",
       "                        <td id=\"T_30931_row4_col0\" class=\"data row4 col0\" >14.130000</td>\n",
       "                        <td id=\"T_30931_row4_col1\" class=\"data row4 col1\" >5.220186</td>\n",
       "            </tr>\n",
       "    </tbody></table>"
      ],
      "text/plain": [
       "<pandas.io.formats.style.Styler at 0x7f71241d9dc0>"
      ]
     },
     "execution_count": 44,
     "metadata": {},
     "output_type": "execute_result"
    }
   ],
   "source": [
    "eu_genres = filtred_data.groupby('genre').agg({\n",
    "    'eu_sales': 'sum'\n",
    "})\n",
    "eu_genres['%'] = eu_genres['eu_sales'] / eu_genres['eu_sales'].sum() * 100\n",
    "(eu_genres\n",
    "    .sort_values(by='%', ascending=False)\n",
    "    .head(5)\n",
    "    .style.background_gradient('coolwarm'))"
   ]
  },
  {
   "cell_type": "markdown",
   "metadata": {},
   "source": [
    "В Европе картина идентичная Северной Америке, только Экшн и Шутеры поменялись местами, а вместо Misc в Европе больше любят Гонки.\n",
    "\n",
    "Удивительно, что доли продаж для каждого места практически равны процентному распределению в Северной Америке. "
   ]
  },
  {
   "cell_type": "code",
   "execution_count": 45,
   "metadata": {},
   "outputs": [
    {
     "data": {
      "text/html": [
       "<style  type=\"text/css\" >\n",
       "#T_f5631_row0_col0,#T_f5631_row0_col1{\n",
       "            background-color:  #b40426;\n",
       "            color:  #f1f1f1;\n",
       "        }#T_f5631_row1_col0,#T_f5631_row1_col1{\n",
       "            background-color:  #ca3b37;\n",
       "            color:  #f1f1f1;\n",
       "        }#T_f5631_row2_col0,#T_f5631_row2_col1{\n",
       "            background-color:  #4b64d5;\n",
       "            color:  #f1f1f1;\n",
       "        }#T_f5631_row3_col0,#T_f5631_row3_col1{\n",
       "            background-color:  #4358cb;\n",
       "            color:  #f1f1f1;\n",
       "        }#T_f5631_row4_col0,#T_f5631_row4_col1{\n",
       "            background-color:  #3b4cc0;\n",
       "            color:  #f1f1f1;\n",
       "        }</style><table id=\"T_f5631_\" ><thead>    <tr>        <th class=\"blank level0\" ></th>        <th class=\"col_heading level0 col0\" >jp_sales</th>        <th class=\"col_heading level0 col1\" >%</th>    </tr>    <tr>        <th class=\"index_name level0\" >genre</th>        <th class=\"blank\" ></th>        <th class=\"blank\" ></th>    </tr></thead><tbody>\n",
       "                <tr>\n",
       "                        <th id=\"T_f5631_level0_row0\" class=\"row_heading level0 row0\" >Role-Playing</th>\n",
       "                        <td id=\"T_f5631_row0_col0\" class=\"data row0 col0\" >31.160000</td>\n",
       "                        <td id=\"T_f5631_row0_col1\" class=\"data row0 col1\" >33.472983</td>\n",
       "            </tr>\n",
       "            <tr>\n",
       "                        <th id=\"T_f5631_level0_row1\" class=\"row_heading level0 row1\" >Action</th>\n",
       "                        <td id=\"T_f5631_row1_col0\" class=\"data row1 col0\" >29.580000</td>\n",
       "                        <td id=\"T_f5631_row1_col1\" class=\"data row1 col1\" >31.775701</td>\n",
       "            </tr>\n",
       "            <tr>\n",
       "                        <th id=\"T_f5631_level0_row2\" class=\"row_heading level0 row2\" >Fighting</th>\n",
       "                        <td id=\"T_f5631_row2_col0\" class=\"data row2 col0\" >6.370000</td>\n",
       "                        <td id=\"T_f5631_row2_col1\" class=\"data row2 col1\" >6.842840</td>\n",
       "            </tr>\n",
       "            <tr>\n",
       "                        <th id=\"T_f5631_level0_row3\" class=\"row_heading level0 row3\" >Misc</th>\n",
       "                        <td id=\"T_f5631_row3_col0\" class=\"data row3 col0\" >5.610000</td>\n",
       "                        <td id=\"T_f5631_row3_col1\" class=\"data row3 col1\" >6.026426</td>\n",
       "            </tr>\n",
       "            <tr>\n",
       "                        <th id=\"T_f5631_level0_row4\" class=\"row_heading level0 row4\" >Shooter</th>\n",
       "                        <td id=\"T_f5631_row4_col0\" class=\"data row4 col0\" >4.870000</td>\n",
       "                        <td id=\"T_f5631_row4_col1\" class=\"data row4 col1\" >5.231496</td>\n",
       "            </tr>\n",
       "    </tbody></table>"
      ],
      "text/plain": [
       "<pandas.io.formats.style.Styler at 0x7f70b9df1d30>"
      ]
     },
     "execution_count": 45,
     "metadata": {},
     "output_type": "execute_result"
    }
   ],
   "source": [
    "jp_genres = filtred_data.groupby('genre').agg({\n",
    "    'jp_sales': 'sum'\n",
    "})\n",
    "jp_genres['%'] = jp_genres['jp_sales'] / jp_genres['jp_sales'].sum() * 100\n",
    "(jp_genres\n",
    "    .sort_values(by='%', ascending=False)\n",
    "    .head(5)\n",
    "    .style.background_gradient('coolwarm'))"
   ]
  },
  {
   "cell_type": "markdown",
   "metadata": {},
   "source": [
    "А вот в Японии предпочтения другие. Почти одинаковая популярность у жанров Ролевые игры (33%) и Action(31%). Остальные жанры заняли маленькие доли в районе 5-6% каждый (Файтинги, Приключения и Шутеры). Да я и не сомневался, японцы такое дело любят :)"
   ]
  },
  {
   "cell_type": "markdown",
   "metadata": {},
   "source": [
    "<div style=\"border-radius: 3px; border: 2px solid black; padding: 0px;\">     \n",
    "<div class=\"alert alert-success\">\n",
    "<b>Комментарий ревьюера V.3 ✔️:</b> \n",
    "    \n",
    "Отлично ⭐   \n",
    "\n",
    "</div>\n",
    "</div>"
   ]
  },
  {
   "cell_type": "markdown",
   "metadata": {},
   "source": [
    "### <a id='toc1_4_3_'></a>[Влияние рейтинга ESRB](#toc0_)"
   ]
  },
  {
   "cell_type": "markdown",
   "metadata": {},
   "source": [
    "Посмотрим, оказывает ли влияние рейтинг ESRB на продажи в каждом из регионов."
   ]
  },
  {
   "cell_type": "code",
   "execution_count": 46,
   "metadata": {},
   "outputs": [
    {
     "data": {
      "text/html": [
       "<style  type=\"text/css\" >\n",
       "#T_bf41e_row0_col0,#T_bf41e_row0_col2,#T_bf41e_row4_col1{\n",
       "            background-color:  #b40426;\n",
       "            color:  #f1f1f1;\n",
       "        }#T_bf41e_row0_col1{\n",
       "            background-color:  #4f69d9;\n",
       "            color:  #000000;\n",
       "        }#T_bf41e_row1_col0{\n",
       "            background-color:  #d6dce4;\n",
       "            color:  #000000;\n",
       "        }#T_bf41e_row1_col1{\n",
       "            background-color:  #5470de;\n",
       "            color:  #000000;\n",
       "        }#T_bf41e_row1_col2{\n",
       "            background-color:  #96b7ff;\n",
       "            color:  #000000;\n",
       "        }#T_bf41e_row2_col0,#T_bf41e_row2_col1,#T_bf41e_row2_col2{\n",
       "            background-color:  #3b4cc0;\n",
       "            color:  #f1f1f1;\n",
       "        }#T_bf41e_row3_col0{\n",
       "            background-color:  #5f7fe8;\n",
       "            color:  #000000;\n",
       "        }#T_bf41e_row3_col1{\n",
       "            background-color:  #7a9df8;\n",
       "            color:  #000000;\n",
       "        }#T_bf41e_row3_col2{\n",
       "            background-color:  #5673e0;\n",
       "            color:  #000000;\n",
       "        }#T_bf41e_row4_col0{\n",
       "            background-color:  #d9dce1;\n",
       "            color:  #000000;\n",
       "        }#T_bf41e_row4_col2{\n",
       "            background-color:  #dcdddd;\n",
       "            color:  #000000;\n",
       "        }</style><table id=\"T_bf41e_\" ><thead>    <tr>        <th class=\"blank level0\" ></th>        <th class=\"col_heading level0 col0\" >eu_sales</th>        <th class=\"col_heading level0 col1\" >jp_sales</th>        <th class=\"col_heading level0 col2\" >na_sales</th>    </tr>    <tr>        <th class=\"index_name level0\" >rating_rus</th>        <th class=\"blank\" ></th>        <th class=\"blank\" ></th>        <th class=\"blank\" ></th>    </tr></thead><tbody>\n",
       "                <tr>\n",
       "                        <th id=\"T_bf41e_level0_row0\" class=\"row_heading level0 row0\" >Для взрослых</th>\n",
       "                        <td id=\"T_bf41e_row0_col0\" class=\"data row0 col0\" >93.440000</td>\n",
       "                        <td id=\"T_bf41e_row0_col1\" class=\"data row0 col1\" >8.010000</td>\n",
       "                        <td id=\"T_bf41e_row0_col2\" class=\"data row0 col2\" >96.420000</td>\n",
       "            </tr>\n",
       "            <tr>\n",
       "                        <th id=\"T_bf41e_level0_row1\" class=\"row_heading level0 row1\" >Для всех</th>\n",
       "                        <td id=\"T_bf41e_row1_col0\" class=\"data row1 col0\" >58.060000</td>\n",
       "                        <td id=\"T_bf41e_row1_col1\" class=\"data row1 col1\" >8.940000</td>\n",
       "                        <td id=\"T_bf41e_row1_col2\" class=\"data row1 col2\" >50.740000</td>\n",
       "            </tr>\n",
       "            <tr>\n",
       "                        <th id=\"T_bf41e_level0_row2\" class=\"row_heading level0 row2\" >Для всех 10+</th>\n",
       "                        <td id=\"T_bf41e_row2_col0\" class=\"data row2 col0\" >26.160000</td>\n",
       "                        <td id=\"T_bf41e_row2_col1\" class=\"data row2 col1\" >4.460000</td>\n",
       "                        <td id=\"T_bf41e_row2_col2\" class=\"data row2 col2\" >33.230000</td>\n",
       "            </tr>\n",
       "            <tr>\n",
       "                        <th id=\"T_bf41e_level0_row3\" class=\"row_heading level0 row3\" >Подросткам</th>\n",
       "                        <td id=\"T_bf41e_row3_col0\" class=\"data row3 col0\" >34.070000</td>\n",
       "                        <td id=\"T_bf41e_row3_col1\" class=\"data row3 col1\" >14.780000</td>\n",
       "                        <td id=\"T_bf41e_row3_col2\" class=\"data row3 col2\" >38.950000</td>\n",
       "            </tr>\n",
       "            <tr>\n",
       "                        <th id=\"T_bf41e_level0_row4\" class=\"row_heading level0 row4\" >Рейтинг ожидается</th>\n",
       "                        <td id=\"T_bf41e_row4_col0\" class=\"data row4 col0\" >58.950000</td>\n",
       "                        <td id=\"T_bf41e_row4_col1\" class=\"data row4 col1\" >56.900000</td>\n",
       "                        <td id=\"T_bf41e_row4_col2\" class=\"data row4 col2\" >64.720000</td>\n",
       "            </tr>\n",
       "    </tbody></table>"
      ],
      "text/plain": [
       "<pandas.io.formats.style.Styler at 0x7f70b9b452b0>"
      ]
     },
     "execution_count": 46,
     "metadata": {},
     "output_type": "execute_result"
    }
   ],
   "source": [
    "(filtred_data\n",
    "    .pivot_table(\n",
    "        index='rating_rus',\n",
    "        values=['na_sales', 'eu_sales', 'jp_sales'],\n",
    "        aggfunc='sum'\n",
    "    )\n",
    ").style.background_gradient('coolwarm')"
   ]
  },
  {
   "cell_type": "markdown",
   "metadata": {},
   "source": [
    "Здесь мы видим интересную картину. В Европе и Северной Америке больше всего продаж с рейтингом \"Для взрослых\", а меньше всего продаж игр с рейтингом \"Для всех 10+ \"(в Японии у этого рейтинга тоже самые маленькие показатели). Второе и третье места в Северной Америке делят рейтинги \"Для всех\" и игры без рейтинга. Однозначно можно сказать, что рейтинговая оценка оказывает влияние на число продаж игровых копий в Северной Америке и Европе.\n",
    "\n",
    "В Японии же, бОльшую часть продаж забрали игры с неизвестным рейтингом. Либо в Японии любят играть в те игры, которые вышли недавно и оценить их ещё не успели, либо здесь находится большинство игр, рейтинг для которых не был проставлен в тех данных, которые у нас имелись. Для более точного анализа я бы попробовал выяснить причину пропусков в этой категории и, по возможности, устранить пропуски, иначе полагаться на эти данные я бы не рекоммендовал.\n",
    "\n",
    "Далее по популярности в Японии расположились игры с рейтингом \"Подросткам\", однако картина может поменяться, если заполнить изначальные пропуски в столбце \"Рейтинг\"."
   ]
  },
  {
   "cell_type": "markdown",
   "metadata": {},
   "source": [
    "<div style=\"border-radius: 3px; border: 2px solid black; padding: 0px;\">     \n",
    "<div class=\"alert alert-success\">\n",
    "<b>Комментарий ревьюера V.3 ✔️:</b> \n",
    "    \n",
    "Отлично ⭐   \n",
    "\n",
    "</div>\n",
    "</div>"
   ]
  },
  {
   "cell_type": "markdown",
   "metadata": {},
   "source": [
    "### <a id='toc1_4_4_'></a>[Выводы по портрету пользователей](#toc0_)"
   ]
  },
  {
   "cell_type": "markdown",
   "metadata": {},
   "source": [
    "В данном разделе мы попробовали составить пользовательский портрет по каждому из регионов: Северная Америка, Европа, Япония, и вот, что нам удалось выяснить:\n",
    "\n",
    "`Северная Америка`: больше всего играют в PS4 с долей продаж 35%, второе место у XOne с 29%, в жанры Action(25%), Shooter(27%) и Sports(16%), при этом самые популярные возрастные рейтинги для игр: \"Для взрослых\".\n",
    "\n",
    "`Европа`: здесь предпочтение отдают приставкам PS4 - 48%. XOne - 17%, жанры Shooter(24%), Sports(~17%) и Action(28%). Чаще всего европейцы, как и американцы, выбирают игры с рейтингами \"Для взрослых\".\n",
    "\n",
    "Что же касается `Японии`, то здесь любят больше портативный приставки, в сумме они забрали бОльшую часть рынка Японии: 3DS (47,5%). PS4 занимает второе место (16%). На третьем месте портативная консоль PSV(15,6%). Больше всего предпочтения по жанрам японцы отдают \"Ролевые игры\"(33%) и \"Экшн\"(32%). В части, касающейся возрастного рейтинга, относительно Японии сложно сделать правильный выбор, т.к. у них лидируют в продажах игры \"Без рейтинга\", и, вполне вероятно, что это может быть связано с большим количеством пропусков в изначальных данных."
   ]
  },
  {
   "cell_type": "markdown",
   "metadata": {},
   "source": [
    "<div style=\"border-radius: 3px; border: 2px solid black; padding: 0px;\">     \n",
    "<div class=\"alert alert-success\">\n",
    "<b>Комментарий ревьюера V.3 ✔️:</b> \n",
    "    \n",
    "Отлично ⭐   \n",
    "\n",
    "</div>\n",
    "</div>"
   ]
  },
  {
   "cell_type": "markdown",
   "metadata": {},
   "source": [
    "## <a id='toc1_5_'></a>[Проверка гипотез](#toc0_)"
   ]
  },
  {
   "cell_type": "markdown",
   "metadata": {},
   "source": [
    "### <a id='toc1_5_1_'></a>[$H_0$: средние пользовательские рейтинги платформ Xbox One и PC одинаковые](#toc0_)"
   ]
  },
  {
   "cell_type": "markdown",
   "metadata": {},
   "source": [
    "Исходя из нашей нулевой гипотезы сформируем альтернативную гипотезу:\n",
    "\n",
    "$H_1$: средние пользовательские рейтинги платформ Xbox One и PC различаются\n",
    "\n",
    "Для подтверждения (или опровержения) гипотезы $H_0$ примем общепринятое пороговое значение $alpha = 0.05$."
   ]
  },
  {
   "cell_type": "code",
   "execution_count": 47,
   "metadata": {},
   "outputs": [],
   "source": [
    "from scipy import stats as st"
   ]
  },
  {
   "cell_type": "code",
   "execution_count": 48,
   "metadata": {},
   "outputs": [
    {
     "name": "stdout",
     "output_type": "stream",
     "text": [
      "p-значение: 0.05712374867374879\n",
      "Не получилось отвергнуть нулевую гипотезу\n",
      "Средние значения выборок: для XOne = 6.594545454545454, для PC = 6.298360655737704\n"
     ]
    }
   ],
   "source": [
    "xbox_mean = filtred_data.query('platform == \"XOne\"')['user_score'].mean() # Вычисляем среднюю пользовательскую оценку для Xbox One\n",
    "pc_mean = filtred_data.query('platform == \"PC\"')['user_score'].mean()# Вычисляем среднюю пользовательскую оценку для PC\n",
    "\n",
    "\n",
    "alpha = .05 # Критический уровень статистической значимости\n",
    "\n",
    "results = st.ttest_1samp(\n",
    "    filtred_data.query('platform == \"PC\" and not user_score.isnull()')['user_score'], # Берём из user_score только значения not nan, иначе p-value не считается корректно.\n",
    "    xbox_mean\n",
    ")\n",
    "\n",
    "print('p-значение:', results.pvalue)\n",
    "\n",
    "if results.pvalue < alpha:\n",
    "    print(\"Отвергаем нулевую гипотезу\")\n",
    "else:\n",
    "    print(\"Не получилось отвергнуть нулевую гипотезу\")\n",
    "\n",
    "print(f'Средние значения выборок: для XOne = {xbox_mean}, для PC = {pc_mean}')"
   ]
  },
  {
   "cell_type": "markdown",
   "metadata": {},
   "source": [
    "<div style=\"border-radius: 3px; border: 2px solid black; padding: 0px;\">      \n",
    "<div class=\"alert alert-warning\">\n",
    "<s>Комментарий ревьюера ⚠️:</b> \n",
    "    \n",
    "Здесь и ниже также можем вывести средние выборок, чтобы оценить результаты\n",
    "    \n",
    "</div>\n",
    "</div>"
   ]
  },
  {
   "cell_type": "markdown",
   "metadata": {},
   "source": [
    "<div style=\"border-radius: 3px; border: 2px solid black; padding: 0px;\">\n",
    "<div class=\"alert alert-block alert-info\">\n",
    "<b>Комментарий студента 🎓:</b>\n",
    "\n",
    "Согласен, будет более наглядно.\n",
    "\n",
    "</div> \n",
    "</div> "
   ]
  },
  {
   "cell_type": "markdown",
   "metadata": {},
   "source": [
    "<div style=\"border-radius: 3px; border: 2px solid black; padding: 0px;\">     \n",
    "<div class=\"alert alert-success\">\n",
    "<b>Комментарий ревьюера V.2 ✔️:</b> \n",
    "    \n",
    "Отлично ⭐   \n",
    "\n",
    "</div>\n",
    "</div>"
   ]
  },
  {
   "cell_type": "markdown",
   "metadata": {},
   "source": [
    "<div style=\"border-radius: 3px; border: 2px solid black; padding: 0px;\">\n",
    "<div class=\"alert alert-block alert-info\">\n",
    "<b>Комментарий студента 🎓:</b>\n",
    "\n",
    "Тут тоже поменял. Данные же другие стали.\n",
    "\n",
    "</div> \n",
    "</div> "
   ]
  },
  {
   "cell_type": "markdown",
   "metadata": {},
   "source": [
    "Получается, вероятность для PC получить такие же средние пользовательские рейтинги, как у Xbox One находится в районе 5.7%. Вероятность достаточно низкая и мы были близки к тому, чтобы отвергнуть гипотезу о равенстве средних оценок."
   ]
  },
  {
   "cell_type": "markdown",
   "metadata": {},
   "source": [
    "<div style=\"border-radius: 3px; border: 2px solid black; padding: 0px;\">     \n",
    "<div class=\"alert alert-success\">\n",
    "<b>Комментарий ревьюера V.3 ✔️:</b> \n",
    "    \n",
    "Отлично ⭐   \n",
    "\n",
    "</div>\n",
    "</div>"
   ]
  },
  {
   "cell_type": "markdown",
   "metadata": {},
   "source": [
    "### <a id='toc1_5_2_'></a>[$H_0$: средние пользовательские рейтинги жанров \"Action\" и \"Sports\" одинаковые.](#toc0_)"
   ]
  },
  {
   "cell_type": "markdown",
   "metadata": {},
   "source": [
    "Для этой нулевой гипотезы сформулируем альтернативную:\n",
    "\n",
    "$H_1$: средние пользовательские рейтинги жанров \"Action\" и \"Sports\" разные.\n",
    "\n",
    "Для подтверждения (или опровержения) этой гипотезы $H_0$ также примем общепринятое пороговое значение $alpha = 0.05$."
   ]
  },
  {
   "cell_type": "code",
   "execution_count": 49,
   "metadata": {},
   "outputs": [
    {
     "name": "stdout",
     "output_type": "stream",
     "text": [
      "p-значение: 4.946811986056683e-16\n",
      "Отвергаем нулевую гипотезу\n",
      "Средние значения выборок жанров: для Action = 6.760606060606061, для Sports = 5.225196850393701\n"
     ]
    }
   ],
   "source": [
    "action_mean = filtred_data.query('genre == \"Action\"')['user_score'].mean()\n",
    "sports_mean = filtred_data.query('genre == \"Sports\"')['user_score'].mean()\n",
    "\n",
    "alpha = .05 # Критический уровень статистической значимости\n",
    "\n",
    "results = st.ttest_1samp(\n",
    "    filtred_data.query('genre == \"Sports\" and not user_score.isnull()')['user_score'],\n",
    "    action_mean\n",
    ")\n",
    "\n",
    "print('p-значение:', results.pvalue)\n",
    "\n",
    "if results.pvalue < alpha:\n",
    "    print(\"Отвергаем нулевую гипотезу\")\n",
    "else:\n",
    "    print(\"Не получилось отвергнуть нулевую гипотезу\")\n",
    "\n",
    "print(f'Средние значения выборок жанров: для Action = {action_mean}, для Sports = {sports_mean}')"
   ]
  },
  {
   "cell_type": "markdown",
   "metadata": {},
   "source": [
    "Здесь мы наблюдаем противоположную картину: вероятность для жанра \"Sports\" получить такую же среднюю пользовательскую оценку, как и для \"Action\" крайне мала. Это дополнительно подтверждает наши исследования о том, что игры жанра \"Action\" более популярны, чем игры жанра \"Sports:"
   ]
  },
  {
   "cell_type": "markdown",
   "metadata": {},
   "source": [
    "<div style=\"border-radius: 3px; border: 2px solid black; padding: 0px;\">     \n",
    "<div class=\"alert alert-success\">\n",
    "<b>Комментарий ревьюера V.3 ✔️:</b> \n",
    "    \n",
    "Отлично ⭐   \n",
    "\n",
    "</div>\n",
    "</div>"
   ]
  },
  {
   "cell_type": "markdown",
   "metadata": {},
   "source": [
    "### <a id='toc1_5_3_'></a>[Промежуточный вывод](#toc0_)"
   ]
  },
  {
   "cell_type": "markdown",
   "metadata": {},
   "source": [
    "В данном разделе мы попробовали опровергнуть две гипотезы:\n",
    "1. $H_0$: средние пользовательские рейтинги платформ Xbox One и PC одинаковые.\n",
    "2. $H_0$: средние пользовательские рейтинги жанров \"Action\" и \"Sports\" одинаковые.\n",
    "\n",
    "Первую гипотезу нам опровергнуть не удалось(хотя мы были близки к этому) - вероятность того, что пользовательские рейтинги платформ Xbox One и PC будут одинаковыми равна 5.7%.\n",
    "\n",
    "Вторую гипотезу нам получилось овергнуть - о рейтингах игр жанра Action и Sport говорит количество продаж - у жанра Action их намного больше."
   ]
  },
  {
   "cell_type": "markdown",
   "metadata": {},
   "source": [
    "<div style=\"border-radius: 3px; border: 2px solid black; padding: 0px;\">\n",
    "<div class=\"alert alert-block alert-info\">\n",
    "<b>Комментарий студента 🎓:</b>\n",
    "\n",
    "Общий вывод поправил.\n",
    "\n",
    "Спасибо тебе большое! Стало чуточку больше понимания, как всё это работает!\n",
    "\n",
    "</div> \n",
    "</div> "
   ]
  },
  {
   "cell_type": "markdown",
   "metadata": {},
   "source": [
    "<div style=\"border-radius: 3px; border: 2px solid black; padding: 0px;\">     \n",
    "<div class=\"alert alert-success\">\n",
    "<b>Комментарий ревьюера V.2 ✔️:</b> \n",
    "    \n",
    "Всегда пожалуйста, рад помочь, к тому же мы почти на финишной прямой!   \n",
    "\n",
    "</div>\n",
    "</div>"
   ]
  },
  {
   "cell_type": "markdown",
   "metadata": {},
   "source": [
    "<div style=\"border-radius: 3px; border: 2px solid black; padding: 0px;\">\n",
    "<div class=\"alert alert-block alert-info\">\n",
    "<b>Комментарий студента V.2🎓:</b>\n",
    "\n",
    "Тут вывод тоже, конечно же, подправил.\n",
    "\n",
    "</div> \n",
    "</div> "
   ]
  },
  {
   "cell_type": "markdown",
   "metadata": {},
   "source": [
    "<div style=\"border-radius: 3px; border: 2px solid black; padding: 0px;\">     \n",
    "<div class=\"alert alert-success\">\n",
    "<b>Комментарий ревьюера V.3 ✔️:</b> \n",
    "    \n",
    "Отлично ⭐   \n",
    "\n",
    "</div>\n",
    "</div>"
   ]
  },
  {
   "cell_type": "markdown",
   "metadata": {},
   "source": [
    "## <a id='toc1_6_'></a>[Общий вывод](#toc0_)"
   ]
  },
  {
   "cell_type": "markdown",
   "metadata": {},
   "source": [
    "В данном исследовании мы проводили анализ данных об играх на различных платформах с разными жанрами. Перед нами стояла задача определить, какие игры могут быть самыми перспективными по продажам. \n",
    "\n",
    "На этапе предобработки данных было выявлено достаточно большое количество пропусков в данных по рейтинговым оценкам критиков и пользователей, эти пропуски были оставлены незаполненными, чтобы не нарушать исследований. Также на анализ поступил очень много игр с отсутствующими значениями в столбце возрастного рейтинга. Все эти пропуски были заполнены значениями \"Без рейтинга\", что повлияло на построение портрета пользователя в регионе Япония. Предположительно, эти пропуски могли возникнуть для старых игр, когда ещё не проводились оценки рейтингов, либо оценка этих игр не проводилась по какой-то другой причине(например, игры не очень популярны в мире или не оценивались игры для каких-то платформ). Также, вполне вероятно, что данные по какой-то причине были выгружены с ошибкой или в некорректном формате, что привело к тому, что эти значения были заполены пропусками. Было бы неплохо попытаться выяснить причину потери этих данных и провести повторный анализ.\n",
    "\n",
    "На этапе исследовательского анализа мы выявили следующие закономерности:\n",
    "1. Средний жизненный цикл игровых платформ составляет около 10 лет. Пиковые продажи игр приходятся на игры, выпущенные спустя 4-6 лет, после выхода платформы. \n",
    "2. На период исследования (2014-2016) годы лидерами продаж являются платформы PS4 (почти 40% от общего числа продаж), на втором месте идёт XOne с долей рынка 20%, на третьем месте 3DS с ~12% от общего числа продаж. Остальные платформы набралее менее 10%.\n",
    "3. Отзывы критиков практически не оказывают влияние на количество продаж. Отзывы пользователей оказывают совсем небольшое влияние на продажи только для приставки WiiU.\n",
    "4. Больше всего мировых продаж приходится на жанры Shooter, Action, Sports и Role Playing, однако судя по средним медианным значениям продаж больше всего окупаются Shooter, Sports, Role Playing, Platform и Fighting, а вот жанр Action достигает высоких продаж нечасто.\n",
    "\n",
    "\n",
    "При составлении портрета пользователя мы увидели, что:\n",
    "\n",
    "`Северная Америка`: больше всего играют в PS4 с долей продаж 35%, второе место у XOne с 29%, в жанры Action(25%), Shooter(27%) и Sports(16%), при этом самые популярные возрастные рейтинги для игр: \"Для взрослых\".\n",
    "\n",
    "Предпочтения `европейцев` такие: `Европа`: больше любят приставки PS4 - 48%. XOne - 17%, жанры Shooter(24%), Sports(~17%) и Action(28%). Чаще всего европейцы, как и американцы, выбирают игры с рейтингами \"Для взрослых\".\n",
    "\n",
    "То же касается `Японии`, то здесь любят больше портативный приставки, в сумме они забрали бОльшую часть рынка Японии: 3DS (47,5%). PS4 занимает второе место (16%). На третьем месте портативная консоль PSV(15,6%). Больше всего предпочтения по жанрам японцы отдают \"Ролевые игры\"(33%) и \"Экшн\"(32%). В части, касающейся возрастного рейтинга, относительно Японии сложно сделать правильный выбор, т.к. у них лидируют в продажах игры \"Без рейтинга\", и, вполне вероятно, что это может быть связано с большим количеством пропусков в изначальных данных.\n",
    "\n",
    "\n",
    "В разделе проверки гипотез было проверено 2 гипотезы:\n",
    "1. $H_0$: средние пользовательские рейтинги платформ Xbox One и PC одинаковые. Не удалось опровергнуть(но мы были близки к этому) - шанс получить такие же оценки 5.7%.\n",
    "2. $H_0$: средние пользовательские рейтинги жанров \"Action\" и \"Sports\" одинаковые. Эту гипотезу опровергли, что в очередной раз подтвердило наше предположение о том, что популярность игр жанра Action больше, чем Sports.\n",
    "\n",
    "\n",
    "Подводя итог, можно сказать, что в разных регионах предпочтения в приставках, жанрах и возрастных рейтингах могут отличаться:\n",
    "1. `Для Северной Америки и предпочтительней рассматривать игру`, которая будет выпускаться на только развивающейся платформе `PS4` (дополнительно можно рассмотреть `XOne`), игровые жанры - `Shooter и Sports`(вероятность выиграть, выбрав для инвестиций жанр Action намного меньше) с возрастным рейтингом `\"Для взрослых\"`.\n",
    "2. Также и для `Европы` - приставка `PS4`(`XOne` тоже можно, но она менее популярна), жанры `Shooter, Sports`. Рейтинги игры: `\"Для взрослых\" и \"Для всех\"`.\n",
    "3. Для `Японии` рекомендуется рассматривать игры выходящие на портативной консоли `3DS, PS4 и PSV` с жанром `\"Ролевые игры\" и \"Экшн\"`.\n",
    "\n"
   ]
  },
  {
   "cell_type": "markdown",
   "metadata": {},
   "source": [
    "<!-- vscode-jupyter-toc -->\n",
    "<!-- THIS CELL WILL BE REPLACED ON TOC UPDATE. DO NOT WRITE YOUR TEXT IN THIS CELL -->\n",
    "<a id='toc0_'></a>**Содержание**    \n",
    "- [Описание проекта](#toc1_1_)    \n",
    "    - [Этапы работы](#toc1_1_1_)    \n",
    "    - [Содержание](#toc1_1_2_)    \n",
    "  - [Предобработка данных](#toc1_2_)    \n",
    "    - [Вывод в блоке предобработки данных](#toc1_2_1_)    \n",
    "  - [Проведение исследовательского анализа](#toc1_3_)    \n",
    "    - [Посмотрим, сколько игр выпускалось в разные годы.](#toc1_3_1_)    \n",
    "    - [Посмотрим, как менялись продажи по платформам в течение времени.](#toc1_3_2_)    \n",
    "    - [Выделение платформ - лидеров продаж](#toc1_3_3_)    \n",
    "    - [Влияние отзывов пользователей и критиков](#toc1_3_4_)    \n",
    "    - [Определение самых прибыльных жанров](#toc1_3_5_)    \n",
    "    - [Вывод в блоке исследовательского анализа данных](#toc1_3_6_)    \n",
    "  - [Портрет пользователя в каждом регионе](#toc1_4_)    \n",
    "    - [ТОП-5 популярных платформ](#toc1_4_1_)    \n",
    "    - [ТОП-5 популярных жанров](#toc1_4_2_)    \n",
    "    - [Влияние рейтинга ESRB](#toc1_4_3_)    \n",
    "    - [Выводы по портрету пользователей](#toc1_4_4_)    \n",
    "  - [Проверка гипотез](#toc1_5_)    \n",
    "    - [$H_0$: средние пользовательские рейтинги платформ Xbox One и PC одинаковые](#toc1_5_1_)    \n",
    "    - [$H_0$: средние пользовательские рейтинги жанров \"Action\" и \"Sports\" одинаковые.](#toc1_5_2_)    \n",
    "    - [Промежуточный вывод](#toc1_5_3_)    \n",
    "  - [Общий вывод](#toc1_6_)    \n",
    "\n",
    "<!-- vscode-jupyter-toc-config\n",
    "\tnumbering=false\n",
    "\tanchor=true\n",
    "\tflat=false\n",
    "\tminLevel=1\n",
    "\tmaxLevel=6\n",
    "\t/vscode-jupyter-toc-config -->\n",
    "<!-- /vscode-jupyter-toc -->"
   ]
  },
  {
   "cell_type": "markdown",
   "metadata": {},
   "source": [
    "<a id='result-1'></a>"
   ]
  },
  {
   "cell_type": "markdown",
   "metadata": {},
   "source": [
    "<div style=\"border-radius: 15px; border: 3px solid black; padding: 15px;\">\n",
    "<s>Итог. Комментарий ревьюера: </b>\n",
    "    \n",
    "В проекте мне очень понравились следующие моменты:\n",
    "\n",
    "<div style=\"border-radius: 3px; border: 2px solid black; padding: 0px;\">     \n",
    "<div class=\"alert alert-success\">\n",
    "    \n",
    "✔️ Проект имеет чёткую структуру, код имеет хорошую логику и мало повторений;\n",
    "    \n",
    "✔️ Прослеживается вдумчивый подход в изучении данных;\n",
    "    \n",
    "✔️ Верно сформулированы гипотезы;\n",
    "    \n",
    "    \n",
    "</div>    \n",
    "</div> \n",
    "    \n",
    "Моменты, которые нужно исправить:  \n",
    "<div style=\"border-radius: 3px; border: 2px solid black; padding: 0px;\">    \n",
    "<div class=\"alert alert-danger\">\n",
    "    \n",
    "❌ Заменили пропуски в оценках критиков и пользователей медианами;\n",
    "    \n",
    "❌ По некоторым графикам возможны разночтения;  \n",
    "    \n",
    "❌ Неверно определён актуальный период для анализа;    \n",
    "    \n",
    "❌ Не определены потенциально прибыльные платформы; \n",
    "    \n",
    "❌ Не рассмотрены средние/медианные продажи по жанрам; \n",
    "    \n",
    "❌ После всех исправлений необходимо обновить выводы;\n",
    "    \n",
    "</div>    \n",
    "</div> \n",
    "<hr>   \n",
    "Верю, что ты со всем справишься! Если появятся вопросы, буду рад на них ответить. С нетерпением жду проект на повторную проверку!\n",
    "</div> "
   ]
  },
  {
   "cell_type": "markdown",
   "metadata": {},
   "source": [
    "<a id='result-2'></a>"
   ]
  },
  {
   "cell_type": "markdown",
   "metadata": {},
   "source": [
    "<div style=\"border-radius: 15px; border: 3px solid black; padding: 15px;\">\n",
    "<s>Итог. Комментарий ревьюера V.2: </b>\n",
    "      \n",
    "Моменты, которые нужно исправить:  \n",
    "<div style=\"border-radius: 3px; border: 2px solid black; padding: 0px;\">    \n",
    "<div class=\"alert alert-danger\">\n",
    "    \n",
    "❌ Неверно определён актуальный период для анализа;     \n",
    "    \n",
    "❌ После всех исправлений необходимо обновить выводы;\n",
    "    \n",
    "</div>    \n",
    "</div> \n",
    "<hr>   \n",
    "Верю, что ты со всем справишься! Если появятся вопросы, буду рад на них ответить. С нетерпением жду проект на повторную проверку!\n",
    "</div> "
   ]
  },
  {
   "cell_type": "markdown",
   "metadata": {},
   "source": [
    "<div style=\"border-radius: 15px; border: 3px solid black; padding: 15px;\">\n",
    "    \n",
    "   \n",
    "<b> Комментарий ревьюера для отличников 👑:</b> \n",
    "    \n",
    "В итоге получилась очень сильная работа! Видно, что вложено много труда, осознанность присутствует в каждой фразе и в каждом действии! Очень редко встречаются подобные проекты, которые хочется снова перечитать и ставить в пример остальным студентам! Надеюсь, что ты продолжишь использовать такой подход и после перенесёшь в работу, где, я уверен, у тебя всё получится! ⭐⭐⭐⭐⭐ \n",
    "    \n",
    "**P.s.** Такой комментарий я пишу крайне редко, если работа в итоге действительно произвела на меня впечатление\n",
    "    \n",
    "**P.s.s.** Проект принят, поздравляю! Надеюсь, что смог помочь тебе сделать ещё один шаг на пути обучения, в котором желаю тебе удачи и больших успехов!     \n",
    "    \n",
    "</div>    "
   ]
  },
  {
   "cell_type": "markdown",
   "metadata": {},
   "source": [
    "<a id='benefit'></a>"
   ]
  },
  {
   "cell_type": "markdown",
   "metadata": {},
   "source": [
    "<div style=\"border-radius: 3px; border: 2px solid black; padding: 0px;\">     \n",
    "<div class=\"alert alert-success\">\n",
    "<b>Комментарий ревьюера V.3 ✔️:</b> \n",
    "   \n",
    "И небольшой подарок от меня в виде полезных ссылок, которые могут пригодиться в будущих исследованиях 😉 (от начального до продвинутого уровня (есть и на английском)):\n",
    "    \n",
    "* https://extremepresentation.typepad.com/.a/6a00d8341bfd2e53ef0111683a7591970c-pi - Схема для выбора визуализации в зависимости от задач;\n",
    "* https://habr.com/ru/post/521894/ - Формат таблиц в pandas с помощью style. В том числе цветовое выделение;\n",
    "* https://habr.com/ru/post/468295 - 50 оттенков matplotlib. С кодом и примерами;\n",
    "* https://www.litres.ru/aleksandr-bogachev/grafiki-kotorye-ubezhdaut-vseh/ - Книга о том, как строить графики, от подготовки данных до конкретных подписей;\n",
    "* https://datavizproject.com/ - Сайт, подробно представлюящий практически все типы визуализаций;\n",
    "* https://pandas.pydata.org/pandas-docs/stable/user_guide/style.html - Более сложные примеры по использованию style;\n",
    "* https://habr.com/ru/post/502958 - Шпаргалка по plotly. Набор опций с подробным описанием и примерами. С чего начать погружение в мир интерактивности и чем продолжить.\n",
    "    \n",
    "\n",
    "</div>\n",
    "</div>"
   ]
  },
  {
   "cell_type": "code",
   "execution_count": null,
   "metadata": {},
   "outputs": [],
   "source": []
  }
 ],
 "metadata": {
  "ExecuteTimeLog": [
   {
    "duration": 122,
    "start_time": "2022-11-23T20:39:01.718Z"
   },
   {
    "duration": 0,
    "start_time": "2022-11-23T20:39:01.842Z"
   },
   {
    "duration": 0,
    "start_time": "2022-11-23T20:39:01.844Z"
   },
   {
    "duration": 0,
    "start_time": "2022-11-23T20:39:01.845Z"
   },
   {
    "duration": 0,
    "start_time": "2022-11-23T20:39:01.846Z"
   },
   {
    "duration": 0,
    "start_time": "2022-11-23T20:39:01.847Z"
   },
   {
    "duration": 0,
    "start_time": "2022-11-23T20:39:01.848Z"
   },
   {
    "duration": 0,
    "start_time": "2022-11-23T20:39:01.849Z"
   },
   {
    "duration": 0,
    "start_time": "2022-11-23T20:39:01.849Z"
   },
   {
    "duration": 0,
    "start_time": "2022-11-23T20:39:01.850Z"
   },
   {
    "duration": 0,
    "start_time": "2022-11-23T20:39:01.851Z"
   },
   {
    "duration": 0,
    "start_time": "2022-11-23T20:39:01.852Z"
   },
   {
    "duration": 0,
    "start_time": "2022-11-23T20:39:01.853Z"
   },
   {
    "duration": 0,
    "start_time": "2022-11-23T20:39:01.853Z"
   },
   {
    "duration": 0,
    "start_time": "2022-11-23T20:39:01.854Z"
   },
   {
    "duration": 0,
    "start_time": "2022-11-23T20:39:01.855Z"
   },
   {
    "duration": 0,
    "start_time": "2022-11-23T20:39:01.856Z"
   },
   {
    "duration": 0,
    "start_time": "2022-11-23T20:39:01.857Z"
   },
   {
    "duration": 0,
    "start_time": "2022-11-23T20:39:01.858Z"
   },
   {
    "duration": 0,
    "start_time": "2022-11-23T20:39:01.858Z"
   },
   {
    "duration": 0,
    "start_time": "2022-11-23T20:39:01.859Z"
   },
   {
    "duration": 0,
    "start_time": "2022-11-23T20:39:01.860Z"
   },
   {
    "duration": 0,
    "start_time": "2022-11-23T20:39:01.861Z"
   },
   {
    "duration": 0,
    "start_time": "2022-11-23T20:39:01.862Z"
   },
   {
    "duration": 0,
    "start_time": "2022-11-23T20:39:01.863Z"
   },
   {
    "duration": 0,
    "start_time": "2022-11-23T20:39:01.864Z"
   },
   {
    "duration": 0,
    "start_time": "2022-11-23T20:39:01.865Z"
   },
   {
    "duration": 0,
    "start_time": "2022-11-23T20:39:01.865Z"
   },
   {
    "duration": 0,
    "start_time": "2022-11-23T20:39:01.866Z"
   },
   {
    "duration": 0,
    "start_time": "2022-11-23T20:39:01.867Z"
   },
   {
    "duration": 0,
    "start_time": "2022-11-23T20:39:01.868Z"
   },
   {
    "duration": 0,
    "start_time": "2022-11-23T20:39:01.869Z"
   },
   {
    "duration": 0,
    "start_time": "2022-11-23T20:39:01.870Z"
   },
   {
    "duration": 0,
    "start_time": "2022-11-23T20:39:01.921Z"
   },
   {
    "duration": 1,
    "start_time": "2022-11-23T20:39:01.921Z"
   },
   {
    "duration": 245,
    "start_time": "2022-11-23T20:39:01.924Z"
   },
   {
    "duration": 185,
    "start_time": "2022-11-23T20:39:02.171Z"
   },
   {
    "duration": 16,
    "start_time": "2022-11-23T20:39:02.357Z"
   },
   {
    "duration": 25,
    "start_time": "2022-11-23T20:39:02.375Z"
   },
   {
    "duration": 21,
    "start_time": "2022-11-23T20:39:02.401Z"
   },
   {
    "duration": 16,
    "start_time": "2022-11-23T20:39:02.423Z"
   },
   {
    "duration": 15,
    "start_time": "2022-11-23T20:39:02.441Z"
   },
   {
    "duration": 15,
    "start_time": "2022-11-23T20:39:02.457Z"
   },
   {
    "duration": 19,
    "start_time": "2022-11-23T20:39:02.475Z"
   },
   {
    "duration": 40,
    "start_time": "2022-11-23T20:39:02.495Z"
   },
   {
    "duration": 13,
    "start_time": "2022-11-23T20:39:02.537Z"
   },
   {
    "duration": 16,
    "start_time": "2022-11-23T20:39:02.552Z"
   },
   {
    "duration": 28,
    "start_time": "2022-11-23T20:39:02.570Z"
   },
   {
    "duration": 50,
    "start_time": "2022-11-23T20:39:23.655Z"
   },
   {
    "duration": 15,
    "start_time": "2022-11-23T20:39:23.707Z"
   },
   {
    "duration": 3,
    "start_time": "2022-11-23T20:39:23.723Z"
   },
   {
    "duration": 20,
    "start_time": "2022-11-23T20:39:23.728Z"
   },
   {
    "duration": 6,
    "start_time": "2022-11-23T20:39:23.751Z"
   },
   {
    "duration": 12,
    "start_time": "2022-11-23T20:39:23.758Z"
   },
   {
    "duration": 4,
    "start_time": "2022-11-23T20:39:23.772Z"
   },
   {
    "duration": 8,
    "start_time": "2022-11-23T20:39:23.777Z"
   },
   {
    "duration": 40,
    "start_time": "2022-11-23T20:39:23.786Z"
   },
   {
    "duration": 6,
    "start_time": "2022-11-23T20:39:23.828Z"
   },
   {
    "duration": 11,
    "start_time": "2022-11-23T20:39:23.835Z"
   },
   {
    "duration": 16,
    "start_time": "2022-11-23T20:39:23.847Z"
   },
   {
    "duration": 17,
    "start_time": "2022-11-23T20:39:23.864Z"
   },
   {
    "duration": 60,
    "start_time": "2022-11-23T20:39:23.883Z"
   },
   {
    "duration": 4,
    "start_time": "2022-11-23T20:39:23.945Z"
   },
   {
    "duration": 7,
    "start_time": "2022-11-23T20:39:23.950Z"
   },
   {
    "duration": 7,
    "start_time": "2022-11-23T20:39:23.958Z"
   },
   {
    "duration": 24,
    "start_time": "2022-11-23T20:39:23.966Z"
   },
   {
    "duration": 4,
    "start_time": "2022-11-23T20:39:23.992Z"
   },
   {
    "duration": 29,
    "start_time": "2022-11-23T20:39:23.997Z"
   },
   {
    "duration": 21,
    "start_time": "2022-11-23T20:39:24.028Z"
   },
   {
    "duration": 7,
    "start_time": "2022-11-23T20:39:24.051Z"
   },
   {
    "duration": 16,
    "start_time": "2022-11-23T20:39:24.059Z"
   },
   {
    "duration": 188,
    "start_time": "2022-11-23T20:39:24.076Z"
   },
   {
    "duration": 13,
    "start_time": "2022-11-23T20:39:24.265Z"
   },
   {
    "duration": 217,
    "start_time": "2022-11-23T20:39:24.279Z"
   },
   {
    "duration": 6,
    "start_time": "2022-11-23T20:39:24.498Z"
   },
   {
    "duration": 22,
    "start_time": "2022-11-23T20:39:24.507Z"
   },
   {
    "duration": 276,
    "start_time": "2022-11-23T20:39:24.530Z"
   },
   {
    "duration": 13,
    "start_time": "2022-11-23T20:39:24.808Z"
   },
   {
    "duration": 186,
    "start_time": "2022-11-23T20:39:24.823Z"
   },
   {
    "duration": 6,
    "start_time": "2022-11-23T20:39:25.021Z"
   },
   {
    "duration": 246,
    "start_time": "2022-11-23T20:39:25.028Z"
   },
   {
    "duration": 9,
    "start_time": "2022-11-23T20:39:25.276Z"
   },
   {
    "duration": 862,
    "start_time": "2022-11-23T20:39:25.287Z"
   },
   {
    "duration": 174,
    "start_time": "2022-11-23T20:39:26.150Z"
   },
   {
    "duration": 174,
    "start_time": "2022-11-23T20:39:26.326Z"
   },
   {
    "duration": 27,
    "start_time": "2022-11-23T20:39:26.502Z"
   },
   {
    "duration": 14,
    "start_time": "2022-11-23T20:39:26.531Z"
   },
   {
    "duration": 16,
    "start_time": "2022-11-23T20:39:26.546Z"
   },
   {
    "duration": 21,
    "start_time": "2022-11-23T20:39:26.563Z"
   },
   {
    "duration": 41,
    "start_time": "2022-11-23T20:39:26.585Z"
   },
   {
    "duration": 14,
    "start_time": "2022-11-23T20:39:26.628Z"
   },
   {
    "duration": 13,
    "start_time": "2022-11-23T20:39:26.644Z"
   },
   {
    "duration": 18,
    "start_time": "2022-11-23T20:39:26.658Z"
   },
   {
    "duration": 2,
    "start_time": "2022-11-23T20:39:26.678Z"
   },
   {
    "duration": 10,
    "start_time": "2022-11-23T20:39:26.682Z"
   },
   {
    "duration": 9,
    "start_time": "2022-11-23T20:39:26.720Z"
   },
   {
    "duration": 724,
    "start_time": "2022-11-24T10:04:15.296Z"
   },
   {
    "duration": 23,
    "start_time": "2022-11-24T10:04:16.023Z"
   },
   {
    "duration": 4,
    "start_time": "2022-11-24T10:04:16.048Z"
   },
   {
    "duration": 19,
    "start_time": "2022-11-24T10:04:16.055Z"
   },
   {
    "duration": 4,
    "start_time": "2022-11-24T10:04:16.076Z"
   },
   {
    "duration": 39,
    "start_time": "2022-11-24T10:04:16.082Z"
   },
   {
    "duration": 9,
    "start_time": "2022-11-24T10:04:16.123Z"
   },
   {
    "duration": 30,
    "start_time": "2022-11-24T10:04:16.134Z"
   },
   {
    "duration": 15,
    "start_time": "2022-11-24T10:04:16.165Z"
   },
   {
    "duration": 9,
    "start_time": "2022-11-24T10:04:16.182Z"
   },
   {
    "duration": 18,
    "start_time": "2022-11-24T10:04:16.193Z"
   },
   {
    "duration": 23,
    "start_time": "2022-11-24T10:04:16.212Z"
   },
   {
    "duration": 35,
    "start_time": "2022-11-24T10:04:16.237Z"
   },
   {
    "duration": 48,
    "start_time": "2022-11-24T10:04:16.273Z"
   },
   {
    "duration": 7,
    "start_time": "2022-11-24T10:04:16.325Z"
   },
   {
    "duration": 10,
    "start_time": "2022-11-24T10:04:16.334Z"
   },
   {
    "duration": 7,
    "start_time": "2022-11-24T10:04:16.346Z"
   },
   {
    "duration": 28,
    "start_time": "2022-11-24T10:04:16.355Z"
   },
   {
    "duration": 6,
    "start_time": "2022-11-24T10:04:16.384Z"
   },
   {
    "duration": 35,
    "start_time": "2022-11-24T10:04:16.392Z"
   },
   {
    "duration": 19,
    "start_time": "2022-11-24T10:04:16.429Z"
   },
   {
    "duration": 7,
    "start_time": "2022-11-24T10:04:16.450Z"
   },
   {
    "duration": 18,
    "start_time": "2022-11-24T10:04:16.458Z"
   },
   {
    "duration": 221,
    "start_time": "2022-11-24T10:04:16.478Z"
   },
   {
    "duration": 20,
    "start_time": "2022-11-24T10:04:16.707Z"
   },
   {
    "duration": 233,
    "start_time": "2022-11-24T10:04:16.728Z"
   },
   {
    "duration": 6,
    "start_time": "2022-11-24T10:04:16.963Z"
   },
   {
    "duration": 14,
    "start_time": "2022-11-24T10:04:16.973Z"
   },
   {
    "duration": 338,
    "start_time": "2022-11-24T10:04:16.989Z"
   },
   {
    "duration": 11,
    "start_time": "2022-11-24T10:04:17.329Z"
   },
   {
    "duration": 173,
    "start_time": "2022-11-24T10:04:17.342Z"
   },
   {
    "duration": 11,
    "start_time": "2022-11-24T10:04:17.519Z"
   },
   {
    "duration": 349,
    "start_time": "2022-11-24T10:04:17.532Z"
   },
   {
    "duration": 11,
    "start_time": "2022-11-24T10:04:17.883Z"
   },
   {
    "duration": 968,
    "start_time": "2022-11-24T10:04:17.905Z"
   },
   {
    "duration": 208,
    "start_time": "2022-11-24T10:04:18.875Z"
   },
   {
    "duration": 210,
    "start_time": "2022-11-24T10:04:19.085Z"
   },
   {
    "duration": 65,
    "start_time": "2022-11-24T10:04:19.297Z"
   },
   {
    "duration": 16,
    "start_time": "2022-11-24T10:04:19.363Z"
   },
   {
    "duration": 31,
    "start_time": "2022-11-24T10:04:19.381Z"
   },
   {
    "duration": 43,
    "start_time": "2022-11-24T10:04:19.413Z"
   },
   {
    "duration": 17,
    "start_time": "2022-11-24T10:04:19.457Z"
   },
   {
    "duration": 16,
    "start_time": "2022-11-24T10:04:19.476Z"
   },
   {
    "duration": 22,
    "start_time": "2022-11-24T10:04:19.493Z"
   },
   {
    "duration": 24,
    "start_time": "2022-11-24T10:04:19.521Z"
   },
   {
    "duration": 470,
    "start_time": "2022-11-24T10:04:19.547Z"
   },
   {
    "duration": 12,
    "start_time": "2022-11-24T10:04:20.019Z"
   },
   {
    "duration": 28,
    "start_time": "2022-11-24T10:04:20.032Z"
   },
   {
    "duration": 911,
    "start_time": "2022-11-24T20:50:14.511Z"
   },
   {
    "duration": 17,
    "start_time": "2022-11-24T20:50:15.424Z"
   },
   {
    "duration": 31,
    "start_time": "2022-11-24T20:50:15.442Z"
   },
   {
    "duration": 54,
    "start_time": "2022-11-24T20:50:15.476Z"
   },
   {
    "duration": 49,
    "start_time": "2022-11-24T20:50:15.532Z"
   },
   {
    "duration": 49,
    "start_time": "2022-11-24T20:50:15.583Z"
   },
   {
    "duration": 83,
    "start_time": "2022-11-24T20:50:15.634Z"
   },
   {
    "duration": 11,
    "start_time": "2022-11-24T20:50:15.719Z"
   },
   {
    "duration": 25,
    "start_time": "2022-11-24T20:50:15.732Z"
   },
   {
    "duration": 26,
    "start_time": "2022-11-24T20:50:15.760Z"
   },
   {
    "duration": 62,
    "start_time": "2022-11-24T20:50:15.788Z"
   },
   {
    "duration": 33,
    "start_time": "2022-11-24T20:50:15.853Z"
   },
   {
    "duration": 88,
    "start_time": "2022-11-24T20:50:15.888Z"
   },
   {
    "duration": 6,
    "start_time": "2022-11-24T20:50:15.977Z"
   },
   {
    "duration": 26,
    "start_time": "2022-11-24T20:50:15.986Z"
   },
   {
    "duration": 47,
    "start_time": "2022-11-24T20:50:16.014Z"
   },
   {
    "duration": 61,
    "start_time": "2022-11-24T20:50:16.063Z"
   },
   {
    "duration": 13,
    "start_time": "2022-11-24T20:50:16.126Z"
   },
   {
    "duration": 34,
    "start_time": "2022-11-24T20:50:16.141Z"
   },
   {
    "duration": 66,
    "start_time": "2022-11-24T20:50:16.177Z"
   },
   {
    "duration": 29,
    "start_time": "2022-11-24T20:50:16.246Z"
   },
   {
    "duration": 54,
    "start_time": "2022-11-24T20:50:16.277Z"
   },
   {
    "duration": 232,
    "start_time": "2022-11-24T20:50:16.333Z"
   },
   {
    "duration": 18,
    "start_time": "2022-11-24T20:50:16.568Z"
   },
   {
    "duration": 290,
    "start_time": "2022-11-24T20:50:16.588Z"
   },
   {
    "duration": 8,
    "start_time": "2022-11-24T20:50:16.882Z"
   },
   {
    "duration": 55,
    "start_time": "2022-11-24T20:50:16.891Z"
   },
   {
    "duration": 253,
    "start_time": "2022-11-24T20:50:16.950Z"
   },
   {
    "duration": 12,
    "start_time": "2022-11-24T20:50:17.205Z"
   },
   {
    "duration": 186,
    "start_time": "2022-11-24T20:50:17.218Z"
   },
   {
    "duration": 8,
    "start_time": "2022-11-24T20:50:17.406Z"
   },
   {
    "duration": 396,
    "start_time": "2022-11-24T20:50:17.416Z"
   },
   {
    "duration": 10,
    "start_time": "2022-11-24T20:50:17.814Z"
   },
   {
    "duration": 760,
    "start_time": "2022-11-24T20:50:17.826Z"
   },
   {
    "duration": 205,
    "start_time": "2022-11-24T20:50:18.587Z"
   },
   {
    "duration": 192,
    "start_time": "2022-11-24T20:50:18.794Z"
   },
   {
    "duration": 25,
    "start_time": "2022-11-24T20:50:18.989Z"
   },
   {
    "duration": 27,
    "start_time": "2022-11-24T20:50:19.018Z"
   },
   {
    "duration": 109,
    "start_time": "2022-11-24T20:50:19.047Z"
   },
   {
    "duration": 18,
    "start_time": "2022-11-24T20:50:19.158Z"
   },
   {
    "duration": 26,
    "start_time": "2022-11-24T20:50:19.178Z"
   },
   {
    "duration": 28,
    "start_time": "2022-11-24T20:50:19.205Z"
   },
   {
    "duration": 50,
    "start_time": "2022-11-24T20:50:19.235Z"
   },
   {
    "duration": 52,
    "start_time": "2022-11-24T20:50:19.287Z"
   },
   {
    "duration": 47,
    "start_time": "2022-11-24T20:50:19.341Z"
   },
   {
    "duration": 488,
    "start_time": "2022-11-24T20:50:19.390Z"
   },
   {
    "duration": 16,
    "start_time": "2022-11-24T20:50:19.880Z"
   },
   {
    "duration": 43,
    "start_time": "2022-11-24T20:50:19.898Z"
   },
   {
    "duration": 14,
    "start_time": "2022-11-24T20:52:06.621Z"
   },
   {
    "duration": 713,
    "start_time": "2022-11-24T21:20:12.779Z"
   },
   {
    "duration": 17,
    "start_time": "2022-11-24T21:20:13.494Z"
   },
   {
    "duration": 5,
    "start_time": "2022-11-24T21:20:13.513Z"
   },
   {
    "duration": 22,
    "start_time": "2022-11-24T21:20:13.520Z"
   },
   {
    "duration": 4,
    "start_time": "2022-11-24T21:20:13.544Z"
   },
   {
    "duration": 24,
    "start_time": "2022-11-24T21:20:13.549Z"
   },
   {
    "duration": 5,
    "start_time": "2022-11-24T21:20:13.574Z"
   },
   {
    "duration": 8,
    "start_time": "2022-11-24T21:20:13.581Z"
   },
   {
    "duration": 7,
    "start_time": "2022-11-24T21:20:13.613Z"
   },
   {
    "duration": 8,
    "start_time": "2022-11-24T21:20:13.623Z"
   },
   {
    "duration": 17,
    "start_time": "2022-11-24T21:20:13.633Z"
   },
   {
    "duration": 17,
    "start_time": "2022-11-24T21:20:13.652Z"
   },
   {
    "duration": 78,
    "start_time": "2022-11-24T21:20:13.671Z"
   },
   {
    "duration": 5,
    "start_time": "2022-11-24T21:20:13.751Z"
   },
   {
    "duration": 10,
    "start_time": "2022-11-24T21:20:13.758Z"
   },
   {
    "duration": 11,
    "start_time": "2022-11-24T21:20:13.770Z"
   },
   {
    "duration": 50,
    "start_time": "2022-11-24T21:20:13.784Z"
   },
   {
    "duration": 6,
    "start_time": "2022-11-24T21:20:13.836Z"
   },
   {
    "duration": 14,
    "start_time": "2022-11-24T21:20:13.843Z"
   },
   {
    "duration": 32,
    "start_time": "2022-11-24T21:20:13.859Z"
   },
   {
    "duration": 8,
    "start_time": "2022-11-24T21:20:13.893Z"
   },
   {
    "duration": 24,
    "start_time": "2022-11-24T21:20:13.903Z"
   },
   {
    "duration": 223,
    "start_time": "2022-11-24T21:20:13.930Z"
   },
   {
    "duration": 16,
    "start_time": "2022-11-24T21:20:14.155Z"
   },
   {
    "duration": 257,
    "start_time": "2022-11-24T21:20:14.173Z"
   },
   {
    "duration": 8,
    "start_time": "2022-11-24T21:20:14.432Z"
   },
   {
    "duration": 32,
    "start_time": "2022-11-24T21:20:14.442Z"
   },
   {
    "duration": 225,
    "start_time": "2022-11-24T21:20:14.479Z"
   },
   {
    "duration": 8,
    "start_time": "2022-11-24T21:20:14.706Z"
   },
   {
    "duration": 209,
    "start_time": "2022-11-24T21:20:14.716Z"
   },
   {
    "duration": 10,
    "start_time": "2022-11-24T21:20:14.928Z"
   },
   {
    "duration": 365,
    "start_time": "2022-11-24T21:20:14.940Z"
   },
   {
    "duration": 12,
    "start_time": "2022-11-24T21:20:15.307Z"
   },
   {
    "duration": 769,
    "start_time": "2022-11-24T21:20:15.321Z"
   },
   {
    "duration": 232,
    "start_time": "2022-11-24T21:20:16.092Z"
   },
   {
    "duration": 236,
    "start_time": "2022-11-24T21:20:16.326Z"
   },
   {
    "duration": 24,
    "start_time": "2022-11-24T21:20:16.564Z"
   },
   {
    "duration": 11,
    "start_time": "2022-11-24T21:20:16.590Z"
   },
   {
    "duration": 87,
    "start_time": "2022-11-24T21:20:16.604Z"
   },
   {
    "duration": 31,
    "start_time": "2022-11-24T21:20:16.693Z"
   },
   {
    "duration": 35,
    "start_time": "2022-11-24T21:20:16.726Z"
   },
   {
    "duration": 20,
    "start_time": "2022-11-24T21:20:16.763Z"
   },
   {
    "duration": 33,
    "start_time": "2022-11-24T21:20:16.785Z"
   },
   {
    "duration": 20,
    "start_time": "2022-11-24T21:20:16.820Z"
   },
   {
    "duration": 25,
    "start_time": "2022-11-24T21:20:16.842Z"
   },
   {
    "duration": 527,
    "start_time": "2022-11-24T21:20:16.869Z"
   },
   {
    "duration": 18,
    "start_time": "2022-11-24T21:20:17.398Z"
   },
   {
    "duration": 22,
    "start_time": "2022-11-24T21:20:17.418Z"
   },
   {
    "duration": 664,
    "start_time": "2022-11-24T21:25:57.666Z"
   },
   {
    "duration": 20,
    "start_time": "2022-11-24T21:25:58.333Z"
   },
   {
    "duration": 3,
    "start_time": "2022-11-24T21:25:58.355Z"
   },
   {
    "duration": 25,
    "start_time": "2022-11-24T21:25:58.360Z"
   },
   {
    "duration": 5,
    "start_time": "2022-11-24T21:25:58.386Z"
   },
   {
    "duration": 35,
    "start_time": "2022-11-24T21:25:58.392Z"
   },
   {
    "duration": 8,
    "start_time": "2022-11-24T21:25:58.430Z"
   },
   {
    "duration": 9,
    "start_time": "2022-11-24T21:25:58.439Z"
   },
   {
    "duration": 9,
    "start_time": "2022-11-24T21:25:58.450Z"
   },
   {
    "duration": 6,
    "start_time": "2022-11-24T21:25:58.462Z"
   },
   {
    "duration": 18,
    "start_time": "2022-11-24T21:25:58.476Z"
   },
   {
    "duration": 29,
    "start_time": "2022-11-24T21:25:58.496Z"
   },
   {
    "duration": 39,
    "start_time": "2022-11-24T21:25:58.528Z"
   },
   {
    "duration": 5,
    "start_time": "2022-11-24T21:25:58.569Z"
   },
   {
    "duration": 9,
    "start_time": "2022-11-24T21:25:58.576Z"
   },
   {
    "duration": 6,
    "start_time": "2022-11-24T21:25:58.587Z"
   },
   {
    "duration": 41,
    "start_time": "2022-11-24T21:25:58.595Z"
   },
   {
    "duration": 4,
    "start_time": "2022-11-24T21:25:58.638Z"
   },
   {
    "duration": 15,
    "start_time": "2022-11-24T21:25:58.644Z"
   },
   {
    "duration": 17,
    "start_time": "2022-11-24T21:25:58.661Z"
   },
   {
    "duration": 9,
    "start_time": "2022-11-24T21:25:58.680Z"
   },
   {
    "duration": 44,
    "start_time": "2022-11-24T21:25:58.692Z"
   },
   {
    "duration": 231,
    "start_time": "2022-11-24T21:25:58.738Z"
   },
   {
    "duration": 14,
    "start_time": "2022-11-24T21:25:58.971Z"
   },
   {
    "duration": 250,
    "start_time": "2022-11-24T21:25:58.987Z"
   },
   {
    "duration": 8,
    "start_time": "2022-11-24T21:25:59.238Z"
   },
   {
    "duration": 18,
    "start_time": "2022-11-24T21:25:59.247Z"
   },
   {
    "duration": 260,
    "start_time": "2022-11-24T21:25:59.271Z"
   },
   {
    "duration": 6,
    "start_time": "2022-11-24T21:25:59.532Z"
   },
   {
    "duration": 151,
    "start_time": "2022-11-24T21:25:59.539Z"
   },
   {
    "duration": 5,
    "start_time": "2022-11-24T21:25:59.692Z"
   },
   {
    "duration": 369,
    "start_time": "2022-11-24T21:25:59.699Z"
   },
   {
    "duration": 10,
    "start_time": "2022-11-24T21:26:00.070Z"
   },
   {
    "duration": 807,
    "start_time": "2022-11-24T21:26:00.082Z"
   },
   {
    "duration": 233,
    "start_time": "2022-11-24T21:26:00.891Z"
   },
   {
    "duration": 205,
    "start_time": "2022-11-24T21:26:01.127Z"
   },
   {
    "duration": 18,
    "start_time": "2022-11-24T21:26:01.334Z"
   },
   {
    "duration": 26,
    "start_time": "2022-11-24T21:26:01.354Z"
   },
   {
    "duration": 84,
    "start_time": "2022-11-24T21:26:01.383Z"
   },
   {
    "duration": 20,
    "start_time": "2022-11-24T21:26:01.469Z"
   },
   {
    "duration": 39,
    "start_time": "2022-11-24T21:26:01.491Z"
   },
   {
    "duration": 24,
    "start_time": "2022-11-24T21:26:01.532Z"
   },
   {
    "duration": 19,
    "start_time": "2022-11-24T21:26:01.558Z"
   },
   {
    "duration": 20,
    "start_time": "2022-11-24T21:26:01.578Z"
   },
   {
    "duration": 22,
    "start_time": "2022-11-24T21:26:01.616Z"
   },
   {
    "duration": 508,
    "start_time": "2022-11-24T21:26:01.640Z"
   },
   {
    "duration": 17,
    "start_time": "2022-11-24T21:26:02.149Z"
   },
   {
    "duration": 26,
    "start_time": "2022-11-24T21:26:02.168Z"
   },
   {
    "duration": 832,
    "start_time": "2022-11-25T21:37:10.520Z"
   },
   {
    "duration": 96,
    "start_time": "2022-11-25T21:37:21.095Z"
   },
   {
    "duration": 0,
    "start_time": "2022-11-25T21:37:21.194Z"
   },
   {
    "duration": 0,
    "start_time": "2022-11-25T21:37:21.195Z"
   },
   {
    "duration": 0,
    "start_time": "2022-11-25T21:37:21.196Z"
   },
   {
    "duration": 1,
    "start_time": "2022-11-25T21:37:21.197Z"
   },
   {
    "duration": 0,
    "start_time": "2022-11-25T21:37:21.199Z"
   },
   {
    "duration": 0,
    "start_time": "2022-11-25T21:37:21.200Z"
   },
   {
    "duration": 0,
    "start_time": "2022-11-25T21:37:21.202Z"
   },
   {
    "duration": 0,
    "start_time": "2022-11-25T21:37:21.203Z"
   },
   {
    "duration": 0,
    "start_time": "2022-11-25T21:37:21.204Z"
   },
   {
    "duration": 0,
    "start_time": "2022-11-25T21:37:21.205Z"
   },
   {
    "duration": 0,
    "start_time": "2022-11-25T21:37:21.207Z"
   },
   {
    "duration": 0,
    "start_time": "2022-11-25T21:37:21.208Z"
   },
   {
    "duration": 0,
    "start_time": "2022-11-25T21:37:21.210Z"
   },
   {
    "duration": 0,
    "start_time": "2022-11-25T21:37:21.211Z"
   },
   {
    "duration": 0,
    "start_time": "2022-11-25T21:37:21.213Z"
   },
   {
    "duration": 0,
    "start_time": "2022-11-25T21:37:21.214Z"
   },
   {
    "duration": 0,
    "start_time": "2022-11-25T21:37:21.215Z"
   },
   {
    "duration": 0,
    "start_time": "2022-11-25T21:37:21.216Z"
   },
   {
    "duration": 1,
    "start_time": "2022-11-25T21:37:21.219Z"
   },
   {
    "duration": 0,
    "start_time": "2022-11-25T21:37:21.221Z"
   },
   {
    "duration": 0,
    "start_time": "2022-11-25T21:37:21.222Z"
   },
   {
    "duration": 0,
    "start_time": "2022-11-25T21:37:21.223Z"
   },
   {
    "duration": 0,
    "start_time": "2022-11-25T21:37:21.225Z"
   },
   {
    "duration": 92,
    "start_time": "2022-11-25T21:37:21.228Z"
   },
   {
    "duration": 0,
    "start_time": "2022-11-25T21:37:21.322Z"
   },
   {
    "duration": 0,
    "start_time": "2022-11-25T21:37:21.323Z"
   },
   {
    "duration": 0,
    "start_time": "2022-11-25T21:37:21.324Z"
   },
   {
    "duration": 0,
    "start_time": "2022-11-25T21:37:21.325Z"
   },
   {
    "duration": 0,
    "start_time": "2022-11-25T21:37:21.326Z"
   },
   {
    "duration": 0,
    "start_time": "2022-11-25T21:37:21.327Z"
   },
   {
    "duration": 0,
    "start_time": "2022-11-25T21:37:21.328Z"
   },
   {
    "duration": 0,
    "start_time": "2022-11-25T21:37:21.329Z"
   },
   {
    "duration": 0,
    "start_time": "2022-11-25T21:37:21.330Z"
   },
   {
    "duration": 0,
    "start_time": "2022-11-25T21:37:21.331Z"
   },
   {
    "duration": 0,
    "start_time": "2022-11-25T21:37:21.332Z"
   },
   {
    "duration": 0,
    "start_time": "2022-11-25T21:37:21.333Z"
   },
   {
    "duration": 0,
    "start_time": "2022-11-25T21:37:21.334Z"
   },
   {
    "duration": 0,
    "start_time": "2022-11-25T21:37:21.335Z"
   },
   {
    "duration": 0,
    "start_time": "2022-11-25T21:37:21.336Z"
   },
   {
    "duration": 0,
    "start_time": "2022-11-25T21:37:21.337Z"
   },
   {
    "duration": 0,
    "start_time": "2022-11-25T21:37:21.338Z"
   },
   {
    "duration": 0,
    "start_time": "2022-11-25T21:37:21.339Z"
   },
   {
    "duration": 0,
    "start_time": "2022-11-25T21:37:21.340Z"
   },
   {
    "duration": 0,
    "start_time": "2022-11-25T21:37:21.341Z"
   },
   {
    "duration": 0,
    "start_time": "2022-11-25T21:37:21.342Z"
   },
   {
    "duration": 0,
    "start_time": "2022-11-25T21:37:21.343Z"
   },
   {
    "duration": 0,
    "start_time": "2022-11-25T21:37:21.397Z"
   },
   {
    "duration": 11,
    "start_time": "2022-11-25T21:37:21.400Z"
   },
   {
    "duration": 53,
    "start_time": "2022-11-25T21:37:51.492Z"
   },
   {
    "duration": 15,
    "start_time": "2022-11-25T21:37:51.547Z"
   },
   {
    "duration": 9,
    "start_time": "2022-11-25T21:37:51.564Z"
   },
   {
    "duration": 39,
    "start_time": "2022-11-25T21:37:51.575Z"
   },
   {
    "duration": 16,
    "start_time": "2022-11-25T21:37:51.615Z"
   },
   {
    "duration": 38,
    "start_time": "2022-11-25T21:37:51.633Z"
   },
   {
    "duration": 26,
    "start_time": "2022-11-25T21:37:51.673Z"
   },
   {
    "duration": 15,
    "start_time": "2022-11-25T21:37:51.701Z"
   },
   {
    "duration": 16,
    "start_time": "2022-11-25T21:37:51.718Z"
   },
   {
    "duration": 12,
    "start_time": "2022-11-25T21:37:51.737Z"
   },
   {
    "duration": 19,
    "start_time": "2022-11-25T21:37:51.751Z"
   },
   {
    "duration": 27,
    "start_time": "2022-11-25T21:37:51.772Z"
   },
   {
    "duration": 34,
    "start_time": "2022-11-25T21:37:51.801Z"
   },
   {
    "duration": 5,
    "start_time": "2022-11-25T21:37:51.837Z"
   },
   {
    "duration": 11,
    "start_time": "2022-11-25T21:37:51.843Z"
   },
   {
    "duration": 15,
    "start_time": "2022-11-25T21:37:51.855Z"
   },
   {
    "duration": 30,
    "start_time": "2022-11-25T21:37:51.872Z"
   },
   {
    "duration": 5,
    "start_time": "2022-11-25T21:37:51.904Z"
   },
   {
    "duration": 23,
    "start_time": "2022-11-25T21:37:51.910Z"
   },
   {
    "duration": 20,
    "start_time": "2022-11-25T21:37:51.934Z"
   },
   {
    "duration": 9,
    "start_time": "2022-11-25T21:37:51.955Z"
   },
   {
    "duration": 31,
    "start_time": "2022-11-25T21:37:51.966Z"
   },
   {
    "duration": 226,
    "start_time": "2022-11-25T21:37:51.999Z"
   },
   {
    "duration": 15,
    "start_time": "2022-11-25T21:37:52.227Z"
   },
   {
    "duration": 242,
    "start_time": "2022-11-25T21:37:52.244Z"
   },
   {
    "duration": 14,
    "start_time": "2022-11-25T21:37:52.488Z"
   },
   {
    "duration": 18,
    "start_time": "2022-11-25T21:37:52.504Z"
   },
   {
    "duration": 262,
    "start_time": "2022-11-25T21:37:52.527Z"
   },
   {
    "duration": 272,
    "start_time": "2022-11-25T21:37:52.791Z"
   },
   {
    "duration": 6,
    "start_time": "2022-11-25T21:37:53.066Z"
   },
   {
    "duration": 193,
    "start_time": "2022-11-25T21:37:53.074Z"
   },
   {
    "duration": 5,
    "start_time": "2022-11-25T21:37:53.269Z"
   },
   {
    "duration": 286,
    "start_time": "2022-11-25T21:37:53.276Z"
   },
   {
    "duration": 9,
    "start_time": "2022-11-25T21:37:53.564Z"
   },
   {
    "duration": 1149,
    "start_time": "2022-11-25T21:37:53.574Z"
   },
   {
    "duration": 268,
    "start_time": "2022-11-25T21:37:54.724Z"
   },
   {
    "duration": 215,
    "start_time": "2022-11-25T21:37:54.996Z"
   },
   {
    "duration": 16,
    "start_time": "2022-11-25T21:37:55.213Z"
   },
   {
    "duration": 5,
    "start_time": "2022-11-25T21:37:55.231Z"
   },
   {
    "duration": 69,
    "start_time": "2022-11-25T21:37:55.237Z"
   },
   {
    "duration": 17,
    "start_time": "2022-11-25T21:37:55.308Z"
   },
   {
    "duration": 24,
    "start_time": "2022-11-25T21:37:55.327Z"
   },
   {
    "duration": 15,
    "start_time": "2022-11-25T21:37:55.352Z"
   },
   {
    "duration": 31,
    "start_time": "2022-11-25T21:37:55.368Z"
   },
   {
    "duration": 16,
    "start_time": "2022-11-25T21:37:55.401Z"
   },
   {
    "duration": 23,
    "start_time": "2022-11-25T21:37:55.419Z"
   },
   {
    "duration": 419,
    "start_time": "2022-11-25T21:37:55.444Z"
   },
   {
    "duration": 14,
    "start_time": "2022-11-25T21:37:55.865Z"
   },
   {
    "duration": 28,
    "start_time": "2022-11-25T21:37:55.881Z"
   },
   {
    "duration": 52,
    "start_time": "2022-11-25T21:44:21.677Z"
   },
   {
    "duration": 46,
    "start_time": "2022-11-25T21:44:38.099Z"
   },
   {
    "duration": 61,
    "start_time": "2022-11-25T21:44:49.112Z"
   },
   {
    "duration": 45,
    "start_time": "2022-11-25T21:45:09.711Z"
   },
   {
    "duration": 55,
    "start_time": "2022-11-25T21:45:15.829Z"
   },
   {
    "duration": 54,
    "start_time": "2022-11-25T21:45:33.955Z"
   },
   {
    "duration": 47,
    "start_time": "2022-11-25T21:45:40.812Z"
   },
   {
    "duration": 48,
    "start_time": "2022-11-25T21:45:50.897Z"
   },
   {
    "duration": 41,
    "start_time": "2022-11-25T21:46:04.290Z"
   },
   {
    "duration": 44,
    "start_time": "2022-11-25T21:46:16.937Z"
   },
   {
    "duration": 0,
    "start_time": "2022-11-25T21:46:16.983Z"
   },
   {
    "duration": 0,
    "start_time": "2022-11-25T21:46:16.984Z"
   },
   {
    "duration": 0,
    "start_time": "2022-11-25T21:46:16.985Z"
   },
   {
    "duration": 0,
    "start_time": "2022-11-25T21:46:16.986Z"
   },
   {
    "duration": 0,
    "start_time": "2022-11-25T21:46:16.987Z"
   },
   {
    "duration": 0,
    "start_time": "2022-11-25T21:46:16.987Z"
   },
   {
    "duration": 0,
    "start_time": "2022-11-25T21:46:16.989Z"
   },
   {
    "duration": 0,
    "start_time": "2022-11-25T21:46:16.989Z"
   },
   {
    "duration": 0,
    "start_time": "2022-11-25T21:46:16.990Z"
   },
   {
    "duration": 0,
    "start_time": "2022-11-25T21:46:16.991Z"
   },
   {
    "duration": 45,
    "start_time": "2022-11-25T21:46:16.993Z"
   },
   {
    "duration": 0,
    "start_time": "2022-11-25T21:46:17.041Z"
   },
   {
    "duration": 0,
    "start_time": "2022-11-25T21:46:17.042Z"
   },
   {
    "duration": 0,
    "start_time": "2022-11-25T21:46:17.043Z"
   },
   {
    "duration": 0,
    "start_time": "2022-11-25T21:46:17.044Z"
   },
   {
    "duration": 0,
    "start_time": "2022-11-25T21:46:17.045Z"
   },
   {
    "duration": 0,
    "start_time": "2022-11-25T21:46:17.046Z"
   },
   {
    "duration": 0,
    "start_time": "2022-11-25T21:46:17.047Z"
   },
   {
    "duration": 0,
    "start_time": "2022-11-25T21:46:17.048Z"
   },
   {
    "duration": 0,
    "start_time": "2022-11-25T21:46:17.049Z"
   },
   {
    "duration": 0,
    "start_time": "2022-11-25T21:46:17.050Z"
   },
   {
    "duration": 46,
    "start_time": "2022-11-25T21:46:17.051Z"
   },
   {
    "duration": 0,
    "start_time": "2022-11-25T21:46:17.099Z"
   },
   {
    "duration": 6,
    "start_time": "2022-11-25T21:46:17.101Z"
   },
   {
    "duration": 0,
    "start_time": "2022-11-25T21:46:17.109Z"
   },
   {
    "duration": 0,
    "start_time": "2022-11-25T21:46:17.110Z"
   },
   {
    "duration": 0,
    "start_time": "2022-11-25T21:46:17.111Z"
   },
   {
    "duration": 0,
    "start_time": "2022-11-25T21:46:17.112Z"
   },
   {
    "duration": 0,
    "start_time": "2022-11-25T21:46:17.112Z"
   },
   {
    "duration": 0,
    "start_time": "2022-11-25T21:46:17.113Z"
   },
   {
    "duration": 0,
    "start_time": "2022-11-25T21:46:17.114Z"
   },
   {
    "duration": 35,
    "start_time": "2022-11-25T21:46:17.116Z"
   },
   {
    "duration": 1,
    "start_time": "2022-11-25T21:46:17.152Z"
   },
   {
    "duration": 0,
    "start_time": "2022-11-25T21:46:17.153Z"
   },
   {
    "duration": 0,
    "start_time": "2022-11-25T21:46:17.155Z"
   },
   {
    "duration": 0,
    "start_time": "2022-11-25T21:46:17.156Z"
   },
   {
    "duration": 0,
    "start_time": "2022-11-25T21:46:17.157Z"
   },
   {
    "duration": 0,
    "start_time": "2022-11-25T21:46:17.197Z"
   },
   {
    "duration": 15,
    "start_time": "2022-11-25T21:46:17.199Z"
   },
   {
    "duration": 0,
    "start_time": "2022-11-25T21:46:17.215Z"
   },
   {
    "duration": 0,
    "start_time": "2022-11-25T21:46:17.217Z"
   },
   {
    "duration": 0,
    "start_time": "2022-11-25T21:46:17.218Z"
   },
   {
    "duration": 0,
    "start_time": "2022-11-25T21:46:17.219Z"
   },
   {
    "duration": 0,
    "start_time": "2022-11-25T21:46:17.220Z"
   },
   {
    "duration": 0,
    "start_time": "2022-11-25T21:46:17.221Z"
   },
   {
    "duration": 0,
    "start_time": "2022-11-25T21:46:17.222Z"
   },
   {
    "duration": 0,
    "start_time": "2022-11-25T21:46:17.223Z"
   },
   {
    "duration": 1,
    "start_time": "2022-11-25T21:46:17.224Z"
   },
   {
    "duration": 19,
    "start_time": "2022-11-25T21:46:17.226Z"
   },
   {
    "duration": 652,
    "start_time": "2022-11-25T21:47:19.420Z"
   },
   {
    "duration": 15,
    "start_time": "2022-11-25T21:47:20.074Z"
   },
   {
    "duration": 3,
    "start_time": "2022-11-25T21:47:20.090Z"
   },
   {
    "duration": 24,
    "start_time": "2022-11-25T21:47:20.095Z"
   },
   {
    "duration": 5,
    "start_time": "2022-11-25T21:47:20.120Z"
   },
   {
    "duration": 17,
    "start_time": "2022-11-25T21:47:20.126Z"
   },
   {
    "duration": 5,
    "start_time": "2022-11-25T21:47:20.144Z"
   },
   {
    "duration": 12,
    "start_time": "2022-11-25T21:47:20.151Z"
   },
   {
    "duration": 10,
    "start_time": "2022-11-25T21:47:20.165Z"
   },
   {
    "duration": 6,
    "start_time": "2022-11-25T21:47:20.199Z"
   },
   {
    "duration": 13,
    "start_time": "2022-11-25T21:47:20.207Z"
   },
   {
    "duration": 17,
    "start_time": "2022-11-25T21:47:20.222Z"
   },
   {
    "duration": 57,
    "start_time": "2022-11-25T21:47:20.240Z"
   },
   {
    "duration": 5,
    "start_time": "2022-11-25T21:47:20.299Z"
   },
   {
    "duration": 9,
    "start_time": "2022-11-25T21:47:20.305Z"
   },
   {
    "duration": 10,
    "start_time": "2022-11-25T21:47:20.315Z"
   },
   {
    "duration": 30,
    "start_time": "2022-11-25T21:47:20.326Z"
   },
   {
    "duration": 4,
    "start_time": "2022-11-25T21:47:20.358Z"
   },
   {
    "duration": 32,
    "start_time": "2022-11-25T21:47:20.364Z"
   },
   {
    "duration": 16,
    "start_time": "2022-11-25T21:47:20.398Z"
   },
   {
    "duration": 12,
    "start_time": "2022-11-25T21:47:20.416Z"
   },
   {
    "duration": 16,
    "start_time": "2022-11-25T21:47:20.429Z"
   },
   {
    "duration": 220,
    "start_time": "2022-11-25T21:47:20.447Z"
   },
   {
    "duration": 15,
    "start_time": "2022-11-25T21:47:20.669Z"
   },
   {
    "duration": 238,
    "start_time": "2022-11-25T21:47:20.697Z"
   },
   {
    "duration": 8,
    "start_time": "2022-11-25T21:47:20.936Z"
   },
   {
    "duration": 19,
    "start_time": "2022-11-25T21:47:20.945Z"
   },
   {
    "duration": 270,
    "start_time": "2022-11-25T21:47:20.968Z"
   },
   {
    "duration": 277,
    "start_time": "2022-11-25T21:47:21.240Z"
   },
   {
    "duration": 7,
    "start_time": "2022-11-25T21:47:21.519Z"
   },
   {
    "duration": 203,
    "start_time": "2022-11-25T21:47:21.528Z"
   },
   {
    "duration": 5,
    "start_time": "2022-11-25T21:47:21.733Z"
   },
   {
    "duration": 294,
    "start_time": "2022-11-25T21:47:21.740Z"
   },
   {
    "duration": 11,
    "start_time": "2022-11-25T21:47:22.035Z"
   },
   {
    "duration": 1190,
    "start_time": "2022-11-25T21:47:22.047Z"
   },
   {
    "duration": 268,
    "start_time": "2022-11-25T21:47:23.238Z"
   },
   {
    "duration": 204,
    "start_time": "2022-11-25T21:47:23.508Z"
   },
   {
    "duration": 15,
    "start_time": "2022-11-25T21:47:23.714Z"
   },
   {
    "duration": 10,
    "start_time": "2022-11-25T21:47:23.730Z"
   },
   {
    "duration": 70,
    "start_time": "2022-11-25T21:47:23.742Z"
   },
   {
    "duration": 16,
    "start_time": "2022-11-25T21:47:23.813Z"
   },
   {
    "duration": 15,
    "start_time": "2022-11-25T21:47:23.831Z"
   },
   {
    "duration": 21,
    "start_time": "2022-11-25T21:47:23.847Z"
   },
   {
    "duration": 38,
    "start_time": "2022-11-25T21:47:23.869Z"
   },
   {
    "duration": 20,
    "start_time": "2022-11-25T21:47:23.909Z"
   },
   {
    "duration": 20,
    "start_time": "2022-11-25T21:47:23.930Z"
   },
   {
    "duration": 447,
    "start_time": "2022-11-25T21:47:23.951Z"
   },
   {
    "duration": 16,
    "start_time": "2022-11-25T21:47:24.400Z"
   },
   {
    "duration": 24,
    "start_time": "2022-11-25T21:47:24.417Z"
   },
   {
    "duration": 770,
    "start_time": "2022-11-26T10:51:14.068Z"
   },
   {
    "duration": 14,
    "start_time": "2022-11-26T10:51:14.839Z"
   },
   {
    "duration": 3,
    "start_time": "2022-11-26T10:51:14.854Z"
   },
   {
    "duration": 18,
    "start_time": "2022-11-26T10:51:14.858Z"
   },
   {
    "duration": 4,
    "start_time": "2022-11-26T10:51:14.877Z"
   },
   {
    "duration": 17,
    "start_time": "2022-11-26T10:51:14.882Z"
   },
   {
    "duration": 4,
    "start_time": "2022-11-26T10:51:14.901Z"
   },
   {
    "duration": 10,
    "start_time": "2022-11-26T10:51:14.906Z"
   },
   {
    "duration": 10,
    "start_time": "2022-11-26T10:51:14.917Z"
   },
   {
    "duration": 11,
    "start_time": "2022-11-26T10:51:14.929Z"
   },
   {
    "duration": 13,
    "start_time": "2022-11-26T10:51:14.941Z"
   },
   {
    "duration": 23,
    "start_time": "2022-11-26T10:51:14.955Z"
   },
   {
    "duration": 26,
    "start_time": "2022-11-26T10:51:14.980Z"
   },
   {
    "duration": 5,
    "start_time": "2022-11-26T10:51:15.008Z"
   },
   {
    "duration": 13,
    "start_time": "2022-11-26T10:51:15.014Z"
   },
   {
    "duration": 16,
    "start_time": "2022-11-26T10:51:15.029Z"
   },
   {
    "duration": 38,
    "start_time": "2022-11-26T10:51:15.047Z"
   },
   {
    "duration": 4,
    "start_time": "2022-11-26T10:51:15.087Z"
   },
   {
    "duration": 13,
    "start_time": "2022-11-26T10:51:15.093Z"
   },
   {
    "duration": 18,
    "start_time": "2022-11-26T10:51:15.107Z"
   },
   {
    "duration": 12,
    "start_time": "2022-11-26T10:51:15.126Z"
   },
   {
    "duration": 15,
    "start_time": "2022-11-26T10:51:15.140Z"
   },
   {
    "duration": 207,
    "start_time": "2022-11-26T10:51:15.156Z"
   },
   {
    "duration": 22,
    "start_time": "2022-11-26T10:51:15.365Z"
   },
   {
    "duration": 223,
    "start_time": "2022-11-26T10:51:15.389Z"
   },
   {
    "duration": 7,
    "start_time": "2022-11-26T10:51:15.613Z"
   },
   {
    "duration": 16,
    "start_time": "2022-11-26T10:51:15.621Z"
   },
   {
    "duration": 267,
    "start_time": "2022-11-26T10:51:15.640Z"
   },
   {
    "duration": 259,
    "start_time": "2022-11-26T10:51:15.908Z"
   },
   {
    "duration": 18,
    "start_time": "2022-11-26T10:51:16.169Z"
   },
   {
    "duration": 167,
    "start_time": "2022-11-26T10:51:16.188Z"
   },
   {
    "duration": 5,
    "start_time": "2022-11-26T10:51:16.357Z"
   },
   {
    "duration": 256,
    "start_time": "2022-11-26T10:51:16.364Z"
   },
   {
    "duration": 9,
    "start_time": "2022-11-26T10:51:16.622Z"
   },
   {
    "duration": 1018,
    "start_time": "2022-11-26T10:51:16.632Z"
   },
   {
    "duration": 217,
    "start_time": "2022-11-26T10:51:17.652Z"
   },
   {
    "duration": 176,
    "start_time": "2022-11-26T10:51:17.870Z"
   },
   {
    "duration": 14,
    "start_time": "2022-11-26T10:51:18.048Z"
   },
   {
    "duration": 17,
    "start_time": "2022-11-26T10:51:18.064Z"
   },
   {
    "duration": 45,
    "start_time": "2022-11-26T10:51:18.082Z"
   },
   {
    "duration": 16,
    "start_time": "2022-11-26T10:51:18.129Z"
   },
   {
    "duration": 38,
    "start_time": "2022-11-26T10:51:18.147Z"
   },
   {
    "duration": 13,
    "start_time": "2022-11-26T10:51:18.186Z"
   },
   {
    "duration": 17,
    "start_time": "2022-11-26T10:51:18.200Z"
   },
   {
    "duration": 15,
    "start_time": "2022-11-26T10:51:18.218Z"
   },
   {
    "duration": 17,
    "start_time": "2022-11-26T10:51:18.234Z"
   },
   {
    "duration": 374,
    "start_time": "2022-11-26T10:51:18.278Z"
   },
   {
    "duration": 14,
    "start_time": "2022-11-26T10:51:18.653Z"
   },
   {
    "duration": 11,
    "start_time": "2022-11-26T10:51:18.677Z"
   },
   {
    "duration": 893,
    "start_time": "2022-11-26T13:22:18.961Z"
   },
   {
    "duration": 16,
    "start_time": "2022-11-26T13:22:19.856Z"
   },
   {
    "duration": 3,
    "start_time": "2022-11-26T13:22:19.873Z"
   },
   {
    "duration": 22,
    "start_time": "2022-11-26T13:22:19.877Z"
   },
   {
    "duration": 4,
    "start_time": "2022-11-26T13:22:19.903Z"
   },
   {
    "duration": 25,
    "start_time": "2022-11-26T13:22:19.912Z"
   },
   {
    "duration": 11,
    "start_time": "2022-11-26T13:22:19.939Z"
   },
   {
    "duration": 16,
    "start_time": "2022-11-26T13:22:19.952Z"
   },
   {
    "duration": 16,
    "start_time": "2022-11-26T13:22:19.969Z"
   },
   {
    "duration": 8,
    "start_time": "2022-11-26T13:22:19.986Z"
   },
   {
    "duration": 28,
    "start_time": "2022-11-26T13:22:19.995Z"
   },
   {
    "duration": 17,
    "start_time": "2022-11-26T13:22:20.025Z"
   },
   {
    "duration": 35,
    "start_time": "2022-11-26T13:22:20.044Z"
   },
   {
    "duration": 5,
    "start_time": "2022-11-26T13:22:20.083Z"
   },
   {
    "duration": 4,
    "start_time": "2022-11-26T13:22:20.103Z"
   },
   {
    "duration": 16,
    "start_time": "2022-11-26T13:22:20.109Z"
   },
   {
    "duration": 29,
    "start_time": "2022-11-26T13:22:20.127Z"
   },
   {
    "duration": 5,
    "start_time": "2022-11-26T13:22:20.158Z"
   },
   {
    "duration": 13,
    "start_time": "2022-11-26T13:22:20.165Z"
   },
   {
    "duration": 27,
    "start_time": "2022-11-26T13:22:20.180Z"
   },
   {
    "duration": 15,
    "start_time": "2022-11-26T13:22:20.208Z"
   },
   {
    "duration": 22,
    "start_time": "2022-11-26T13:22:20.225Z"
   },
   {
    "duration": 222,
    "start_time": "2022-11-26T13:22:20.249Z"
   },
   {
    "duration": 38,
    "start_time": "2022-11-26T13:22:20.473Z"
   },
   {
    "duration": 225,
    "start_time": "2022-11-26T13:22:20.513Z"
   },
   {
    "duration": 8,
    "start_time": "2022-11-26T13:22:20.740Z"
   },
   {
    "duration": 15,
    "start_time": "2022-11-26T13:22:20.750Z"
   },
   {
    "duration": 296,
    "start_time": "2022-11-26T13:22:20.766Z"
   },
   {
    "duration": 308,
    "start_time": "2022-11-26T13:22:21.063Z"
   },
   {
    "duration": 6,
    "start_time": "2022-11-26T13:22:21.373Z"
   },
   {
    "duration": 191,
    "start_time": "2022-11-26T13:22:21.381Z"
   },
   {
    "duration": 6,
    "start_time": "2022-11-26T13:22:21.574Z"
   },
   {
    "duration": 334,
    "start_time": "2022-11-26T13:22:21.581Z"
   },
   {
    "duration": 10,
    "start_time": "2022-11-26T13:22:21.918Z"
   },
   {
    "duration": 1233,
    "start_time": "2022-11-26T13:22:21.929Z"
   },
   {
    "duration": 278,
    "start_time": "2022-11-26T13:22:23.164Z"
   },
   {
    "duration": 202,
    "start_time": "2022-11-26T13:22:23.443Z"
   },
   {
    "duration": 16,
    "start_time": "2022-11-26T13:22:23.647Z"
   },
   {
    "duration": 6,
    "start_time": "2022-11-26T13:22:23.665Z"
   },
   {
    "duration": 72,
    "start_time": "2022-11-26T13:22:23.673Z"
   },
   {
    "duration": 16,
    "start_time": "2022-11-26T13:22:23.749Z"
   },
   {
    "duration": 44,
    "start_time": "2022-11-26T13:22:23.766Z"
   },
   {
    "duration": 18,
    "start_time": "2022-11-26T13:22:23.812Z"
   },
   {
    "duration": 16,
    "start_time": "2022-11-26T13:22:23.831Z"
   },
   {
    "duration": 18,
    "start_time": "2022-11-26T13:22:23.849Z"
   },
   {
    "duration": 36,
    "start_time": "2022-11-26T13:22:23.869Z"
   },
   {
    "duration": 411,
    "start_time": "2022-11-26T13:22:23.906Z"
   },
   {
    "duration": 15,
    "start_time": "2022-11-26T13:22:24.319Z"
   },
   {
    "duration": 23,
    "start_time": "2022-11-26T13:22:24.336Z"
   }
  ],
  "kernelspec": {
   "display_name": "Python 3.8.10 64-bit",
   "language": "python",
   "name": "python3"
  },
  "language_info": {
   "codemirror_mode": {
    "name": "ipython",
    "version": 3
   },
   "file_extension": ".py",
   "mimetype": "text/x-python",
   "name": "python",
   "nbconvert_exporter": "python",
   "pygments_lexer": "ipython3",
   "version": "3.8.10"
  },
  "toc": {
   "base_numbering": 1,
   "nav_menu": {},
   "number_sections": true,
   "sideBar": true,
   "skip_h1_title": true,
   "title_cell": "Table of Contents",
   "title_sidebar": "Contents",
   "toc_cell": false,
   "toc_position": {},
   "toc_section_display": true,
   "toc_window_display": true
  },
  "vscode": {
   "interpreter": {
    "hash": "57af744e5dee35e0009adc335841f09ed4f1048db6405c17d71203c777556588"
   }
  }
 },
 "nbformat": 4,
 "nbformat_minor": 2
}
